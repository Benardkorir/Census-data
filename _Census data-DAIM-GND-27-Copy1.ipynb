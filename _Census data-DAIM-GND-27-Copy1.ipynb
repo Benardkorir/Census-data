{
 "cells": [
  {
   "cell_type": "markdown",
   "id": "f751b3b2",
   "metadata": {},
   "source": [
    "# Census project"
   ]
  },
  {
   "cell_type": "code",
   "execution_count": 1,
   "id": "de3fb70f",
   "metadata": {
    "scrolled": true
   },
   "outputs": [
    {
     "name": "stdout",
     "output_type": "stream",
     "text": [
      "Requirement already satisfied: seaborn in c:\\users\\administrator\\appdata\\local\\programs\\python\\python311\\lib\\site-packages (0.12.2)\n",
      "Requirement already satisfied: numpy!=1.24.0,>=1.17 in c:\\users\\administrator\\appdata\\local\\programs\\python\\python311\\lib\\site-packages (from seaborn) (1.23.5)\n",
      "Requirement already satisfied: pandas>=0.25 in c:\\users\\administrator\\appdata\\local\\programs\\python\\python311\\lib\\site-packages (from seaborn) (1.5.3)\n",
      "Requirement already satisfied: matplotlib!=3.6.1,>=3.1 in c:\\users\\administrator\\appdata\\local\\programs\\python\\python311\\lib\\site-packages (from seaborn) (3.7.0)\n",
      "Requirement already satisfied: contourpy>=1.0.1 in c:\\users\\administrator\\appdata\\local\\programs\\python\\python311\\lib\\site-packages (from matplotlib!=3.6.1,>=3.1->seaborn) (1.0.7)\n",
      "Requirement already satisfied: cycler>=0.10 in c:\\users\\administrator\\appdata\\local\\programs\\python\\python311\\lib\\site-packages (from matplotlib!=3.6.1,>=3.1->seaborn) (0.11.0)\n",
      "Requirement already satisfied: fonttools>=4.22.0 in c:\\users\\administrator\\appdata\\local\\programs\\python\\python311\\lib\\site-packages (from matplotlib!=3.6.1,>=3.1->seaborn) (4.38.0)\n",
      "Requirement already satisfied: kiwisolver>=1.0.1 in c:\\users\\administrator\\appdata\\local\\programs\\python\\python311\\lib\\site-packages (from matplotlib!=3.6.1,>=3.1->seaborn) (1.4.4)\n",
      "Requirement already satisfied: packaging>=20.0 in c:\\users\\administrator\\appdata\\local\\programs\\python\\python311\\lib\\site-packages (from matplotlib!=3.6.1,>=3.1->seaborn) (23.0)\n",
      "Requirement already satisfied: pillow>=6.2.0 in c:\\users\\administrator\\appdata\\local\\programs\\python\\python311\\lib\\site-packages (from matplotlib!=3.6.1,>=3.1->seaborn) (9.4.0)\n",
      "Requirement already satisfied: pyparsing>=2.3.1 in c:\\users\\administrator\\appdata\\local\\programs\\python\\python311\\lib\\site-packages (from matplotlib!=3.6.1,>=3.1->seaborn) (3.0.9)\n",
      "Requirement already satisfied: python-dateutil>=2.7 in c:\\users\\administrator\\appdata\\local\\programs\\python\\python311\\lib\\site-packages (from matplotlib!=3.6.1,>=3.1->seaborn) (2.8.2)\n",
      "Requirement already satisfied: pytz>=2020.1 in c:\\users\\administrator\\appdata\\local\\programs\\python\\python311\\lib\\site-packages (from pandas>=0.25->seaborn) (2022.7.1)\n",
      "Requirement already satisfied: six>=1.5 in c:\\users\\administrator\\appdata\\local\\programs\\python\\python311\\lib\\site-packages (from python-dateutil>=2.7->matplotlib!=3.6.1,>=3.1->seaborn) (1.16.0)\n"
     ]
    }
   ],
   "source": [
    "!pip install seaborn"
   ]
  },
  {
   "cell_type": "code",
   "execution_count": 2,
   "id": "b7e26d79",
   "metadata": {},
   "outputs": [
    {
     "name": "stdout",
     "output_type": "stream",
     "text": [
      "Requirement already satisfied: seaborn in c:\\users\\administrator\\appdata\\local\\programs\\python\\python311\\lib\\site-packages (0.12.2)\n",
      "Requirement already satisfied: numpy!=1.24.0,>=1.17 in c:\\users\\administrator\\appdata\\local\\programs\\python\\python311\\lib\\site-packages (from seaborn) (1.23.5)\n",
      "Requirement already satisfied: pandas>=0.25 in c:\\users\\administrator\\appdata\\local\\programs\\python\\python311\\lib\\site-packages (from seaborn) (1.5.3)\n",
      "Requirement already satisfied: matplotlib!=3.6.1,>=3.1 in c:\\users\\administrator\\appdata\\local\\programs\\python\\python311\\lib\\site-packages (from seaborn) (3.7.0)\n",
      "Requirement already satisfied: contourpy>=1.0.1 in c:\\users\\administrator\\appdata\\local\\programs\\python\\python311\\lib\\site-packages (from matplotlib!=3.6.1,>=3.1->seaborn) (1.0.7)\n",
      "Requirement already satisfied: cycler>=0.10 in c:\\users\\administrator\\appdata\\local\\programs\\python\\python311\\lib\\site-packages (from matplotlib!=3.6.1,>=3.1->seaborn) (0.11.0)\n",
      "Requirement already satisfied: fonttools>=4.22.0 in c:\\users\\administrator\\appdata\\local\\programs\\python\\python311\\lib\\site-packages (from matplotlib!=3.6.1,>=3.1->seaborn) (4.38.0)\n",
      "Requirement already satisfied: kiwisolver>=1.0.1 in c:\\users\\administrator\\appdata\\local\\programs\\python\\python311\\lib\\site-packages (from matplotlib!=3.6.1,>=3.1->seaborn) (1.4.4)\n",
      "Requirement already satisfied: packaging>=20.0 in c:\\users\\administrator\\appdata\\local\\programs\\python\\python311\\lib\\site-packages (from matplotlib!=3.6.1,>=3.1->seaborn) (23.0)\n",
      "Requirement already satisfied: pillow>=6.2.0 in c:\\users\\administrator\\appdata\\local\\programs\\python\\python311\\lib\\site-packages (from matplotlib!=3.6.1,>=3.1->seaborn) (9.4.0)\n",
      "Requirement already satisfied: pyparsing>=2.3.1 in c:\\users\\administrator\\appdata\\local\\programs\\python\\python311\\lib\\site-packages (from matplotlib!=3.6.1,>=3.1->seaborn) (3.0.9)\n",
      "Requirement already satisfied: python-dateutil>=2.7 in c:\\users\\administrator\\appdata\\local\\programs\\python\\python311\\lib\\site-packages (from matplotlib!=3.6.1,>=3.1->seaborn) (2.8.2)\n",
      "Requirement already satisfied: pytz>=2020.1 in c:\\users\\administrator\\appdata\\local\\programs\\python\\python311\\lib\\site-packages (from pandas>=0.25->seaborn) (2022.7.1)\n",
      "Requirement already satisfied: six>=1.5 in c:\\users\\administrator\\appdata\\local\\programs\\python\\python311\\lib\\site-packages (from python-dateutil>=2.7->matplotlib!=3.6.1,>=3.1->seaborn) (1.16.0)\n"
     ]
    }
   ],
   "source": [
    "!pip install seaborn"
   ]
  },
  {
   "cell_type": "code",
   "execution_count": 3,
   "id": "6c0df86f",
   "metadata": {
    "scrolled": true
   },
   "outputs": [],
   "source": [
    "import numpy as np\n",
    "import csv\n",
    "import pandas as pd\n",
    "import json\n",
    "import seaborn as sns"
   ]
  },
  {
   "cell_type": "code",
   "execution_count": 4,
   "id": "6c64b774",
   "metadata": {},
   "outputs": [],
   "source": [
    "# Load your data into a DataFrame\n",
    "census_df = pd.read_csv(\"./census06 - Copy.csv\")\n"
   ]
  },
  {
   "cell_type": "code",
   "execution_count": 5,
   "id": "4aa25cea",
   "metadata": {
    "scrolled": true
   },
   "outputs": [
    {
     "data": {
      "text/html": [
       "<div>\n",
       "<style scoped>\n",
       "    .dataframe tbody tr th:only-of-type {\n",
       "        vertical-align: middle;\n",
       "    }\n",
       "\n",
       "    .dataframe tbody tr th {\n",
       "        vertical-align: top;\n",
       "    }\n",
       "\n",
       "    .dataframe thead th {\n",
       "        text-align: right;\n",
       "    }\n",
       "</style>\n",
       "<table border=\"1\" class=\"dataframe\">\n",
       "  <thead>\n",
       "    <tr style=\"text-align: right;\">\n",
       "      <th></th>\n",
       "      <th>House Number</th>\n",
       "      <th>Street</th>\n",
       "      <th>First Name</th>\n",
       "      <th>Surname</th>\n",
       "      <th>Age</th>\n",
       "      <th>Relationship to Head of House</th>\n",
       "      <th>Marital Status</th>\n",
       "      <th>Gender</th>\n",
       "      <th>Occupation</th>\n",
       "      <th>Infirmity</th>\n",
       "      <th>Religion</th>\n",
       "    </tr>\n",
       "  </thead>\n",
       "  <tbody>\n",
       "    <tr>\n",
       "      <th>0</th>\n",
       "      <td>1</td>\n",
       "      <td>Scott Dale</td>\n",
       "      <td>Maureen</td>\n",
       "      <td>Cox</td>\n",
       "      <td>50</td>\n",
       "      <td>Head</td>\n",
       "      <td>Single</td>\n",
       "      <td>Female</td>\n",
       "      <td>Engineer, building services</td>\n",
       "      <td>None</td>\n",
       "      <td>Catholic</td>\n",
       "    </tr>\n",
       "    <tr>\n",
       "      <th>1</th>\n",
       "      <td>1</td>\n",
       "      <td>Scott Dale</td>\n",
       "      <td>Rhys</td>\n",
       "      <td>Brown</td>\n",
       "      <td>52</td>\n",
       "      <td>Partner</td>\n",
       "      <td>Single</td>\n",
       "      <td>Male</td>\n",
       "      <td>Engineer, mining</td>\n",
       "      <td>None</td>\n",
       "      <td>Catholic</td>\n",
       "    </tr>\n",
       "    <tr>\n",
       "      <th>2</th>\n",
       "      <td>2</td>\n",
       "      <td>Scott Dale</td>\n",
       "      <td>Lorraine</td>\n",
       "      <td>Allen</td>\n",
       "      <td>69</td>\n",
       "      <td>Head</td>\n",
       "      <td>Married</td>\n",
       "      <td>Female</td>\n",
       "      <td>Unemployed</td>\n",
       "      <td>None</td>\n",
       "      <td>Methodist</td>\n",
       "    </tr>\n",
       "    <tr>\n",
       "      <th>3</th>\n",
       "      <td>2</td>\n",
       "      <td>Scott Dale</td>\n",
       "      <td>Lewis</td>\n",
       "      <td>Allen</td>\n",
       "      <td>72</td>\n",
       "      <td>Husband</td>\n",
       "      <td>Married</td>\n",
       "      <td>Male</td>\n",
       "      <td>Retired Associate Professor</td>\n",
       "      <td>None</td>\n",
       "      <td>Methodist</td>\n",
       "    </tr>\n",
       "    <tr>\n",
       "      <th>4</th>\n",
       "      <td>3</td>\n",
       "      <td>Scott Dale</td>\n",
       "      <td>Molly</td>\n",
       "      <td>Patel</td>\n",
       "      <td>36</td>\n",
       "      <td>Head</td>\n",
       "      <td>Married</td>\n",
       "      <td>Female</td>\n",
       "      <td>Engineer, land</td>\n",
       "      <td>None</td>\n",
       "      <td>None</td>\n",
       "    </tr>\n",
       "    <tr>\n",
       "      <th>...</th>\n",
       "      <td>...</td>\n",
       "      <td>...</td>\n",
       "      <td>...</td>\n",
       "      <td>...</td>\n",
       "      <td>...</td>\n",
       "      <td>...</td>\n",
       "      <td>...</td>\n",
       "      <td>...</td>\n",
       "      <td>...</td>\n",
       "      <td>...</td>\n",
       "      <td>...</td>\n",
       "    </tr>\n",
       "    <tr>\n",
       "      <th>8324</th>\n",
       "      <td>1</td>\n",
       "      <td>Walker Palace</td>\n",
       "      <td>Adrian</td>\n",
       "      <td>Mason</td>\n",
       "      <td>56</td>\n",
       "      <td>Lodger</td>\n",
       "      <td>Single</td>\n",
       "      <td>Male</td>\n",
       "      <td>Unemployed</td>\n",
       "      <td>None</td>\n",
       "      <td>Muslim</td>\n",
       "    </tr>\n",
       "    <tr>\n",
       "      <th>8325</th>\n",
       "      <td>1</td>\n",
       "      <td>Poole Stronghold</td>\n",
       "      <td>Beth</td>\n",
       "      <td>Evans</td>\n",
       "      <td>43</td>\n",
       "      <td>Head</td>\n",
       "      <td>Married</td>\n",
       "      <td>Female</td>\n",
       "      <td>Buyer, retail</td>\n",
       "      <td>None</td>\n",
       "      <td>Christian</td>\n",
       "    </tr>\n",
       "    <tr>\n",
       "      <th>8326</th>\n",
       "      <td>1</td>\n",
       "      <td>Poole Stronghold</td>\n",
       "      <td>Trevor</td>\n",
       "      <td>Evans</td>\n",
       "      <td>43</td>\n",
       "      <td>Husband</td>\n",
       "      <td>Married</td>\n",
       "      <td>Male</td>\n",
       "      <td>Patent examiner</td>\n",
       "      <td>None</td>\n",
       "      <td>Christian</td>\n",
       "    </tr>\n",
       "    <tr>\n",
       "      <th>8327</th>\n",
       "      <td>1</td>\n",
       "      <td>Poole Stronghold</td>\n",
       "      <td>Pamela</td>\n",
       "      <td>Evans</td>\n",
       "      <td>0</td>\n",
       "      <td>Daughter</td>\n",
       "      <td>NaN</td>\n",
       "      <td>Female</td>\n",
       "      <td>Child</td>\n",
       "      <td>None</td>\n",
       "      <td>NaN</td>\n",
       "    </tr>\n",
       "    <tr>\n",
       "      <th>8328</th>\n",
       "      <td>1</td>\n",
       "      <td>Poole Stronghold</td>\n",
       "      <td>Carol</td>\n",
       "      <td>Thomas</td>\n",
       "      <td>24</td>\n",
       "      <td>Sibling</td>\n",
       "      <td>Single</td>\n",
       "      <td>Female</td>\n",
       "      <td>Administrator, charities/voluntary organisations</td>\n",
       "      <td>None</td>\n",
       "      <td>Christian</td>\n",
       "    </tr>\n",
       "  </tbody>\n",
       "</table>\n",
       "<p>8329 rows × 11 columns</p>\n",
       "</div>"
      ],
      "text/plain": [
       "      House Number            Street First Name Surname Age  \\\n",
       "0                1        Scott Dale    Maureen     Cox  50   \n",
       "1                1        Scott Dale       Rhys   Brown  52   \n",
       "2                2        Scott Dale   Lorraine   Allen  69   \n",
       "3                2        Scott Dale      Lewis   Allen  72   \n",
       "4                3        Scott Dale      Molly   Patel  36   \n",
       "...            ...               ...        ...     ...  ..   \n",
       "8324             1     Walker Palace     Adrian   Mason  56   \n",
       "8325             1  Poole Stronghold       Beth   Evans  43   \n",
       "8326             1  Poole Stronghold     Trevor   Evans  43   \n",
       "8327             1  Poole Stronghold     Pamela   Evans   0   \n",
       "8328             1  Poole Stronghold      Carol  Thomas  24   \n",
       "\n",
       "     Relationship to Head of House Marital Status  Gender  \\\n",
       "0                             Head         Single  Female   \n",
       "1                          Partner         Single    Male   \n",
       "2                             Head        Married  Female   \n",
       "3                          Husband        Married    Male   \n",
       "4                             Head        Married  Female   \n",
       "...                            ...            ...     ...   \n",
       "8324                        Lodger         Single    Male   \n",
       "8325                          Head        Married  Female   \n",
       "8326                       Husband        Married    Male   \n",
       "8327                      Daughter            NaN  Female   \n",
       "8328                       Sibling         Single  Female   \n",
       "\n",
       "                                            Occupation Infirmity   Religion  \n",
       "0                          Engineer, building services      None   Catholic  \n",
       "1                                     Engineer, mining      None   Catholic  \n",
       "2                                           Unemployed      None  Methodist  \n",
       "3                          Retired Associate Professor      None  Methodist  \n",
       "4                                       Engineer, land      None       None  \n",
       "...                                                ...       ...        ...  \n",
       "8324                                        Unemployed      None     Muslim  \n",
       "8325                                     Buyer, retail      None  Christian  \n",
       "8326                                   Patent examiner      None  Christian  \n",
       "8327                                             Child      None        NaN  \n",
       "8328  Administrator, charities/voluntary organisations      None  Christian  \n",
       "\n",
       "[8329 rows x 11 columns]"
      ]
     },
     "execution_count": 5,
     "metadata": {},
     "output_type": "execute_result"
    }
   ],
   "source": [
    "census_df"
   ]
  },
  {
   "cell_type": "code",
   "execution_count": 6,
   "id": "a0054ebf",
   "metadata": {
    "scrolled": true
   },
   "outputs": [
    {
     "name": "stdout",
     "output_type": "stream",
     "text": [
      "<class 'pandas.core.frame.DataFrame'>\n",
      "RangeIndex: 8329 entries, 0 to 8328\n",
      "Data columns (total 11 columns):\n",
      " #   Column                         Non-Null Count  Dtype \n",
      "---  ------                         --------------  ----- \n",
      " 0   House Number                   8329 non-null   int64 \n",
      " 1   Street                         8329 non-null   object\n",
      " 2   First Name                     8329 non-null   object\n",
      " 3   Surname                        8329 non-null   object\n",
      " 4   Age                            8329 non-null   object\n",
      " 5   Relationship to Head of House  8329 non-null   object\n",
      " 6   Marital Status                 6273 non-null   object\n",
      " 7   Gender                         8329 non-null   object\n",
      " 8   Occupation                     8329 non-null   object\n",
      " 9   Infirmity                      8329 non-null   object\n",
      " 10  Religion                       6224 non-null   object\n",
      "dtypes: int64(1), object(10)\n",
      "memory usage: 715.9+ KB\n"
     ]
    }
   ],
   "source": [
    "census_df.info()"
   ]
  },
  {
   "cell_type": "code",
   "execution_count": 7,
   "id": "28474e2b",
   "metadata": {},
   "outputs": [
    {
     "data": {
      "text/plain": [
       "House Number                        0\n",
       "Street                              0\n",
       "First Name                          0\n",
       "Surname                             0\n",
       "Age                                 0\n",
       "Relationship to Head of House       0\n",
       "Marital Status                   2056\n",
       "Gender                              0\n",
       "Occupation                          0\n",
       "Infirmity                           0\n",
       "Religion                         2105\n",
       "dtype: int64"
      ]
     },
     "execution_count": 7,
     "metadata": {},
     "output_type": "execute_result"
    }
   ],
   "source": [
    "census_df.isna().sum()"
   ]
  },
  {
   "cell_type": "code",
   "execution_count": 8,
   "id": "28bb52ec",
   "metadata": {
    "scrolled": false
   },
   "outputs": [
    {
     "name": "stdout",
     "output_type": "stream",
     "text": [
      "<class 'pandas.core.frame.DataFrame'>\n",
      "RangeIndex: 8329 entries, 0 to 8328\n",
      "Data columns (total 11 columns):\n",
      " #   Column                         Non-Null Count  Dtype \n",
      "---  ------                         --------------  ----- \n",
      " 0   House Number                   8329 non-null   int64 \n",
      " 1   Street                         8329 non-null   object\n",
      " 2   First Name                     8328 non-null   object\n",
      " 3   Surname                        8328 non-null   object\n",
      " 4   Age                            8327 non-null   object\n",
      " 5   Relationship to Head of House  8329 non-null   object\n",
      " 6   Marital Status                 6270 non-null   object\n",
      " 7   Gender                         8329 non-null   object\n",
      " 8   Occupation                     8329 non-null   object\n",
      " 9   Infirmity                      8321 non-null   object\n",
      " 10  Religion                       6220 non-null   object\n",
      "dtypes: int64(1), object(10)\n",
      "memory usage: 715.9+ KB\n"
     ]
    }
   ],
   "source": [
    "# Import the numpy library\n",
    "import numpy as np\n",
    "# Replace all blank spaces in the dataframe with NaN values using a regular expression\n",
    "census_dataframe = census_df.replace(r'^\\s*$', np.nan, regex=True)\n",
    "# Display information about the dataframe\n",
    "census_dataframe.info()"
   ]
  },
  {
   "cell_type": "code",
   "execution_count": 9,
   "id": "f7238e6a",
   "metadata": {},
   "outputs": [
    {
     "data": {
      "text/plain": [
       "House Number                        0\n",
       "Street                              0\n",
       "First Name                          1\n",
       "Surname                             1\n",
       "Age                                 2\n",
       "Relationship to Head of House       0\n",
       "Marital Status                   2059\n",
       "Gender                              0\n",
       "Occupation                          0\n",
       "Infirmity                           8\n",
       "Religion                         2109\n",
       "dtype: int64"
      ]
     },
     "execution_count": 9,
     "metadata": {},
     "output_type": "execute_result"
    }
   ],
   "source": [
    "census_dataframe.isna().sum()"
   ]
  },
  {
   "cell_type": "markdown",
   "id": "483ffda1",
   "metadata": {},
   "source": [
    "# Names column"
   ]
  },
  {
   "cell_type": "code",
   "execution_count": 10,
   "id": "0f38637d",
   "metadata": {
    "scrolled": false
   },
   "outputs": [
    {
     "data": {
      "text/html": [
       "<div>\n",
       "<style scoped>\n",
       "    .dataframe tbody tr th:only-of-type {\n",
       "        vertical-align: middle;\n",
       "    }\n",
       "\n",
       "    .dataframe tbody tr th {\n",
       "        vertical-align: top;\n",
       "    }\n",
       "\n",
       "    .dataframe thead th {\n",
       "        text-align: right;\n",
       "    }\n",
       "</style>\n",
       "<table border=\"1\" class=\"dataframe\">\n",
       "  <thead>\n",
       "    <tr style=\"text-align: right;\">\n",
       "      <th></th>\n",
       "      <th>House Number</th>\n",
       "      <th>Street</th>\n",
       "      <th>First Name</th>\n",
       "      <th>Surname</th>\n",
       "      <th>Age</th>\n",
       "      <th>Relationship to Head of House</th>\n",
       "      <th>Marital Status</th>\n",
       "      <th>Gender</th>\n",
       "      <th>Occupation</th>\n",
       "      <th>Infirmity</th>\n",
       "      <th>Religion</th>\n",
       "    </tr>\n",
       "  </thead>\n",
       "  <tbody>\n",
       "    <tr>\n",
       "      <th>7258</th>\n",
       "      <td>10</td>\n",
       "      <td>Thomas Drive</td>\n",
       "      <td>NaN</td>\n",
       "      <td>Taylor</td>\n",
       "      <td>59</td>\n",
       "      <td>Head</td>\n",
       "      <td>Married</td>\n",
       "      <td>Male</td>\n",
       "      <td>Health and safety adviser</td>\n",
       "      <td>None</td>\n",
       "      <td>None</td>\n",
       "    </tr>\n",
       "  </tbody>\n",
       "</table>\n",
       "</div>"
      ],
      "text/plain": [
       "      House Number        Street First Name Surname Age  \\\n",
       "7258            10  Thomas Drive        NaN  Taylor  59   \n",
       "\n",
       "     Relationship to Head of House Marital Status Gender  \\\n",
       "7258                          Head        Married   Male   \n",
       "\n",
       "                     Occupation Infirmity Religion  \n",
       "7258  Health and safety adviser      None     None  "
      ]
     },
     "execution_count": 10,
     "metadata": {},
     "output_type": "execute_result"
    }
   ],
   "source": [
    "census_dataframe[census_dataframe['First Name'].isna()]"
   ]
  },
  {
   "cell_type": "code",
   "execution_count": 11,
   "id": "cf7d4215",
   "metadata": {},
   "outputs": [
    {
     "data": {
      "text/html": [
       "<div>\n",
       "<style scoped>\n",
       "    .dataframe tbody tr th:only-of-type {\n",
       "        vertical-align: middle;\n",
       "    }\n",
       "\n",
       "    .dataframe tbody tr th {\n",
       "        vertical-align: top;\n",
       "    }\n",
       "\n",
       "    .dataframe thead th {\n",
       "        text-align: right;\n",
       "    }\n",
       "</style>\n",
       "<table border=\"1\" class=\"dataframe\">\n",
       "  <thead>\n",
       "    <tr style=\"text-align: right;\">\n",
       "      <th></th>\n",
       "      <th>House Number</th>\n",
       "      <th>Street</th>\n",
       "      <th>First Name</th>\n",
       "      <th>Surname</th>\n",
       "      <th>Age</th>\n",
       "      <th>Relationship to Head of House</th>\n",
       "      <th>Marital Status</th>\n",
       "      <th>Gender</th>\n",
       "      <th>Occupation</th>\n",
       "      <th>Infirmity</th>\n",
       "      <th>Religion</th>\n",
       "    </tr>\n",
       "  </thead>\n",
       "  <tbody>\n",
       "    <tr>\n",
       "      <th>7258</th>\n",
       "      <td>10</td>\n",
       "      <td>Thomas Drive</td>\n",
       "      <td>NaN</td>\n",
       "      <td>Taylor</td>\n",
       "      <td>59</td>\n",
       "      <td>Head</td>\n",
       "      <td>Married</td>\n",
       "      <td>Male</td>\n",
       "      <td>Health and safety adviser</td>\n",
       "      <td>None</td>\n",
       "      <td>None</td>\n",
       "    </tr>\n",
       "    <tr>\n",
       "      <th>7259</th>\n",
       "      <td>10</td>\n",
       "      <td>Thomas Drive</td>\n",
       "      <td>Kerry</td>\n",
       "      <td>Taylor</td>\n",
       "      <td>57</td>\n",
       "      <td>Wife</td>\n",
       "      <td>Married</td>\n",
       "      <td>Female</td>\n",
       "      <td>Pilot, airline</td>\n",
       "      <td>None</td>\n",
       "      <td>None</td>\n",
       "    </tr>\n",
       "  </tbody>\n",
       "</table>\n",
       "</div>"
      ],
      "text/plain": [
       "      House Number        Street First Name Surname Age  \\\n",
       "7258            10  Thomas Drive        NaN  Taylor  59   \n",
       "7259            10  Thomas Drive      Kerry  Taylor  57   \n",
       "\n",
       "     Relationship to Head of House Marital Status  Gender  \\\n",
       "7258                          Head        Married    Male   \n",
       "7259                          Wife        Married  Female   \n",
       "\n",
       "                     Occupation Infirmity Religion  \n",
       "7258  Health and safety adviser      None     None  \n",
       "7259             Pilot, airline      None     None  "
      ]
     },
     "execution_count": 11,
     "metadata": {},
     "output_type": "execute_result"
    }
   ],
   "source": [
    "# Define the values you want to search for\n",
    "house_number_value = 10\n",
    "street_value = 'Thomas Drive'\n",
    "\n",
    "# Create a boolean mask to identify rows where the house_number and street columns have the specified values\n",
    "mask = (census_dataframe['House Number'] == house_number_value) & (census_dataframe['Street'] == street_value)\n",
    "\n",
    "# Use the boolean mask to index the DataFrame and select only the rows that meet the specified condition\n",
    "selected_rows = census_dataframe[mask]\n",
    "\n",
    "selected_rows"
   ]
  },
  {
   "cell_type": "code",
   "execution_count": 12,
   "id": "af6087f5",
   "metadata": {
    "scrolled": true
   },
   "outputs": [
    {
     "data": {
      "text/html": [
       "<div>\n",
       "<style scoped>\n",
       "    .dataframe tbody tr th:only-of-type {\n",
       "        vertical-align: middle;\n",
       "    }\n",
       "\n",
       "    .dataframe tbody tr th {\n",
       "        vertical-align: top;\n",
       "    }\n",
       "\n",
       "    .dataframe thead th {\n",
       "        text-align: right;\n",
       "    }\n",
       "</style>\n",
       "<table border=\"1\" class=\"dataframe\">\n",
       "  <thead>\n",
       "    <tr style=\"text-align: right;\">\n",
       "      <th></th>\n",
       "      <th>House Number</th>\n",
       "      <th>Street</th>\n",
       "      <th>First Name</th>\n",
       "      <th>Surname</th>\n",
       "      <th>Age</th>\n",
       "      <th>Relationship to Head of House</th>\n",
       "      <th>Marital Status</th>\n",
       "      <th>Gender</th>\n",
       "      <th>Occupation</th>\n",
       "      <th>Infirmity</th>\n",
       "      <th>Religion</th>\n",
       "    </tr>\n",
       "  </thead>\n",
       "  <tbody>\n",
       "    <tr>\n",
       "      <th>5553</th>\n",
       "      <td>5</td>\n",
       "      <td>Gill Mews</td>\n",
       "      <td>Owen</td>\n",
       "      <td>NaN</td>\n",
       "      <td>8</td>\n",
       "      <td>Son</td>\n",
       "      <td>NaN</td>\n",
       "      <td>Male</td>\n",
       "      <td>Student</td>\n",
       "      <td>None</td>\n",
       "      <td>NaN</td>\n",
       "    </tr>\n",
       "  </tbody>\n",
       "</table>\n",
       "</div>"
      ],
      "text/plain": [
       "      House Number     Street First Name Surname Age  \\\n",
       "5553             5  Gill Mews       Owen     NaN   8   \n",
       "\n",
       "     Relationship to Head of House Marital Status Gender Occupation Infirmity  \\\n",
       "5553                           Son            NaN   Male    Student      None   \n",
       "\n",
       "     Religion  \n",
       "5553      NaN  "
      ]
     },
     "execution_count": 12,
     "metadata": {},
     "output_type": "execute_result"
    }
   ],
   "source": [
    "census_dataframe[census_dataframe['Surname'].isna()]"
   ]
  },
  {
   "cell_type": "code",
   "execution_count": 13,
   "id": "0277dc44",
   "metadata": {
    "scrolled": true
   },
   "outputs": [
    {
     "data": {
      "text/html": [
       "<div>\n",
       "<style scoped>\n",
       "    .dataframe tbody tr th:only-of-type {\n",
       "        vertical-align: middle;\n",
       "    }\n",
       "\n",
       "    .dataframe tbody tr th {\n",
       "        vertical-align: top;\n",
       "    }\n",
       "\n",
       "    .dataframe thead th {\n",
       "        text-align: right;\n",
       "    }\n",
       "</style>\n",
       "<table border=\"1\" class=\"dataframe\">\n",
       "  <thead>\n",
       "    <tr style=\"text-align: right;\">\n",
       "      <th></th>\n",
       "      <th>House Number</th>\n",
       "      <th>Street</th>\n",
       "      <th>First Name</th>\n",
       "      <th>Surname</th>\n",
       "      <th>Age</th>\n",
       "      <th>Relationship to Head of House</th>\n",
       "      <th>Marital Status</th>\n",
       "      <th>Gender</th>\n",
       "      <th>Occupation</th>\n",
       "      <th>Infirmity</th>\n",
       "      <th>Religion</th>\n",
       "    </tr>\n",
       "  </thead>\n",
       "  <tbody>\n",
       "    <tr>\n",
       "      <th>5552</th>\n",
       "      <td>5</td>\n",
       "      <td>Gill Mews</td>\n",
       "      <td>Joyce</td>\n",
       "      <td>Adams</td>\n",
       "      <td>32</td>\n",
       "      <td>Head</td>\n",
       "      <td>Divorced</td>\n",
       "      <td>Female</td>\n",
       "      <td>Unemployed</td>\n",
       "      <td>None</td>\n",
       "      <td>None</td>\n",
       "    </tr>\n",
       "    <tr>\n",
       "      <th>5553</th>\n",
       "      <td>5</td>\n",
       "      <td>Gill Mews</td>\n",
       "      <td>Owen</td>\n",
       "      <td>NaN</td>\n",
       "      <td>8</td>\n",
       "      <td>Son</td>\n",
       "      <td>NaN</td>\n",
       "      <td>Male</td>\n",
       "      <td>Student</td>\n",
       "      <td>None</td>\n",
       "      <td>NaN</td>\n",
       "    </tr>\n",
       "    <tr>\n",
       "      <th>5554</th>\n",
       "      <td>5</td>\n",
       "      <td>Gill Mews</td>\n",
       "      <td>Aaron</td>\n",
       "      <td>Adams</td>\n",
       "      <td>7</td>\n",
       "      <td>Son</td>\n",
       "      <td>NaN</td>\n",
       "      <td>Male</td>\n",
       "      <td>Student</td>\n",
       "      <td>None</td>\n",
       "      <td>NaN</td>\n",
       "    </tr>\n",
       "  </tbody>\n",
       "</table>\n",
       "</div>"
      ],
      "text/plain": [
       "      House Number     Street First Name Surname Age  \\\n",
       "5552             5  Gill Mews      Joyce   Adams  32   \n",
       "5553             5  Gill Mews       Owen     NaN   8   \n",
       "5554             5  Gill Mews      Aaron   Adams   7   \n",
       "\n",
       "     Relationship to Head of House Marital Status  Gender  Occupation  \\\n",
       "5552                          Head       Divorced  Female  Unemployed   \n",
       "5553                           Son            NaN    Male     Student   \n",
       "5554                           Son            NaN    Male     Student   \n",
       "\n",
       "     Infirmity Religion  \n",
       "5552      None     None  \n",
       "5553      None      NaN  \n",
       "5554      None      NaN  "
      ]
     },
     "execution_count": 13,
     "metadata": {},
     "output_type": "execute_result"
    }
   ],
   "source": [
    "# Define the values you want to search for\n",
    "house_number_value = 5\n",
    "street_value = 'Gill Mews'\n",
    "\n",
    "# Create a boolean mask to identify rows where the house_number and street columns have the specified values\n",
    "mask = (census_dataframe['House Number'] == house_number_value) & (census_dataframe['Street'] == street_value)\n",
    "\n",
    "# Use the boolean mask to index the DataFrame and select only the rows that meet the specified condition\n",
    "selected_rows = census_dataframe[mask]\n",
    "\n",
    "selected_rows"
   ]
  },
  {
   "cell_type": "code",
   "execution_count": 14,
   "id": "a1ee8f4e",
   "metadata": {},
   "outputs": [
    {
     "data": {
      "text/plain": [
       "'Adams'"
      ]
     },
     "execution_count": 14,
     "metadata": {},
     "output_type": "execute_result"
    }
   ],
   "source": [
    "#Replace the NA values of owen sir name with the sir name of family; living in same house number and street name\n",
    "census_dataframe.at[5553,\"Surname\"]=\"Adams\"\n",
    "#confirmation if this has been replaced\n",
    "census_dataframe.at[5553,\"Surname\"]"
   ]
  },
  {
   "cell_type": "markdown",
   "id": "2d1c8685",
   "metadata": {},
   "source": [
    "# AGE COLUMN"
   ]
  },
  {
   "cell_type": "code",
   "execution_count": 15,
   "id": "e29a0c2a",
   "metadata": {},
   "outputs": [
    {
     "data": {
      "text/plain": [
       "array(['50', '52', '69', '72', '36', '42', '38', '7', '29', '32', '62',\n",
       "       '80', '56', '55', '25', '17', '63', '23', '22', '39', '41', '2',\n",
       "       '1', '67', '65', '28', '27', '5', '4', '3', '20', '19', '49',\n",
       "       '83.71794888354226', '14.0', '66', '82', '83', '44', '15', '21',\n",
       "       '46', '45', '43', '64', '59', '34', '10', '9', '35', '0', '68',\n",
       "       '48', '16', '81', '53', '8', '40', '51', '54', '58', '13', '61',\n",
       "       '26', '47', '74', '79', '75', '70', '71', '102', '73', '24', '60',\n",
       "       '30', '33', '11', '31', '61.61015620160364', '62.61015620160364',\n",
       "       '15.0', '10.0', '18', '37', '12', '14', '6', '57', '89', '85',\n",
       "       '78', '88', '91', '93', '97', '86', '77', '50.03241969022402',\n",
       "       '51.03241969022402', '1.0', '90', '76', '104', '84', nan, '92',\n",
       "       '87', '95', '98', '105', '48.65904417229777', '50.65904417229777',\n",
       "       '12.0', '54.55812337483672', '57.55812337483672', '3.0', '0.0',\n",
       "       '106', '65.90982310589523', '68.90982310589523', '16.0', '94',\n",
       "       '101', '99', '49.62636495189123', '53.62636495189123', '5.0'],\n",
       "      dtype=object)"
      ]
     },
     "execution_count": 15,
     "metadata": {},
     "output_type": "execute_result"
    }
   ],
   "source": [
    "census_dataframe[\"Age\"].unique()"
   ]
  },
  {
   "cell_type": "code",
   "execution_count": 16,
   "id": "d33d4836",
   "metadata": {},
   "outputs": [
    {
     "data": {
      "text/html": [
       "<div>\n",
       "<style scoped>\n",
       "    .dataframe tbody tr th:only-of-type {\n",
       "        vertical-align: middle;\n",
       "    }\n",
       "\n",
       "    .dataframe tbody tr th {\n",
       "        vertical-align: top;\n",
       "    }\n",
       "\n",
       "    .dataframe thead th {\n",
       "        text-align: right;\n",
       "    }\n",
       "</style>\n",
       "<table border=\"1\" class=\"dataframe\">\n",
       "  <thead>\n",
       "    <tr style=\"text-align: right;\">\n",
       "      <th></th>\n",
       "      <th>House Number</th>\n",
       "      <th>Street</th>\n",
       "      <th>First Name</th>\n",
       "      <th>Surname</th>\n",
       "      <th>Age</th>\n",
       "      <th>Relationship to Head of House</th>\n",
       "      <th>Marital Status</th>\n",
       "      <th>Gender</th>\n",
       "      <th>Occupation</th>\n",
       "      <th>Infirmity</th>\n",
       "      <th>Religion</th>\n",
       "    </tr>\n",
       "  </thead>\n",
       "  <tbody>\n",
       "    <tr>\n",
       "      <th>2206</th>\n",
       "      <td>17</td>\n",
       "      <td>Andrews Mill</td>\n",
       "      <td>Christopher</td>\n",
       "      <td>Johnson</td>\n",
       "      <td>NaN</td>\n",
       "      <td>Husband</td>\n",
       "      <td>Married</td>\n",
       "      <td>Male</td>\n",
       "      <td>Wellsite geologist</td>\n",
       "      <td>None</td>\n",
       "      <td>None</td>\n",
       "    </tr>\n",
       "    <tr>\n",
       "      <th>4317</th>\n",
       "      <td>47</td>\n",
       "      <td>Smith Plains</td>\n",
       "      <td>Hugh</td>\n",
       "      <td>Richards</td>\n",
       "      <td>NaN</td>\n",
       "      <td>Son</td>\n",
       "      <td>Single</td>\n",
       "      <td>Male</td>\n",
       "      <td>University Student</td>\n",
       "      <td>None</td>\n",
       "      <td>Christian</td>\n",
       "    </tr>\n",
       "  </tbody>\n",
       "</table>\n",
       "</div>"
      ],
      "text/plain": [
       "      House Number        Street   First Name   Surname  Age  \\\n",
       "2206            17  Andrews Mill  Christopher   Johnson  NaN   \n",
       "4317            47  Smith Plains         Hugh  Richards  NaN   \n",
       "\n",
       "     Relationship to Head of House Marital Status Gender          Occupation  \\\n",
       "2206                       Husband        Married   Male  Wellsite geologist   \n",
       "4317                           Son         Single   Male  University Student   \n",
       "\n",
       "     Infirmity   Religion  \n",
       "2206      None       None  \n",
       "4317      None  Christian  "
      ]
     },
     "execution_count": 16,
     "metadata": {},
     "output_type": "execute_result"
    }
   ],
   "source": [
    "census_dataframe[census_dataframe['Age'].isna()]"
   ]
  },
  {
   "cell_type": "code",
   "execution_count": 17,
   "id": "abf2bf14",
   "metadata": {},
   "outputs": [],
   "source": [
    "#Converting the string values in Age to int and replace the NaN Values with 888 for ease of identity\n",
    "census_dataframe['Age'] = pd.to_numeric(census_dataframe['Age'], errors='coerce')\n",
    "census_dataframe['Age'] = census_dataframe['Age'].round().fillna(888).astype('Int64')"
   ]
  },
  {
   "cell_type": "code",
   "execution_count": 18,
   "id": "49f8e2e8",
   "metadata": {},
   "outputs": [
    {
     "data": {
      "text/html": [
       "<div>\n",
       "<style scoped>\n",
       "    .dataframe tbody tr th:only-of-type {\n",
       "        vertical-align: middle;\n",
       "    }\n",
       "\n",
       "    .dataframe tbody tr th {\n",
       "        vertical-align: top;\n",
       "    }\n",
       "\n",
       "    .dataframe thead th {\n",
       "        text-align: right;\n",
       "    }\n",
       "</style>\n",
       "<table border=\"1\" class=\"dataframe\">\n",
       "  <thead>\n",
       "    <tr style=\"text-align: right;\">\n",
       "      <th></th>\n",
       "      <th>House Number</th>\n",
       "      <th>Street</th>\n",
       "      <th>First Name</th>\n",
       "      <th>Surname</th>\n",
       "      <th>Age</th>\n",
       "      <th>Relationship to Head of House</th>\n",
       "      <th>Marital Status</th>\n",
       "      <th>Gender</th>\n",
       "      <th>Occupation</th>\n",
       "      <th>Infirmity</th>\n",
       "      <th>Religion</th>\n",
       "    </tr>\n",
       "  </thead>\n",
       "  <tbody>\n",
       "    <tr>\n",
       "      <th>2206</th>\n",
       "      <td>17</td>\n",
       "      <td>Andrews Mill</td>\n",
       "      <td>Christopher</td>\n",
       "      <td>Johnson</td>\n",
       "      <td>888</td>\n",
       "      <td>Husband</td>\n",
       "      <td>Married</td>\n",
       "      <td>Male</td>\n",
       "      <td>Wellsite geologist</td>\n",
       "      <td>None</td>\n",
       "      <td>None</td>\n",
       "    </tr>\n",
       "    <tr>\n",
       "      <th>4317</th>\n",
       "      <td>47</td>\n",
       "      <td>Smith Plains</td>\n",
       "      <td>Hugh</td>\n",
       "      <td>Richards</td>\n",
       "      <td>888</td>\n",
       "      <td>Son</td>\n",
       "      <td>Single</td>\n",
       "      <td>Male</td>\n",
       "      <td>University Student</td>\n",
       "      <td>None</td>\n",
       "      <td>Christian</td>\n",
       "    </tr>\n",
       "  </tbody>\n",
       "</table>\n",
       "</div>"
      ],
      "text/plain": [
       "      House Number        Street   First Name   Surname  Age  \\\n",
       "2206            17  Andrews Mill  Christopher   Johnson  888   \n",
       "4317            47  Smith Plains         Hugh  Richards  888   \n",
       "\n",
       "     Relationship to Head of House Marital Status Gender          Occupation  \\\n",
       "2206                       Husband        Married   Male  Wellsite geologist   \n",
       "4317                           Son         Single   Male  University Student   \n",
       "\n",
       "     Infirmity   Religion  \n",
       "2206      None       None  \n",
       "4317      None  Christian  "
      ]
     },
     "execution_count": 18,
     "metadata": {},
     "output_type": "execute_result"
    }
   ],
   "source": [
    "# Filter rows where Age is 888\n",
    "filtered_df = census_dataframe[census_dataframe['Age'] == 888]\n",
    "filtered_df"
   ]
  },
  {
   "cell_type": "code",
   "execution_count": 19,
   "id": "900616a3",
   "metadata": {
    "scrolled": true
   },
   "outputs": [
    {
     "data": {
      "text/html": [
       "<div>\n",
       "<style scoped>\n",
       "    .dataframe tbody tr th:only-of-type {\n",
       "        vertical-align: middle;\n",
       "    }\n",
       "\n",
       "    .dataframe tbody tr th {\n",
       "        vertical-align: top;\n",
       "    }\n",
       "\n",
       "    .dataframe thead th {\n",
       "        text-align: right;\n",
       "    }\n",
       "</style>\n",
       "<table border=\"1\" class=\"dataframe\">\n",
       "  <thead>\n",
       "    <tr style=\"text-align: right;\">\n",
       "      <th></th>\n",
       "      <th>House Number</th>\n",
       "      <th>Street</th>\n",
       "      <th>First Name</th>\n",
       "      <th>Surname</th>\n",
       "      <th>Age</th>\n",
       "      <th>Relationship to Head of House</th>\n",
       "      <th>Marital Status</th>\n",
       "      <th>Gender</th>\n",
       "      <th>Occupation</th>\n",
       "      <th>Infirmity</th>\n",
       "      <th>Religion</th>\n",
       "    </tr>\n",
       "  </thead>\n",
       "  <tbody>\n",
       "    <tr>\n",
       "      <th>2205</th>\n",
       "      <td>17</td>\n",
       "      <td>Andrews Mill</td>\n",
       "      <td>Sophie</td>\n",
       "      <td>Johnson</td>\n",
       "      <td>32</td>\n",
       "      <td>Head</td>\n",
       "      <td>Married</td>\n",
       "      <td>Female</td>\n",
       "      <td>Accounting technician</td>\n",
       "      <td>None</td>\n",
       "      <td>None</td>\n",
       "    </tr>\n",
       "    <tr>\n",
       "      <th>2206</th>\n",
       "      <td>17</td>\n",
       "      <td>Andrews Mill</td>\n",
       "      <td>Christopher</td>\n",
       "      <td>Johnson</td>\n",
       "      <td>888</td>\n",
       "      <td>Husband</td>\n",
       "      <td>Married</td>\n",
       "      <td>Male</td>\n",
       "      <td>Wellsite geologist</td>\n",
       "      <td>None</td>\n",
       "      <td>None</td>\n",
       "    </tr>\n",
       "    <tr>\n",
       "      <th>2207</th>\n",
       "      <td>17</td>\n",
       "      <td>Andrews Mill</td>\n",
       "      <td>Ronald</td>\n",
       "      <td>Johnson</td>\n",
       "      <td>3</td>\n",
       "      <td>Son</td>\n",
       "      <td>NaN</td>\n",
       "      <td>Male</td>\n",
       "      <td>Child</td>\n",
       "      <td>None</td>\n",
       "      <td>NaN</td>\n",
       "    </tr>\n",
       "  </tbody>\n",
       "</table>\n",
       "</div>"
      ],
      "text/plain": [
       "      House Number        Street   First Name  Surname  Age  \\\n",
       "2205            17  Andrews Mill       Sophie  Johnson   32   \n",
       "2206            17  Andrews Mill  Christopher  Johnson  888   \n",
       "2207            17  Andrews Mill       Ronald  Johnson    3   \n",
       "\n",
       "     Relationship to Head of House Marital Status  Gender  \\\n",
       "2205                          Head        Married  Female   \n",
       "2206                       Husband        Married    Male   \n",
       "2207                           Son            NaN    Male   \n",
       "\n",
       "                 Occupation Infirmity Religion  \n",
       "2205  Accounting technician      None     None  \n",
       "2206     Wellsite geologist      None     None  \n",
       "2207                  Child      None      NaN  "
      ]
     },
     "execution_count": 19,
     "metadata": {},
     "output_type": "execute_result"
    }
   ],
   "source": [
    "# Define the values you want to search for\n",
    "house_number_value = 17\n",
    "street_value = 'Andrews Mill'\n",
    "\n",
    "# Create a boolean mask to identify rows where the house_number and street columns have the specified values\n",
    "mask = (census_dataframe['House Number'] == house_number_value) & (census_dataframe['Street'] == street_value)\n",
    "\n",
    "# Use the boolean mask to index the DataFrame and select only the rows that meet the specified condition\n",
    "selected_rows = census_dataframe[mask]\n",
    "\n",
    "selected_rows"
   ]
  },
  {
   "cell_type": "code",
   "execution_count": 20,
   "id": "a4abae3f",
   "metadata": {},
   "outputs": [
    {
     "name": "stdout",
     "output_type": "stream",
     "text": [
      "3.0\n"
     ]
    }
   ],
   "source": [
    "# Group the data by 'House Number' and 'Street'\n",
    "grouped = census_dataframe.groupby(['House Number', 'Street'])\n",
    "\n",
    "# Define a function to calculate the mean age difference for each group\n",
    "def calc_mean_age_diff(group):\n",
    "    # Filter rows where Relationship to Head of House is either Head or Husband/Wife/Partner and Age is not 888\n",
    "    filtered_group = group[(group['Relationship to Head of House'].isin(['Head','Husband','Wife',\"Partner\"]))\n",
    "                           & (group['Age'] != 888)]\n",
    "    \n",
    "    # Calculate the mean age difference for the group if it has at least two elements\n",
    "    if len(filtered_group) >= 2:\n",
    "        mean_age_diff = filtered_group['Age'].diff().mean()\n",
    "        return mean_age_diff\n",
    "    else:\n",
    "        return None\n",
    "\n",
    "# Apply the function to each group\n",
    "mean_age_diffs = grouped.apply(calc_mean_age_diff)\n",
    "\n",
    "# Display one result as an example\n",
    "print(mean_age_diffs.iloc[0])"
   ]
  },
  {
   "cell_type": "code",
   "execution_count": 21,
   "id": "2b05dfb6",
   "metadata": {},
   "outputs": [
    {
     "data": {
      "text/plain": [
       "35"
      ]
     },
     "execution_count": 21,
     "metadata": {},
     "output_type": "execute_result"
    }
   ],
   "source": [
    "#Replace the 888 age value of christopher with the sum of mean age difference and that of the head of house (32+3)\n",
    "census_dataframe.at[2206,\"Age\"]=35\n",
    "#confirmation if this has been replaced\n",
    "census_dataframe.at[2206,\"Age\"]"
   ]
  },
  {
   "cell_type": "code",
   "execution_count": 22,
   "id": "b795c77e",
   "metadata": {
    "scrolled": false
   },
   "outputs": [
    {
     "data": {
      "text/html": [
       "<div>\n",
       "<style scoped>\n",
       "    .dataframe tbody tr th:only-of-type {\n",
       "        vertical-align: middle;\n",
       "    }\n",
       "\n",
       "    .dataframe tbody tr th {\n",
       "        vertical-align: top;\n",
       "    }\n",
       "\n",
       "    .dataframe thead th {\n",
       "        text-align: right;\n",
       "    }\n",
       "</style>\n",
       "<table border=\"1\" class=\"dataframe\">\n",
       "  <thead>\n",
       "    <tr style=\"text-align: right;\">\n",
       "      <th></th>\n",
       "      <th>House Number</th>\n",
       "      <th>Street</th>\n",
       "      <th>First Name</th>\n",
       "      <th>Surname</th>\n",
       "      <th>Age</th>\n",
       "      <th>Relationship to Head of House</th>\n",
       "      <th>Marital Status</th>\n",
       "      <th>Gender</th>\n",
       "      <th>Occupation</th>\n",
       "      <th>Infirmity</th>\n",
       "      <th>Religion</th>\n",
       "    </tr>\n",
       "  </thead>\n",
       "  <tbody>\n",
       "    <tr>\n",
       "      <th>4315</th>\n",
       "      <td>47</td>\n",
       "      <td>Smith Plains</td>\n",
       "      <td>Ellie</td>\n",
       "      <td>Richards</td>\n",
       "      <td>52</td>\n",
       "      <td>Head</td>\n",
       "      <td>Married</td>\n",
       "      <td>Female</td>\n",
       "      <td>Financial adviser</td>\n",
       "      <td>None</td>\n",
       "      <td>Christian</td>\n",
       "    </tr>\n",
       "    <tr>\n",
       "      <th>4316</th>\n",
       "      <td>47</td>\n",
       "      <td>Smith Plains</td>\n",
       "      <td>Guy</td>\n",
       "      <td>Richards</td>\n",
       "      <td>48</td>\n",
       "      <td>Husband</td>\n",
       "      <td>Married</td>\n",
       "      <td>Male</td>\n",
       "      <td>Insurance claims handler</td>\n",
       "      <td>None</td>\n",
       "      <td>None</td>\n",
       "    </tr>\n",
       "    <tr>\n",
       "      <th>4317</th>\n",
       "      <td>47</td>\n",
       "      <td>Smith Plains</td>\n",
       "      <td>Hugh</td>\n",
       "      <td>Richards</td>\n",
       "      <td>888</td>\n",
       "      <td>Son</td>\n",
       "      <td>Single</td>\n",
       "      <td>Male</td>\n",
       "      <td>University Student</td>\n",
       "      <td>None</td>\n",
       "      <td>Christian</td>\n",
       "    </tr>\n",
       "  </tbody>\n",
       "</table>\n",
       "</div>"
      ],
      "text/plain": [
       "      House Number        Street First Name   Surname  Age  \\\n",
       "4315            47  Smith Plains      Ellie  Richards   52   \n",
       "4316            47  Smith Plains        Guy  Richards   48   \n",
       "4317            47  Smith Plains       Hugh  Richards  888   \n",
       "\n",
       "     Relationship to Head of House Marital Status  Gender  \\\n",
       "4315                          Head        Married  Female   \n",
       "4316                       Husband        Married    Male   \n",
       "4317                           Son         Single    Male   \n",
       "\n",
       "                    Occupation Infirmity   Religion  \n",
       "4315         Financial adviser      None  Christian  \n",
       "4316  Insurance claims handler      None       None  \n",
       "4317        University Student      None  Christian  "
      ]
     },
     "execution_count": 22,
     "metadata": {},
     "output_type": "execute_result"
    }
   ],
   "source": [
    "# Define the values you want to search for\n",
    "house_number_value = 47\n",
    "street_value = 'Smith Plains'\n",
    "\n",
    "# Create a boolean mask to identify rows where the house_number and street columns have the specified values\n",
    "mask = (census_dataframe['House Number'] == house_number_value) & (census_dataframe['Street'] == street_value)\n",
    "\n",
    "# Use the boolean mask to index the DataFrame and select only the rows that meet the specified condition\n",
    "selected_rows = census_dataframe[mask]\n",
    "\n",
    "selected_rows"
   ]
  },
  {
   "cell_type": "code",
   "execution_count": 23,
   "id": "284844b7",
   "metadata": {},
   "outputs": [
    {
     "name": "stdout",
     "output_type": "stream",
     "text": [
      "4.888546262930105\n"
     ]
    }
   ],
   "source": [
    "# Filter rows where Relationship to Head of House is either Head or Son and Age is not 888\n",
    "filtered_df = census_dataframe[(census_dataframe['Relationship to Head of House'].isin(['Head','Son'])) & (census_dataframe['Age'] != 888)]\n",
    "\n",
    "# Define a custom aggregation function that calculates the age fraction for each group\n",
    "def age_fraction(x):\n",
    "    if len(x) < 2 or x.iloc[1] == 0: #if the age of son is zero,make it a non value\n",
    "        return float('nan')\n",
    "    else:\n",
    "        return x.iloc[0] / x.iloc[1]\n",
    "\n",
    "# Group by House Number and Street and calculate the mean age fraction\n",
    "grouped_df = filtered_df.groupby(['House Number','Street'])['Age'].agg(age_fraction)\n",
    "\n",
    "# Calculate the mean age fraction for the entire data frame\n",
    "mean_age_fraction_son = grouped_df.mean()\n",
    "\n",
    "# Display result\n",
    "print(mean_age_fraction_son)"
   ]
  },
  {
   "cell_type": "code",
   "execution_count": 24,
   "id": "63b3fb30",
   "metadata": {},
   "outputs": [
    {
     "name": "stdout",
     "output_type": "stream",
     "text": [
      "11\n"
     ]
    }
   ],
   "source": [
    "#Age of the son is (Age of father/mean age fraction between head/son)\n",
    "row_4317_son_age=((census_dataframe.at[4315,\"Age\"])/mean_age_fraction_son)\n",
    "print(round(row_4317_son_age))"
   ]
  },
  {
   "cell_type": "code",
   "execution_count": 25,
   "id": "9a4e1d48",
   "metadata": {},
   "outputs": [
    {
     "data": {
      "text/plain": [
       "11"
      ]
     },
     "execution_count": 25,
     "metadata": {},
     "output_type": "execute_result"
    }
   ],
   "source": [
    "census_dataframe.at[4317,\"Age\"]=(round((row_4317_son_age)))\n",
    "census_dataframe.at[4317,\"Age\"]"
   ]
  },
  {
   "cell_type": "code",
   "execution_count": 26,
   "id": "82ece70e",
   "metadata": {},
   "outputs": [
    {
     "name": "stdout",
     "output_type": "stream",
     "text": [
      "<class 'pandas.core.frame.DataFrame'>\n",
      "RangeIndex: 8329 entries, 0 to 8328\n",
      "Data columns (total 11 columns):\n",
      " #   Column                         Non-Null Count  Dtype \n",
      "---  ------                         --------------  ----- \n",
      " 0   House Number                   8329 non-null   int64 \n",
      " 1   Street                         8329 non-null   object\n",
      " 2   First Name                     8328 non-null   object\n",
      " 3   Surname                        8329 non-null   object\n",
      " 4   Age                            8329 non-null   Int64 \n",
      " 5   Relationship to Head of House  8329 non-null   object\n",
      " 6   Marital Status                 6270 non-null   object\n",
      " 7   Gender                         8329 non-null   object\n",
      " 8   Occupation                     8329 non-null   object\n",
      " 9   Infirmity                      8321 non-null   object\n",
      " 10  Religion                       6220 non-null   object\n",
      "dtypes: Int64(1), int64(1), object(9)\n",
      "memory usage: 724.0+ KB\n"
     ]
    }
   ],
   "source": [
    "census_dataframe.info()"
   ]
  },
  {
   "cell_type": "markdown",
   "id": "7ce84408",
   "metadata": {},
   "source": [
    "# Marital Status"
   ]
  },
  {
   "cell_type": "code",
   "execution_count": 27,
   "id": "9e41b599",
   "metadata": {},
   "outputs": [
    {
     "data": {
      "text/plain": [
       "array(['Single', 'Married', 'Divorced', nan, 'Widowed'], dtype=object)"
      ]
     },
     "execution_count": 27,
     "metadata": {},
     "output_type": "execute_result"
    }
   ],
   "source": [
    "census_dataframe[\"Marital Status\"].unique()"
   ]
  },
  {
   "cell_type": "code",
   "execution_count": 28,
   "id": "b4af8d18",
   "metadata": {},
   "outputs": [
    {
     "data": {
      "text/plain": [
       "Single      2941\n",
       "Married     2225\n",
       "NaN         2059\n",
       "Divorced     744\n",
       "Widowed      360\n",
       "Name: Marital Status, dtype: int64"
      ]
     },
     "execution_count": 28,
     "metadata": {},
     "output_type": "execute_result"
    }
   ],
   "source": [
    "marital_status_counts = census_dataframe[\"Marital Status\"].value_counts(dropna=False)\n",
    "marital_status_counts"
   ]
  },
  {
   "cell_type": "code",
   "execution_count": 29,
   "id": "382d0d34",
   "metadata": {
    "scrolled": true
   },
   "outputs": [
    {
     "data": {
      "text/html": [
       "<div>\n",
       "<style scoped>\n",
       "    .dataframe tbody tr th:only-of-type {\n",
       "        vertical-align: middle;\n",
       "    }\n",
       "\n",
       "    .dataframe tbody tr th {\n",
       "        vertical-align: top;\n",
       "    }\n",
       "\n",
       "    .dataframe thead th {\n",
       "        text-align: right;\n",
       "    }\n",
       "</style>\n",
       "<table border=\"1\" class=\"dataframe\">\n",
       "  <thead>\n",
       "    <tr style=\"text-align: right;\">\n",
       "      <th></th>\n",
       "      <th>House Number</th>\n",
       "      <th>Street</th>\n",
       "      <th>First Name</th>\n",
       "      <th>Surname</th>\n",
       "      <th>Age</th>\n",
       "      <th>Relationship to Head of House</th>\n",
       "      <th>Marital Status</th>\n",
       "      <th>Gender</th>\n",
       "      <th>Occupation</th>\n",
       "      <th>Infirmity</th>\n",
       "      <th>Religion</th>\n",
       "    </tr>\n",
       "  </thead>\n",
       "  <tbody>\n",
       "    <tr>\n",
       "      <th>7</th>\n",
       "      <td>4</td>\n",
       "      <td>Scott Dale</td>\n",
       "      <td>Jamie</td>\n",
       "      <td>Akhtar</td>\n",
       "      <td>7</td>\n",
       "      <td>Son</td>\n",
       "      <td>NaN</td>\n",
       "      <td>Male</td>\n",
       "      <td>Student</td>\n",
       "      <td>None</td>\n",
       "      <td>NaN</td>\n",
       "    </tr>\n",
       "    <tr>\n",
       "      <th>15</th>\n",
       "      <td>7</td>\n",
       "      <td>Scott Dale</td>\n",
       "      <td>Alex</td>\n",
       "      <td>O'Neill-Walker-Iqbal</td>\n",
       "      <td>17</td>\n",
       "      <td>Son</td>\n",
       "      <td>NaN</td>\n",
       "      <td>Male</td>\n",
       "      <td>Student</td>\n",
       "      <td>None</td>\n",
       "      <td>NaN</td>\n",
       "    </tr>\n",
       "    <tr>\n",
       "      <th>22</th>\n",
       "      <td>9</td>\n",
       "      <td>Scott Dale</td>\n",
       "      <td>Rhys</td>\n",
       "      <td>Smith</td>\n",
       "      <td>7</td>\n",
       "      <td>Son</td>\n",
       "      <td>NaN</td>\n",
       "      <td>Male</td>\n",
       "      <td>Student</td>\n",
       "      <td>None</td>\n",
       "      <td>NaN</td>\n",
       "    </tr>\n",
       "    <tr>\n",
       "      <th>23</th>\n",
       "      <td>9</td>\n",
       "      <td>Scott Dale</td>\n",
       "      <td>Max</td>\n",
       "      <td>Smith</td>\n",
       "      <td>2</td>\n",
       "      <td>Son</td>\n",
       "      <td>NaN</td>\n",
       "      <td>Male</td>\n",
       "      <td>Child</td>\n",
       "      <td>None</td>\n",
       "      <td>NaN</td>\n",
       "    </tr>\n",
       "    <tr>\n",
       "      <th>24</th>\n",
       "      <td>9</td>\n",
       "      <td>Scott Dale</td>\n",
       "      <td>Stacey</td>\n",
       "      <td>Smith</td>\n",
       "      <td>1</td>\n",
       "      <td>Daughter</td>\n",
       "      <td>NaN</td>\n",
       "      <td>Female</td>\n",
       "      <td>Child</td>\n",
       "      <td>None</td>\n",
       "      <td>NaN</td>\n",
       "    </tr>\n",
       "    <tr>\n",
       "      <th>...</th>\n",
       "      <td>...</td>\n",
       "      <td>...</td>\n",
       "      <td>...</td>\n",
       "      <td>...</td>\n",
       "      <td>...</td>\n",
       "      <td>...</td>\n",
       "      <td>...</td>\n",
       "      <td>...</td>\n",
       "      <td>...</td>\n",
       "      <td>...</td>\n",
       "      <td>...</td>\n",
       "    </tr>\n",
       "    <tr>\n",
       "      <th>8310</th>\n",
       "      <td>1</td>\n",
       "      <td>Jones Barracks</td>\n",
       "      <td>Lydia</td>\n",
       "      <td>Stevenson</td>\n",
       "      <td>7</td>\n",
       "      <td>Daughter</td>\n",
       "      <td>NaN</td>\n",
       "      <td>Female</td>\n",
       "      <td>Student</td>\n",
       "      <td>None</td>\n",
       "      <td>NaN</td>\n",
       "    </tr>\n",
       "    <tr>\n",
       "      <th>8311</th>\n",
       "      <td>1</td>\n",
       "      <td>Jones Barracks</td>\n",
       "      <td>Debra</td>\n",
       "      <td>Stevenson</td>\n",
       "      <td>4</td>\n",
       "      <td>Daughter</td>\n",
       "      <td>NaN</td>\n",
       "      <td>Female</td>\n",
       "      <td>Child</td>\n",
       "      <td>None</td>\n",
       "      <td>NaN</td>\n",
       "    </tr>\n",
       "    <tr>\n",
       "      <th>8322</th>\n",
       "      <td>1</td>\n",
       "      <td>Walker Palace</td>\n",
       "      <td>Kenneth</td>\n",
       "      <td>Lane</td>\n",
       "      <td>3</td>\n",
       "      <td>Son</td>\n",
       "      <td>NaN</td>\n",
       "      <td>Male</td>\n",
       "      <td>Child</td>\n",
       "      <td>None</td>\n",
       "      <td>NaN</td>\n",
       "    </tr>\n",
       "    <tr>\n",
       "      <th>8323</th>\n",
       "      <td>1</td>\n",
       "      <td>Walker Palace</td>\n",
       "      <td>Victor</td>\n",
       "      <td>Lane</td>\n",
       "      <td>0</td>\n",
       "      <td>Son</td>\n",
       "      <td>NaN</td>\n",
       "      <td>Male</td>\n",
       "      <td>Child</td>\n",
       "      <td>None</td>\n",
       "      <td>NaN</td>\n",
       "    </tr>\n",
       "    <tr>\n",
       "      <th>8327</th>\n",
       "      <td>1</td>\n",
       "      <td>Poole Stronghold</td>\n",
       "      <td>Pamela</td>\n",
       "      <td>Evans</td>\n",
       "      <td>0</td>\n",
       "      <td>Daughter</td>\n",
       "      <td>NaN</td>\n",
       "      <td>Female</td>\n",
       "      <td>Child</td>\n",
       "      <td>None</td>\n",
       "      <td>NaN</td>\n",
       "    </tr>\n",
       "  </tbody>\n",
       "</table>\n",
       "<p>2059 rows × 11 columns</p>\n",
       "</div>"
      ],
      "text/plain": [
       "      House Number            Street First Name               Surname  Age  \\\n",
       "7                4        Scott Dale      Jamie                Akhtar    7   \n",
       "15               7        Scott Dale       Alex  O'Neill-Walker-Iqbal   17   \n",
       "22               9        Scott Dale       Rhys                 Smith    7   \n",
       "23               9        Scott Dale        Max                 Smith    2   \n",
       "24               9        Scott Dale     Stacey                 Smith    1   \n",
       "...            ...               ...        ...                   ...  ...   \n",
       "8310             1    Jones Barracks      Lydia             Stevenson    7   \n",
       "8311             1    Jones Barracks      Debra             Stevenson    4   \n",
       "8322             1     Walker Palace    Kenneth                  Lane    3   \n",
       "8323             1     Walker Palace     Victor                  Lane    0   \n",
       "8327             1  Poole Stronghold     Pamela                 Evans    0   \n",
       "\n",
       "     Relationship to Head of House Marital Status  Gender Occupation  \\\n",
       "7                              Son            NaN    Male    Student   \n",
       "15                             Son            NaN    Male    Student   \n",
       "22                             Son            NaN    Male    Student   \n",
       "23                             Son            NaN    Male      Child   \n",
       "24                        Daughter            NaN  Female      Child   \n",
       "...                            ...            ...     ...        ...   \n",
       "8310                      Daughter            NaN  Female    Student   \n",
       "8311                      Daughter            NaN  Female      Child   \n",
       "8322                           Son            NaN    Male      Child   \n",
       "8323                           Son            NaN    Male      Child   \n",
       "8327                      Daughter            NaN  Female      Child   \n",
       "\n",
       "     Infirmity Religion  \n",
       "7         None      NaN  \n",
       "15        None      NaN  \n",
       "22        None      NaN  \n",
       "23        None      NaN  \n",
       "24        None      NaN  \n",
       "...        ...      ...  \n",
       "8310      None      NaN  \n",
       "8311      None      NaN  \n",
       "8322      None      NaN  \n",
       "8323      None      NaN  \n",
       "8327      None      NaN  \n",
       "\n",
       "[2059 rows x 11 columns]"
      ]
     },
     "execution_count": 29,
     "metadata": {},
     "output_type": "execute_result"
    }
   ],
   "source": [
    "#Dispalying rows with NaN in the marital status page\n",
    "mask = census_dataframe[\"Marital Status\"].isna()\n",
    "census_dataframe[mask]"
   ]
  },
  {
   "cell_type": "code",
   "execution_count": 30,
   "id": "70830739",
   "metadata": {},
   "outputs": [],
   "source": [
    "census_dataframe.loc[(census_dataframe[\"Marital Status\"].isna()) \n",
    "                     & (census_dataframe[\"Occupation\"] == \"Student\"), \"Marital Status\"] = \"Single Student\"\n",
    "census_dataframe.loc[(census_dataframe[\"Marital Status\"].isna()) \n",
    "                     & (census_dataframe[\"Occupation\"] == \"Child\"), \"Marital Status\"] = \"Single Child\""
   ]
  },
  {
   "cell_type": "code",
   "execution_count": 31,
   "id": "29d4de14",
   "metadata": {},
   "outputs": [
    {
     "data": {
      "text/plain": [
       "Single            2941\n",
       "Married           2225\n",
       "Single Student    1556\n",
       "Divorced           744\n",
       "Single Child       500\n",
       "Widowed            360\n",
       "NaN                  3\n",
       "Name: Marital Status, dtype: int64"
      ]
     },
     "execution_count": 31,
     "metadata": {},
     "output_type": "execute_result"
    }
   ],
   "source": [
    "marital_status_counts = census_dataframe[\"Marital Status\"].value_counts(dropna=False)\n",
    "marital_status_counts"
   ]
  },
  {
   "cell_type": "code",
   "execution_count": 32,
   "id": "c565f999",
   "metadata": {},
   "outputs": [
    {
     "data": {
      "text/html": [
       "<div>\n",
       "<style scoped>\n",
       "    .dataframe tbody tr th:only-of-type {\n",
       "        vertical-align: middle;\n",
       "    }\n",
       "\n",
       "    .dataframe tbody tr th {\n",
       "        vertical-align: top;\n",
       "    }\n",
       "\n",
       "    .dataframe thead th {\n",
       "        text-align: right;\n",
       "    }\n",
       "</style>\n",
       "<table border=\"1\" class=\"dataframe\">\n",
       "  <thead>\n",
       "    <tr style=\"text-align: right;\">\n",
       "      <th></th>\n",
       "      <th>House Number</th>\n",
       "      <th>Street</th>\n",
       "      <th>First Name</th>\n",
       "      <th>Surname</th>\n",
       "      <th>Age</th>\n",
       "      <th>Relationship to Head of House</th>\n",
       "      <th>Marital Status</th>\n",
       "      <th>Gender</th>\n",
       "      <th>Occupation</th>\n",
       "      <th>Infirmity</th>\n",
       "      <th>Religion</th>\n",
       "    </tr>\n",
       "  </thead>\n",
       "  <tbody>\n",
       "    <tr>\n",
       "      <th>4328</th>\n",
       "      <td>53</td>\n",
       "      <td>Smith Plains</td>\n",
       "      <td>Lynn</td>\n",
       "      <td>Hilton</td>\n",
       "      <td>52</td>\n",
       "      <td>Head</td>\n",
       "      <td>NaN</td>\n",
       "      <td>Female</td>\n",
       "      <td>Hospital doctor</td>\n",
       "      <td>None</td>\n",
       "      <td>Christian</td>\n",
       "    </tr>\n",
       "    <tr>\n",
       "      <th>7103</th>\n",
       "      <td>24</td>\n",
       "      <td>Ellis Mountain</td>\n",
       "      <td>Susan</td>\n",
       "      <td>Taylor</td>\n",
       "      <td>19</td>\n",
       "      <td>None</td>\n",
       "      <td>NaN</td>\n",
       "      <td>Female</td>\n",
       "      <td>University Student</td>\n",
       "      <td>None</td>\n",
       "      <td>Christian</td>\n",
       "    </tr>\n",
       "    <tr>\n",
       "      <th>7460</th>\n",
       "      <td>30</td>\n",
       "      <td>Freeman Trail</td>\n",
       "      <td>Adrian</td>\n",
       "      <td>King</td>\n",
       "      <td>20</td>\n",
       "      <td>None</td>\n",
       "      <td>NaN</td>\n",
       "      <td>Male</td>\n",
       "      <td>University Student</td>\n",
       "      <td>None</td>\n",
       "      <td>Christian</td>\n",
       "    </tr>\n",
       "  </tbody>\n",
       "</table>\n",
       "</div>"
      ],
      "text/plain": [
       "      House Number          Street First Name Surname  Age  \\\n",
       "4328            53    Smith Plains       Lynn  Hilton   52   \n",
       "7103            24  Ellis Mountain      Susan  Taylor   19   \n",
       "7460            30   Freeman Trail     Adrian    King   20   \n",
       "\n",
       "     Relationship to Head of House Marital Status  Gender          Occupation  \\\n",
       "4328                          Head            NaN  Female     Hospital doctor   \n",
       "7103                          None            NaN  Female  University Student   \n",
       "7460                          None            NaN    Male  University Student   \n",
       "\n",
       "     Infirmity   Religion  \n",
       "4328      None  Christian  \n",
       "7103      None  Christian  \n",
       "7460      None  Christian  "
      ]
     },
     "execution_count": 32,
     "metadata": {},
     "output_type": "execute_result"
    }
   ],
   "source": [
    "#Dispalying rows with NaN in the marital status page\n",
    "mask = census_dataframe[\"Marital Status\"].isna()\n",
    "census_dataframe[mask]"
   ]
  },
  {
   "cell_type": "code",
   "execution_count": 33,
   "id": "b2f9a46b",
   "metadata": {
    "scrolled": true
   },
   "outputs": [
    {
     "data": {
      "text/html": [
       "<div>\n",
       "<style scoped>\n",
       "    .dataframe tbody tr th:only-of-type {\n",
       "        vertical-align: middle;\n",
       "    }\n",
       "\n",
       "    .dataframe tbody tr th {\n",
       "        vertical-align: top;\n",
       "    }\n",
       "\n",
       "    .dataframe thead th {\n",
       "        text-align: right;\n",
       "    }\n",
       "</style>\n",
       "<table border=\"1\" class=\"dataframe\">\n",
       "  <thead>\n",
       "    <tr style=\"text-align: right;\">\n",
       "      <th></th>\n",
       "      <th>House Number</th>\n",
       "      <th>Street</th>\n",
       "      <th>First Name</th>\n",
       "      <th>Surname</th>\n",
       "      <th>Age</th>\n",
       "      <th>Relationship to Head of House</th>\n",
       "      <th>Marital Status</th>\n",
       "      <th>Gender</th>\n",
       "      <th>Occupation</th>\n",
       "      <th>Infirmity</th>\n",
       "      <th>Religion</th>\n",
       "    </tr>\n",
       "  </thead>\n",
       "  <tbody>\n",
       "    <tr>\n",
       "      <th>4328</th>\n",
       "      <td>53</td>\n",
       "      <td>Smith Plains</td>\n",
       "      <td>Lynn</td>\n",
       "      <td>Hilton</td>\n",
       "      <td>52</td>\n",
       "      <td>Head</td>\n",
       "      <td>NaN</td>\n",
       "      <td>Female</td>\n",
       "      <td>Hospital doctor</td>\n",
       "      <td>None</td>\n",
       "      <td>Christian</td>\n",
       "    </tr>\n",
       "    <tr>\n",
       "      <th>4329</th>\n",
       "      <td>53</td>\n",
       "      <td>Smith Plains</td>\n",
       "      <td>Adrian</td>\n",
       "      <td>Hilton</td>\n",
       "      <td>53</td>\n",
       "      <td>Husband</td>\n",
       "      <td>Married</td>\n",
       "      <td>Male</td>\n",
       "      <td>Accountant, chartered management</td>\n",
       "      <td>None</td>\n",
       "      <td>None</td>\n",
       "    </tr>\n",
       "    <tr>\n",
       "      <th>4330</th>\n",
       "      <td>53</td>\n",
       "      <td>Smith Plains</td>\n",
       "      <td>Laura</td>\n",
       "      <td>Hilton</td>\n",
       "      <td>27</td>\n",
       "      <td>Daughter</td>\n",
       "      <td>Single</td>\n",
       "      <td>Female</td>\n",
       "      <td>Facilities manager</td>\n",
       "      <td>None</td>\n",
       "      <td>Christian</td>\n",
       "    </tr>\n",
       "    <tr>\n",
       "      <th>4331</th>\n",
       "      <td>53</td>\n",
       "      <td>Smith Plains</td>\n",
       "      <td>Richard</td>\n",
       "      <td>Hilton</td>\n",
       "      <td>27</td>\n",
       "      <td>Son</td>\n",
       "      <td>Single</td>\n",
       "      <td>Male</td>\n",
       "      <td>Barrister's clerk</td>\n",
       "      <td>None</td>\n",
       "      <td>Christian</td>\n",
       "    </tr>\n",
       "    <tr>\n",
       "      <th>4332</th>\n",
       "      <td>53</td>\n",
       "      <td>Smith Plains</td>\n",
       "      <td>Jean</td>\n",
       "      <td>Hilton</td>\n",
       "      <td>16</td>\n",
       "      <td>Daughter</td>\n",
       "      <td>Single Student</td>\n",
       "      <td>Female</td>\n",
       "      <td>Student</td>\n",
       "      <td>None</td>\n",
       "      <td>NaN</td>\n",
       "    </tr>\n",
       "  </tbody>\n",
       "</table>\n",
       "</div>"
      ],
      "text/plain": [
       "      House Number        Street First Name Surname  Age  \\\n",
       "4328            53  Smith Plains       Lynn  Hilton   52   \n",
       "4329            53  Smith Plains     Adrian  Hilton   53   \n",
       "4330            53  Smith Plains      Laura  Hilton   27   \n",
       "4331            53  Smith Plains    Richard  Hilton   27   \n",
       "4332            53  Smith Plains       Jean  Hilton   16   \n",
       "\n",
       "     Relationship to Head of House  Marital Status  Gender  \\\n",
       "4328                          Head             NaN  Female   \n",
       "4329                       Husband         Married    Male   \n",
       "4330                      Daughter          Single  Female   \n",
       "4331                           Son          Single    Male   \n",
       "4332                      Daughter  Single Student  Female   \n",
       "\n",
       "                            Occupation Infirmity   Religion  \n",
       "4328                   Hospital doctor      None  Christian  \n",
       "4329  Accountant, chartered management      None       None  \n",
       "4330                Facilities manager      None  Christian  \n",
       "4331                 Barrister's clerk      None  Christian  \n",
       "4332                           Student      None        NaN  "
      ]
     },
     "execution_count": 33,
     "metadata": {},
     "output_type": "execute_result"
    }
   ],
   "source": [
    "# Define the values you want to search for\n",
    "house_number_value = 53\n",
    "street_value = 'Smith Plains'\n",
    "\n",
    "# Create a boolean mask to identify rows where the house_number and street columns have the specified values\n",
    "mask = (census_dataframe['House Number'] == house_number_value) & (census_dataframe['Street'] == street_value)\n",
    "\n",
    "# Use the boolean mask to index the DataFrame and select only the rows that meet the specified condition\n",
    "selected_rows = census_dataframe[mask]\n",
    "\n",
    "selected_rows"
   ]
  },
  {
   "cell_type": "code",
   "execution_count": 34,
   "id": "82c95d9f",
   "metadata": {},
   "outputs": [
    {
     "data": {
      "text/plain": [
       "'Married'"
      ]
     },
     "execution_count": 34,
     "metadata": {},
     "output_type": "execute_result"
    }
   ],
   "source": [
    "#Lynn is the head and most likey wife to Adrian Hilton, hence replace NaN value with Wife\n",
    "census_dataframe.at[4328,\"Marital Status\"]=\"Married\"\n",
    "census_dataframe.at[4328,\"Marital Status\"]\n"
   ]
  },
  {
   "cell_type": "code",
   "execution_count": 35,
   "id": "1af1b8c4",
   "metadata": {},
   "outputs": [
    {
     "data": {
      "text/html": [
       "<div>\n",
       "<style scoped>\n",
       "    .dataframe tbody tr th:only-of-type {\n",
       "        vertical-align: middle;\n",
       "    }\n",
       "\n",
       "    .dataframe tbody tr th {\n",
       "        vertical-align: top;\n",
       "    }\n",
       "\n",
       "    .dataframe thead th {\n",
       "        text-align: right;\n",
       "    }\n",
       "</style>\n",
       "<table border=\"1\" class=\"dataframe\">\n",
       "  <thead>\n",
       "    <tr style=\"text-align: right;\">\n",
       "      <th></th>\n",
       "      <th>House Number</th>\n",
       "      <th>Street</th>\n",
       "      <th>First Name</th>\n",
       "      <th>Surname</th>\n",
       "      <th>Age</th>\n",
       "      <th>Relationship to Head of House</th>\n",
       "      <th>Marital Status</th>\n",
       "      <th>Gender</th>\n",
       "      <th>Occupation</th>\n",
       "      <th>Infirmity</th>\n",
       "      <th>Religion</th>\n",
       "    </tr>\n",
       "  </thead>\n",
       "  <tbody>\n",
       "    <tr>\n",
       "      <th>7102</th>\n",
       "      <td>24</td>\n",
       "      <td>Ellis Mountain</td>\n",
       "      <td>Andrew</td>\n",
       "      <td>Jennings</td>\n",
       "      <td>59</td>\n",
       "      <td>Head</td>\n",
       "      <td>Single</td>\n",
       "      <td>Male</td>\n",
       "      <td>Civil engineer, consulting</td>\n",
       "      <td>None</td>\n",
       "      <td>None</td>\n",
       "    </tr>\n",
       "    <tr>\n",
       "      <th>7103</th>\n",
       "      <td>24</td>\n",
       "      <td>Ellis Mountain</td>\n",
       "      <td>Susan</td>\n",
       "      <td>Taylor</td>\n",
       "      <td>19</td>\n",
       "      <td>None</td>\n",
       "      <td>NaN</td>\n",
       "      <td>Female</td>\n",
       "      <td>University Student</td>\n",
       "      <td>None</td>\n",
       "      <td>Christian</td>\n",
       "    </tr>\n",
       "  </tbody>\n",
       "</table>\n",
       "</div>"
      ],
      "text/plain": [
       "      House Number          Street First Name   Surname  Age  \\\n",
       "7102            24  Ellis Mountain     Andrew  Jennings   59   \n",
       "7103            24  Ellis Mountain      Susan    Taylor   19   \n",
       "\n",
       "     Relationship to Head of House Marital Status  Gender  \\\n",
       "7102                          Head         Single    Male   \n",
       "7103                          None            NaN  Female   \n",
       "\n",
       "                      Occupation Infirmity   Religion  \n",
       "7102  Civil engineer, consulting      None       None  \n",
       "7103          University Student      None  Christian  "
      ]
     },
     "execution_count": 35,
     "metadata": {},
     "output_type": "execute_result"
    }
   ],
   "source": [
    "# Define the values you want to search for\n",
    "house_number_value = 24\n",
    "street_value = 'Ellis Mountain'\n",
    "\n",
    "# Create a boolean mask to identify rows where the house_number and street columns have the specified values\n",
    "mask = (census_dataframe['House Number'] == house_number_value) & (census_dataframe['Street'] == street_value)\n",
    "\n",
    "# Use the boolean mask to index the DataFrame and select only the rows that meet the specified condition\n",
    "selected_rows = census_dataframe[mask]\n",
    "\n",
    "selected_rows"
   ]
  },
  {
   "cell_type": "code",
   "execution_count": 36,
   "id": "65ddd173",
   "metadata": {},
   "outputs": [
    {
     "data": {
      "text/plain": [
       "'Single'"
      ]
     },
     "execution_count": 36,
     "metadata": {},
     "output_type": "execute_result"
    }
   ],
   "source": [
    "#Susan is most likely single, university student she is just 19 and sharing an appartment with Andrew, but they have no relation\n",
    "census_dataframe.at[7103,\"Marital Status\"]=\"Single\"\n",
    "census_dataframe.at[7103,\"Marital Status\"] # confirmation that the change has been effected"
   ]
  },
  {
   "cell_type": "code",
   "execution_count": 37,
   "id": "33cb1aab",
   "metadata": {
    "scrolled": true
   },
   "outputs": [
    {
     "data": {
      "text/html": [
       "<div>\n",
       "<style scoped>\n",
       "    .dataframe tbody tr th:only-of-type {\n",
       "        vertical-align: middle;\n",
       "    }\n",
       "\n",
       "    .dataframe tbody tr th {\n",
       "        vertical-align: top;\n",
       "    }\n",
       "\n",
       "    .dataframe thead th {\n",
       "        text-align: right;\n",
       "    }\n",
       "</style>\n",
       "<table border=\"1\" class=\"dataframe\">\n",
       "  <thead>\n",
       "    <tr style=\"text-align: right;\">\n",
       "      <th></th>\n",
       "      <th>House Number</th>\n",
       "      <th>Street</th>\n",
       "      <th>First Name</th>\n",
       "      <th>Surname</th>\n",
       "      <th>Age</th>\n",
       "      <th>Relationship to Head of House</th>\n",
       "      <th>Marital Status</th>\n",
       "      <th>Gender</th>\n",
       "      <th>Occupation</th>\n",
       "      <th>Infirmity</th>\n",
       "      <th>Religion</th>\n",
       "    </tr>\n",
       "  </thead>\n",
       "  <tbody>\n",
       "    <tr>\n",
       "      <th>7458</th>\n",
       "      <td>30</td>\n",
       "      <td>Freeman Trail</td>\n",
       "      <td>Eleanor</td>\n",
       "      <td>Simpson</td>\n",
       "      <td>19</td>\n",
       "      <td>Head</td>\n",
       "      <td>Single</td>\n",
       "      <td>Female</td>\n",
       "      <td>University Student</td>\n",
       "      <td>None</td>\n",
       "      <td>None</td>\n",
       "    </tr>\n",
       "    <tr>\n",
       "      <th>7459</th>\n",
       "      <td>30</td>\n",
       "      <td>Freeman Trail</td>\n",
       "      <td>Thomas</td>\n",
       "      <td>Ball</td>\n",
       "      <td>22</td>\n",
       "      <td>None</td>\n",
       "      <td>Single</td>\n",
       "      <td>Male</td>\n",
       "      <td>University Student</td>\n",
       "      <td>None</td>\n",
       "      <td>Catholic</td>\n",
       "    </tr>\n",
       "    <tr>\n",
       "      <th>7460</th>\n",
       "      <td>30</td>\n",
       "      <td>Freeman Trail</td>\n",
       "      <td>Adrian</td>\n",
       "      <td>King</td>\n",
       "      <td>20</td>\n",
       "      <td>None</td>\n",
       "      <td>NaN</td>\n",
       "      <td>Male</td>\n",
       "      <td>University Student</td>\n",
       "      <td>None</td>\n",
       "      <td>Christian</td>\n",
       "    </tr>\n",
       "  </tbody>\n",
       "</table>\n",
       "</div>"
      ],
      "text/plain": [
       "      House Number         Street First Name  Surname  Age  \\\n",
       "7458            30  Freeman Trail    Eleanor  Simpson   19   \n",
       "7459            30  Freeman Trail     Thomas     Ball   22   \n",
       "7460            30  Freeman Trail     Adrian     King   20   \n",
       "\n",
       "     Relationship to Head of House Marital Status  Gender          Occupation  \\\n",
       "7458                          Head         Single  Female  University Student   \n",
       "7459                          None         Single    Male  University Student   \n",
       "7460                          None            NaN    Male  University Student   \n",
       "\n",
       "     Infirmity   Religion  \n",
       "7458      None       None  \n",
       "7459      None   Catholic  \n",
       "7460      None  Christian  "
      ]
     },
     "execution_count": 37,
     "metadata": {},
     "output_type": "execute_result"
    }
   ],
   "source": [
    "# Define the values you want to search for\n",
    "house_number_value = 30\n",
    "street_value = 'Freeman Trail'\n",
    "\n",
    "# Create a boolean mask to identify rows where the house_number and street columns have the specified values\n",
    "mask = (census_dataframe['House Number'] == house_number_value) & (census_dataframe['Street'] == street_value)\n",
    "\n",
    "# Use the boolean mask to index the DataFrame and select only the rows that meet the specified condition\n",
    "selected_rows = census_dataframe[mask]\n",
    "\n",
    "selected_rows"
   ]
  },
  {
   "cell_type": "code",
   "execution_count": 38,
   "id": "1444dc9e",
   "metadata": {},
   "outputs": [
    {
     "data": {
      "text/plain": [
       "'Single'"
      ]
     },
     "execution_count": 38,
     "metadata": {},
     "output_type": "execute_result"
    }
   ],
   "source": [
    "#Adrian is most likely a single university student sharing an apartment with Thomas and  Eleanor since they do not have any relation \n",
    "census_dataframe.at[7460,\"Marital Status\"]=\"Single\"\n",
    "census_dataframe.at[7460,\"Marital Status\"] # confirmation that the change has been effected"
   ]
  },
  {
   "cell_type": "code",
   "execution_count": 39,
   "id": "9bc74557",
   "metadata": {},
   "outputs": [
    {
     "data": {
      "text/plain": [
       "Text(0.5, 1.0, 'Age by Marital Status')"
      ]
     },
     "execution_count": 39,
     "metadata": {},
     "output_type": "execute_result"
    },
    {
     "data": {
      "image/png": "[encoded data removed]",
      "text/plain": [
       "<Figure size 1000x600 with 1 Axes>"
      ]
     },
     "metadata": {},
     "output_type": "display_data"
    }
   ],
   "source": [
    "import matplotlib.pyplot as plt\n",
    "# Define the colors for the box plot elements\n",
    "colors = {\n",
    "    'boxes': 'red',\n",
    "    'whiskers': 'blue',\n",
    "    'caps': 'green',\n",
    "    'medians': 'orange'\n",
    "}\n",
    "\n",
    "# Create a box plot of the age column for each religion category with custom colors\n",
    "census_dataframe.boxplot(column='Age', by='Marital Status', figsize=(10, 6), color=colors)\n",
    "\n",
    "# Add labels and title\n",
    "plt.xlabel('Marital Status')\n",
    "plt.ylabel('Age')\n",
    "plt.title('Age by Marital Status')"
   ]
  },
  {
   "cell_type": "code",
   "execution_count": 40,
   "id": "0bb281fd",
   "metadata": {
    "scrolled": true
   },
   "outputs": [
    {
     "data": {
      "text/plain": [
       "Single            2943\n",
       "Married           2226\n",
       "Single Student    1556\n",
       "Divorced           744\n",
       "Single Child       500\n",
       "Widowed            360\n",
       "Name: Marital Status, dtype: int64"
      ]
     },
     "execution_count": 40,
     "metadata": {},
     "output_type": "execute_result"
    }
   ],
   "source": [
    "census_dataframe[\"Marital Status\"].value_counts()"
   ]
  },
  {
   "cell_type": "code",
   "execution_count": 41,
   "id": "b9f98a8c",
   "metadata": {
    "scrolled": true
   },
   "outputs": [
    {
     "name": "stdout",
     "output_type": "stream",
     "text": [
      "<class 'pandas.core.frame.DataFrame'>\n",
      "RangeIndex: 8329 entries, 0 to 8328\n",
      "Data columns (total 11 columns):\n",
      " #   Column                         Non-Null Count  Dtype \n",
      "---  ------                         --------------  ----- \n",
      " 0   House Number                   8329 non-null   int64 \n",
      " 1   Street                         8329 non-null   object\n",
      " 2   First Name                     8328 non-null   object\n",
      " 3   Surname                        8329 non-null   object\n",
      " 4   Age                            8329 non-null   Int64 \n",
      " 5   Relationship to Head of House  8329 non-null   object\n",
      " 6   Marital Status                 8329 non-null   object\n",
      " 7   Gender                         8329 non-null   object\n",
      " 8   Occupation                     8329 non-null   object\n",
      " 9   Infirmity                      8321 non-null   object\n",
      " 10  Religion                       6220 non-null   object\n",
      "dtypes: Int64(1), int64(1), object(9)\n",
      "memory usage: 724.0+ KB\n"
     ]
    }
   ],
   "source": [
    "census_dataframe.info()"
   ]
  },
  {
   "cell_type": "markdown",
   "id": "a9306170",
   "metadata": {},
   "source": [
    "# Infirmity Column"
   ]
  },
  {
   "cell_type": "code",
   "execution_count": 42,
   "id": "0c130505",
   "metadata": {
    "scrolled": true
   },
   "outputs": [
    {
     "data": {
      "text/plain": [
       "None                   8261\n",
       "Physical Disability      17\n",
       "Mental Disability        13\n",
       "Blind                    10\n",
       "Unknown Infection         8\n",
       "NaN                       8\n",
       "Deaf                      8\n",
       "Disabled                  4\n",
       "Name: Infirmity, dtype: int64"
      ]
     },
     "execution_count": 42,
     "metadata": {},
     "output_type": "execute_result"
    }
   ],
   "source": [
    "census_dataframe[\"Infirmity\"].value_counts(dropna=False)"
   ]
  },
  {
   "cell_type": "code",
   "execution_count": 43,
   "id": "aa4ba88b",
   "metadata": {
    "scrolled": false
   },
   "outputs": [
    {
     "data": {
      "text/html": [
       "<div>\n",
       "<style scoped>\n",
       "    .dataframe tbody tr th:only-of-type {\n",
       "        vertical-align: middle;\n",
       "    }\n",
       "\n",
       "    .dataframe tbody tr th {\n",
       "        vertical-align: top;\n",
       "    }\n",
       "\n",
       "    .dataframe thead th {\n",
       "        text-align: right;\n",
       "    }\n",
       "</style>\n",
       "<table border=\"1\" class=\"dataframe\">\n",
       "  <thead>\n",
       "    <tr style=\"text-align: right;\">\n",
       "      <th></th>\n",
       "      <th>House Number</th>\n",
       "      <th>Street</th>\n",
       "      <th>First Name</th>\n",
       "      <th>Surname</th>\n",
       "      <th>Age</th>\n",
       "      <th>Relationship to Head of House</th>\n",
       "      <th>Marital Status</th>\n",
       "      <th>Gender</th>\n",
       "      <th>Occupation</th>\n",
       "      <th>Infirmity</th>\n",
       "      <th>Religion</th>\n",
       "    </tr>\n",
       "  </thead>\n",
       "  <tbody>\n",
       "    <tr>\n",
       "      <th>344</th>\n",
       "      <td>29</td>\n",
       "      <td>Gold Road</td>\n",
       "      <td>Joanna</td>\n",
       "      <td>Francis</td>\n",
       "      <td>65</td>\n",
       "      <td>Head</td>\n",
       "      <td>Single</td>\n",
       "      <td>Female</td>\n",
       "      <td>Clothing/textile technologist</td>\n",
       "      <td>NaN</td>\n",
       "      <td>Christian</td>\n",
       "    </tr>\n",
       "    <tr>\n",
       "      <th>462</th>\n",
       "      <td>13</td>\n",
       "      <td>Peninsula Drive</td>\n",
       "      <td>Lucy</td>\n",
       "      <td>Graham-Rogers</td>\n",
       "      <td>0</td>\n",
       "      <td>Daughter</td>\n",
       "      <td>Single Child</td>\n",
       "      <td>Female</td>\n",
       "      <td>Child</td>\n",
       "      <td>NaN</td>\n",
       "      <td>NaN</td>\n",
       "    </tr>\n",
       "    <tr>\n",
       "      <th>1284</th>\n",
       "      <td>182</td>\n",
       "      <td>Wessex Drive</td>\n",
       "      <td>Susan</td>\n",
       "      <td>Mills</td>\n",
       "      <td>50</td>\n",
       "      <td>Head</td>\n",
       "      <td>Single</td>\n",
       "      <td>Female</td>\n",
       "      <td>International aid/development worker</td>\n",
       "      <td>NaN</td>\n",
       "      <td>Christian</td>\n",
       "    </tr>\n",
       "    <tr>\n",
       "      <th>1587</th>\n",
       "      <td>9</td>\n",
       "      <td>Charity Road</td>\n",
       "      <td>Stewart</td>\n",
       "      <td>Brown</td>\n",
       "      <td>3</td>\n",
       "      <td>Son</td>\n",
       "      <td>Single Child</td>\n",
       "      <td>Male</td>\n",
       "      <td>Child</td>\n",
       "      <td>NaN</td>\n",
       "      <td>NaN</td>\n",
       "    </tr>\n",
       "    <tr>\n",
       "      <th>1630</th>\n",
       "      <td>18</td>\n",
       "      <td>Charity Road</td>\n",
       "      <td>Jade</td>\n",
       "      <td>Holmes</td>\n",
       "      <td>50</td>\n",
       "      <td>Head</td>\n",
       "      <td>Married</td>\n",
       "      <td>Female</td>\n",
       "      <td>Amenity horticulturist</td>\n",
       "      <td>NaN</td>\n",
       "      <td>None</td>\n",
       "    </tr>\n",
       "    <tr>\n",
       "      <th>1665</th>\n",
       "      <td>22</td>\n",
       "      <td>Charity Road</td>\n",
       "      <td>Adrian</td>\n",
       "      <td>Turner</td>\n",
       "      <td>6</td>\n",
       "      <td>Son</td>\n",
       "      <td>Single Student</td>\n",
       "      <td>Male</td>\n",
       "      <td>Student</td>\n",
       "      <td>NaN</td>\n",
       "      <td>NaN</td>\n",
       "    </tr>\n",
       "    <tr>\n",
       "      <th>7030</th>\n",
       "      <td>8</td>\n",
       "      <td>Naylor Crescent</td>\n",
       "      <td>Olivia</td>\n",
       "      <td>Porter</td>\n",
       "      <td>22</td>\n",
       "      <td>Head</td>\n",
       "      <td>Single</td>\n",
       "      <td>Female</td>\n",
       "      <td>University Student</td>\n",
       "      <td>NaN</td>\n",
       "      <td>None</td>\n",
       "    </tr>\n",
       "    <tr>\n",
       "      <th>8101</th>\n",
       "      <td>54</td>\n",
       "      <td>Kestrel Flat</td>\n",
       "      <td>Elizabeth</td>\n",
       "      <td>Singh</td>\n",
       "      <td>43</td>\n",
       "      <td>Head</td>\n",
       "      <td>Married</td>\n",
       "      <td>Female</td>\n",
       "      <td>Trading standards officer</td>\n",
       "      <td>NaN</td>\n",
       "      <td>Christian</td>\n",
       "    </tr>\n",
       "  </tbody>\n",
       "</table>\n",
       "</div>"
      ],
      "text/plain": [
       "      House Number           Street First Name        Surname  Age  \\\n",
       "344             29        Gold Road     Joanna        Francis   65   \n",
       "462             13  Peninsula Drive       Lucy  Graham-Rogers    0   \n",
       "1284           182     Wessex Drive      Susan          Mills   50   \n",
       "1587             9     Charity Road    Stewart          Brown    3   \n",
       "1630            18     Charity Road       Jade         Holmes   50   \n",
       "1665            22     Charity Road     Adrian         Turner    6   \n",
       "7030             8  Naylor Crescent     Olivia         Porter   22   \n",
       "8101            54     Kestrel Flat  Elizabeth          Singh   43   \n",
       "\n",
       "     Relationship to Head of House  Marital Status  Gender  \\\n",
       "344                           Head          Single  Female   \n",
       "462                       Daughter    Single Child  Female   \n",
       "1284                          Head          Single  Female   \n",
       "1587                           Son    Single Child    Male   \n",
       "1630                          Head         Married  Female   \n",
       "1665                           Son  Single Student    Male   \n",
       "7030                          Head          Single  Female   \n",
       "8101                          Head         Married  Female   \n",
       "\n",
       "                                Occupation Infirmity   Religion  \n",
       "344          Clothing/textile technologist       NaN  Christian  \n",
       "462                                  Child       NaN        NaN  \n",
       "1284  International aid/development worker       NaN  Christian  \n",
       "1587                                 Child       NaN        NaN  \n",
       "1630                Amenity horticulturist       NaN       None  \n",
       "1665                               Student       NaN        NaN  \n",
       "7030                    University Student       NaN       None  \n",
       "8101             Trading standards officer       NaN  Christian  "
      ]
     },
     "execution_count": 43,
     "metadata": {},
     "output_type": "execute_result"
    }
   ],
   "source": [
    "#Dispalying rows with NaN in the marital status page\n",
    "mask_Infirmity = census_dataframe[\"Infirmity\"].isna()\n",
    "census_dataframe[mask_Infirmity]"
   ]
  },
  {
   "cell_type": "code",
   "execution_count": 44,
   "id": "c988ed70",
   "metadata": {},
   "outputs": [],
   "source": [
    "#Replace the NaN values with None since most likely a blank value means no value was provided and most likely None\n",
    "census_dataframe[\"Infirmity\"] = census_dataframe[\"Infirmity\"].fillna(\"None\")"
   ]
  },
  {
   "cell_type": "code",
   "execution_count": 45,
   "id": "eeecc025",
   "metadata": {
    "scrolled": true
   },
   "outputs": [
    {
     "data": {
      "text/html": [
       "<div>\n",
       "<style scoped>\n",
       "    .dataframe tbody tr th:only-of-type {\n",
       "        vertical-align: middle;\n",
       "    }\n",
       "\n",
       "    .dataframe tbody tr th {\n",
       "        vertical-align: top;\n",
       "    }\n",
       "\n",
       "    .dataframe thead th {\n",
       "        text-align: right;\n",
       "    }\n",
       "</style>\n",
       "<table border=\"1\" class=\"dataframe\">\n",
       "  <thead>\n",
       "    <tr style=\"text-align: right;\">\n",
       "      <th></th>\n",
       "      <th>House Number</th>\n",
       "      <th>Street</th>\n",
       "      <th>First Name</th>\n",
       "      <th>Surname</th>\n",
       "      <th>Age</th>\n",
       "      <th>Relationship to Head of House</th>\n",
       "      <th>Marital Status</th>\n",
       "      <th>Gender</th>\n",
       "      <th>Occupation</th>\n",
       "      <th>Infirmity</th>\n",
       "      <th>Religion</th>\n",
       "    </tr>\n",
       "  </thead>\n",
       "  <tbody>\n",
       "  </tbody>\n",
       "</table>\n",
       "</div>"
      ],
      "text/plain": [
       "Empty DataFrame\n",
       "Columns: [House Number, Street, First Name, Surname, Age, Relationship to Head of House, Marital Status, Gender, Occupation, Infirmity, Religion]\n",
       "Index: []"
      ]
     },
     "execution_count": 45,
     "metadata": {},
     "output_type": "execute_result"
    }
   ],
   "source": [
    "#Dispalying rows with NaN in the marital status page\n",
    "mask_Infirmity = census_dataframe[\"Infirmity\"].isna()\n",
    "census_dataframe[mask_Infirmity]"
   ]
  },
  {
   "cell_type": "code",
   "execution_count": 46,
   "id": "d9c8b63b",
   "metadata": {},
   "outputs": [
    {
     "data": {
      "text/plain": [
       "None                   8269\n",
       "Physical Disability      17\n",
       "Mental Disability        13\n",
       "Blind                    10\n",
       "Unknown Infection         8\n",
       "Deaf                      8\n",
       "Disabled                  4\n",
       "Name: Infirmity, dtype: int64"
      ]
     },
     "execution_count": 46,
     "metadata": {},
     "output_type": "execute_result"
    }
   ],
   "source": [
    "census_dataframe[\"Infirmity\"].value_counts()"
   ]
  },
  {
   "cell_type": "markdown",
   "id": "cecc40eb",
   "metadata": {},
   "source": [
    "# Religion Column"
   ]
  },
  {
   "cell_type": "code",
   "execution_count": 47,
   "id": "146bddc8",
   "metadata": {
    "scrolled": true
   },
   "outputs": [
    {
     "data": {
      "text/plain": [
       "array(['Catholic', 'Methodist', 'None', nan, 'Christian', 'Sikh',\n",
       "       'Muslim', 'Jewish', 'Buddist', 'Quaker'], dtype=object)"
      ]
     },
     "execution_count": 47,
     "metadata": {},
     "output_type": "execute_result"
    }
   ],
   "source": [
    "census_dataframe[\"Religion\"].unique()"
   ]
  },
  {
   "cell_type": "code",
   "execution_count": 48,
   "id": "703ba5d3",
   "metadata": {},
   "outputs": [
    {
     "data": {
      "text/plain": [
       "None         2800\n",
       "NaN          2109\n",
       "Christian    1781\n",
       "Catholic      881\n",
       "Methodist     547\n",
       "Muslim        115\n",
       "Sikh           55\n",
       "Jewish         38\n",
       "Quaker          2\n",
       "Buddist         1\n",
       "Name: Religion, dtype: int64"
      ]
     },
     "execution_count": 48,
     "metadata": {},
     "output_type": "execute_result"
    }
   ],
   "source": [
    "census_dataframe[\"Religion\"].value_counts(dropna=False) "
   ]
  },
  {
   "cell_type": "code",
   "execution_count": 49,
   "id": "28395be1",
   "metadata": {
    "scrolled": false
   },
   "outputs": [
    {
     "name": "stderr",
     "output_type": "stream",
     "text": [
      "C:\\Users\\Administrator\\AppData\\Local\\Temp\\ipykernel_6668\\54725601.py:11: FutureWarning: Not prepending group keys to the result index of transform-like apply. In the future, the group keys will be included in the index, regardless of whether the applied function returns a like-indexed object.\n",
      "To preserve the previous behavior, use\n",
      "\n",
      "\t>>> .groupby(..., group_keys=False)\n",
      "\n",
      "To adopt the future behavior and silence this warning, use \n",
      "\n",
      "\t>>> .groupby(..., group_keys=True)\n",
      "  religion_percentage = grouped.groupby(level=[0, 1]).apply(lambda x: x / x.sum())\n"
     ]
    },
    {
     "data": {
      "text/plain": [
       "Religion\n",
       "Buddist       25.00%\n",
       "Catholic      85.38%\n",
       "Christian     91.73%\n",
       "Jewish        80.11%\n",
       "Methodist     83.53%\n",
       "Muslim        71.80%\n",
       "Quaker       100.00%\n",
       "Sikh          68.58%\n",
       "Name: Religion, dtype: object"
      ]
     },
     "execution_count": 49,
     "metadata": {},
     "output_type": "execute_result"
    }
   ],
   "source": [
    "import pandas as pd\n",
    "\n",
    "\n",
    "# Filter the dataframe to only include rows where the religion column is not null and not 'None'\n",
    "df_filtered = census_dataframe[(census_dataframe['Religion'].notnull()) & (census_dataframe['Religion'] != 'None')]\n",
    "\n",
    "# Group the data by house number and street and count the frequency of each religion within each group\n",
    "grouped = df_filtered.groupby(['House Number', 'Street'])['Religion'].value_counts()\n",
    "\n",
    "# Calculate the percentage of people in each religion for each group\n",
    "religion_percentage = grouped.groupby(level=[0, 1]).apply(lambda x: x / x.sum())\n",
    "\n",
    "average_percentage = religion_percentage.groupby(level=2).mean()\n",
    "average_percentage = average_percentage.apply(lambda x: f'{x:.2%}')\n",
    "average_percentage"
   ]
  },
  {
   "cell_type": "markdown",
   "id": "272a2d26",
   "metadata": {},
   "source": [
    "From the above, it is clear that the Quakers live alone in a household, while Christians also tend to live together in a single household, and Sikhs tend to be distributed among several households compared to other religions"
   ]
  },
  {
   "cell_type": "code",
   "execution_count": 50,
   "id": "7902d67c",
   "metadata": {
    "scrolled": true
   },
   "outputs": [],
   "source": [
    "import pandas as pd\n",
    "import numpy as np\n",
    "\n",
    "# define a function to impute missing values\n",
    "def impute_religion(row):\n",
    "    if pd.isnull(row['Religion']):\n",
    "        if row['Age'] >= 16:\n",
    "            house = row['House Number']\n",
    "            street = row['Street']\n",
    "            house_group = census_dataframe[(census_dataframe['House Number'] == house) & (census_dataframe['Street'] == street)]\n",
    "            religion_counts = house_group['Religion'].value_counts()\n",
    "            if not religion_counts.empty:\n",
    "                top_religion = religion_counts.index[0]\n",
    "                if top_religion in ['Christian', 'Catholic', 'Methodist', 'Muslim', 'Quaker']:\n",
    "                    return top_religion\n",
    "                else:\n",
    "                    return np.nan\n",
    "            else:\n",
    "                return np.nan\n",
    "        else:\n",
    "            return 'unidentified-under 16'\n",
    "    else:\n",
    "        return row['Religion']\n",
    "\n",
    "# apply the function to the DataFrame\n",
    "census_dataframe['Religion'] = census_dataframe.apply(impute_religion, axis=1)"
   ]
  },
  {
   "cell_type": "code",
   "execution_count": 51,
   "id": "8919b0a3",
   "metadata": {},
   "outputs": [
    {
     "data": {
      "text/html": [
       "<div>\n",
       "<style scoped>\n",
       "    .dataframe tbody tr th:only-of-type {\n",
       "        vertical-align: middle;\n",
       "    }\n",
       "\n",
       "    .dataframe tbody tr th {\n",
       "        vertical-align: top;\n",
       "    }\n",
       "\n",
       "    .dataframe thead th {\n",
       "        text-align: right;\n",
       "    }\n",
       "</style>\n",
       "<table border=\"1\" class=\"dataframe\">\n",
       "  <thead>\n",
       "    <tr style=\"text-align: right;\">\n",
       "      <th></th>\n",
       "      <th>House Number</th>\n",
       "      <th>Street</th>\n",
       "      <th>First Name</th>\n",
       "      <th>Surname</th>\n",
       "      <th>Age</th>\n",
       "      <th>Relationship to Head of House</th>\n",
       "      <th>Marital Status</th>\n",
       "      <th>Gender</th>\n",
       "      <th>Occupation</th>\n",
       "      <th>Infirmity</th>\n",
       "      <th>Religion</th>\n",
       "    </tr>\n",
       "  </thead>\n",
       "  <tbody>\n",
       "    <tr>\n",
       "      <th>0</th>\n",
       "      <td>1</td>\n",
       "      <td>Scott Dale</td>\n",
       "      <td>Maureen</td>\n",
       "      <td>Cox</td>\n",
       "      <td>50</td>\n",
       "      <td>Head</td>\n",
       "      <td>Single</td>\n",
       "      <td>Female</td>\n",
       "      <td>Engineer, building services</td>\n",
       "      <td>None</td>\n",
       "      <td>Catholic</td>\n",
       "    </tr>\n",
       "    <tr>\n",
       "      <th>1</th>\n",
       "      <td>1</td>\n",
       "      <td>Scott Dale</td>\n",
       "      <td>Rhys</td>\n",
       "      <td>Brown</td>\n",
       "      <td>52</td>\n",
       "      <td>Partner</td>\n",
       "      <td>Single</td>\n",
       "      <td>Male</td>\n",
       "      <td>Engineer, mining</td>\n",
       "      <td>None</td>\n",
       "      <td>Catholic</td>\n",
       "    </tr>\n",
       "    <tr>\n",
       "      <th>2</th>\n",
       "      <td>2</td>\n",
       "      <td>Scott Dale</td>\n",
       "      <td>Lorraine</td>\n",
       "      <td>Allen</td>\n",
       "      <td>69</td>\n",
       "      <td>Head</td>\n",
       "      <td>Married</td>\n",
       "      <td>Female</td>\n",
       "      <td>Unemployed</td>\n",
       "      <td>None</td>\n",
       "      <td>Methodist</td>\n",
       "    </tr>\n",
       "    <tr>\n",
       "      <th>3</th>\n",
       "      <td>2</td>\n",
       "      <td>Scott Dale</td>\n",
       "      <td>Lewis</td>\n",
       "      <td>Allen</td>\n",
       "      <td>72</td>\n",
       "      <td>Husband</td>\n",
       "      <td>Married</td>\n",
       "      <td>Male</td>\n",
       "      <td>Retired Associate Professor</td>\n",
       "      <td>None</td>\n",
       "      <td>Methodist</td>\n",
       "    </tr>\n",
       "    <tr>\n",
       "      <th>4</th>\n",
       "      <td>3</td>\n",
       "      <td>Scott Dale</td>\n",
       "      <td>Molly</td>\n",
       "      <td>Patel</td>\n",
       "      <td>36</td>\n",
       "      <td>Head</td>\n",
       "      <td>Married</td>\n",
       "      <td>Female</td>\n",
       "      <td>Engineer, land</td>\n",
       "      <td>None</td>\n",
       "      <td>None</td>\n",
       "    </tr>\n",
       "    <tr>\n",
       "      <th>...</th>\n",
       "      <td>...</td>\n",
       "      <td>...</td>\n",
       "      <td>...</td>\n",
       "      <td>...</td>\n",
       "      <td>...</td>\n",
       "      <td>...</td>\n",
       "      <td>...</td>\n",
       "      <td>...</td>\n",
       "      <td>...</td>\n",
       "      <td>...</td>\n",
       "      <td>...</td>\n",
       "    </tr>\n",
       "    <tr>\n",
       "      <th>8324</th>\n",
       "      <td>1</td>\n",
       "      <td>Walker Palace</td>\n",
       "      <td>Adrian</td>\n",
       "      <td>Mason</td>\n",
       "      <td>56</td>\n",
       "      <td>Lodger</td>\n",
       "      <td>Single</td>\n",
       "      <td>Male</td>\n",
       "      <td>Unemployed</td>\n",
       "      <td>None</td>\n",
       "      <td>Muslim</td>\n",
       "    </tr>\n",
       "    <tr>\n",
       "      <th>8325</th>\n",
       "      <td>1</td>\n",
       "      <td>Poole Stronghold</td>\n",
       "      <td>Beth</td>\n",
       "      <td>Evans</td>\n",
       "      <td>43</td>\n",
       "      <td>Head</td>\n",
       "      <td>Married</td>\n",
       "      <td>Female</td>\n",
       "      <td>Buyer, retail</td>\n",
       "      <td>None</td>\n",
       "      <td>Christian</td>\n",
       "    </tr>\n",
       "    <tr>\n",
       "      <th>8326</th>\n",
       "      <td>1</td>\n",
       "      <td>Poole Stronghold</td>\n",
       "      <td>Trevor</td>\n",
       "      <td>Evans</td>\n",
       "      <td>43</td>\n",
       "      <td>Husband</td>\n",
       "      <td>Married</td>\n",
       "      <td>Male</td>\n",
       "      <td>Patent examiner</td>\n",
       "      <td>None</td>\n",
       "      <td>Christian</td>\n",
       "    </tr>\n",
       "    <tr>\n",
       "      <th>8327</th>\n",
       "      <td>1</td>\n",
       "      <td>Poole Stronghold</td>\n",
       "      <td>Pamela</td>\n",
       "      <td>Evans</td>\n",
       "      <td>0</td>\n",
       "      <td>Daughter</td>\n",
       "      <td>Single Child</td>\n",
       "      <td>Female</td>\n",
       "      <td>Child</td>\n",
       "      <td>None</td>\n",
       "      <td>unidentified-under 16</td>\n",
       "    </tr>\n",
       "    <tr>\n",
       "      <th>8328</th>\n",
       "      <td>1</td>\n",
       "      <td>Poole Stronghold</td>\n",
       "      <td>Carol</td>\n",
       "      <td>Thomas</td>\n",
       "      <td>24</td>\n",
       "      <td>Sibling</td>\n",
       "      <td>Single</td>\n",
       "      <td>Female</td>\n",
       "      <td>Administrator, charities/voluntary organisations</td>\n",
       "      <td>None</td>\n",
       "      <td>Christian</td>\n",
       "    </tr>\n",
       "  </tbody>\n",
       "</table>\n",
       "<p>8329 rows × 11 columns</p>\n",
       "</div>"
      ],
      "text/plain": [
       "      House Number            Street First Name Surname  Age  \\\n",
       "0                1        Scott Dale    Maureen     Cox   50   \n",
       "1                1        Scott Dale       Rhys   Brown   52   \n",
       "2                2        Scott Dale   Lorraine   Allen   69   \n",
       "3                2        Scott Dale      Lewis   Allen   72   \n",
       "4                3        Scott Dale      Molly   Patel   36   \n",
       "...            ...               ...        ...     ...  ...   \n",
       "8324             1     Walker Palace     Adrian   Mason   56   \n",
       "8325             1  Poole Stronghold       Beth   Evans   43   \n",
       "8326             1  Poole Stronghold     Trevor   Evans   43   \n",
       "8327             1  Poole Stronghold     Pamela   Evans    0   \n",
       "8328             1  Poole Stronghold      Carol  Thomas   24   \n",
       "\n",
       "     Relationship to Head of House Marital Status  Gender  \\\n",
       "0                             Head         Single  Female   \n",
       "1                          Partner         Single    Male   \n",
       "2                             Head        Married  Female   \n",
       "3                          Husband        Married    Male   \n",
       "4                             Head        Married  Female   \n",
       "...                            ...            ...     ...   \n",
       "8324                        Lodger         Single    Male   \n",
       "8325                          Head        Married  Female   \n",
       "8326                       Husband        Married    Male   \n",
       "8327                      Daughter   Single Child  Female   \n",
       "8328                       Sibling         Single  Female   \n",
       "\n",
       "                                            Occupation Infirmity  \\\n",
       "0                          Engineer, building services      None   \n",
       "1                                     Engineer, mining      None   \n",
       "2                                           Unemployed      None   \n",
       "3                          Retired Associate Professor      None   \n",
       "4                                       Engineer, land      None   \n",
       "...                                                ...       ...   \n",
       "8324                                        Unemployed      None   \n",
       "8325                                     Buyer, retail      None   \n",
       "8326                                   Patent examiner      None   \n",
       "8327                                             Child      None   \n",
       "8328  Administrator, charities/voluntary organisations      None   \n",
       "\n",
       "                   Religion  \n",
       "0                  Catholic  \n",
       "1                  Catholic  \n",
       "2                 Methodist  \n",
       "3                 Methodist  \n",
       "4                      None  \n",
       "...                     ...  \n",
       "8324                 Muslim  \n",
       "8325              Christian  \n",
       "8326              Christian  \n",
       "8327  unidentified-under 16  \n",
       "8328              Christian  \n",
       "\n",
       "[8329 rows x 11 columns]"
      ]
     },
     "execution_count": 51,
     "metadata": {},
     "output_type": "execute_result"
    }
   ],
   "source": [
    "census_dataframe"
   ]
  },
  {
   "cell_type": "code",
   "execution_count": 52,
   "id": "aa372ba4",
   "metadata": {},
   "outputs": [
    {
     "data": {
      "text/plain": [
       "None                     2800\n",
       "Christian                1873\n",
       "unidentified-under 16    1820\n",
       "Catholic                  929\n",
       "Methodist                 580\n",
       "Muslim                    118\n",
       "Sikh                       55\n",
       "Jewish                     38\n",
       "Quaker                      2\n",
       "Buddist                     1\n",
       "Name: Religion, dtype: int64"
      ]
     },
     "execution_count": 52,
     "metadata": {},
     "output_type": "execute_result"
    }
   ],
   "source": [
    "census_dataframe[\"Religion\"].value_counts()"
   ]
  },
  {
   "cell_type": "code",
   "execution_count": 53,
   "id": "024ac3d9",
   "metadata": {
    "scrolled": true
   },
   "outputs": [],
   "source": [
    "census_dataframe['Religion'] = census_dataframe['Religion'].fillna('Unknown>16')"
   ]
  },
  {
   "cell_type": "code",
   "execution_count": 54,
   "id": "35a9f53e",
   "metadata": {},
   "outputs": [
    {
     "data": {
      "text/plain": [
       "None                     2800\n",
       "Christian                1873\n",
       "unidentified-under 16    1820\n",
       "Catholic                  929\n",
       "Methodist                 580\n",
       "Muslim                    118\n",
       "Unknown>16                113\n",
       "Sikh                       55\n",
       "Jewish                     38\n",
       "Quaker                      2\n",
       "Buddist                     1\n",
       "Name: Religion, dtype: int64"
      ]
     },
     "execution_count": 54,
     "metadata": {},
     "output_type": "execute_result"
    }
   ],
   "source": [
    "census_dataframe[\"Religion\"].value_counts()"
   ]
  },
  {
   "cell_type": "markdown",
   "id": "5f230657",
   "metadata": {},
   "source": [
    "# Data Analysis "
   ]
  },
  {
   "cell_type": "markdown",
   "id": "e0b7cb2b",
   "metadata": {},
   "source": [
    "Age distribution of the population"
   ]
  },
  {
   "cell_type": "code",
   "execution_count": 55,
   "id": "8bf0d965",
   "metadata": {},
   "outputs": [],
   "source": [
    "import matplotlib.pyplot as plt"
   ]
  },
  {
   "cell_type": "code",
   "execution_count": 56,
   "id": "37c8ce60",
   "metadata": {},
   "outputs": [
    {
     "name": "stderr",
     "output_type": "stream",
     "text": [
      "C:\\Users\\Administrator\\AppData\\Local\\Programs\\Python\\Python311\\Lib\\site-packages\\seaborn\\distributions.py:499: FutureWarning: In a future version, the Index constructor will not infer numeric dtypes when passed object-dtype sequences (matching Series behavior)\n",
      "  pd.Index(edges, name=\"edges\"),\n",
      "C:\\Users\\Administrator\\AppData\\Local\\Programs\\Python\\Python311\\Lib\\site-packages\\seaborn\\distributions.py:500: FutureWarning: In a future version, the Index constructor will not infer numeric dtypes when passed object-dtype sequences (matching Series behavior)\n",
      "  pd.Index(widths, name=\"widths\"),\n"
     ]
    },
    {
     "data": {
      "text/plain": [
       "<seaborn.axisgrid.FacetGrid at 0x12b41c49690>"
      ]
     },
     "execution_count": 56,
     "metadata": {},
     "output_type": "execute_result"
    },
    {
     "data": {
      "image/png": "[encoded data removed]",
      "text/plain": [
       "<Figure size 500x500 with 1 Axes>"
      ]
     },
     "metadata": {},
     "output_type": "display_data"
    }
   ],
   "source": [
    "sns.displot(census_dataframe['Age'])"
   ]
  },
  {
   "cell_type": "code",
   "execution_count": 57,
   "id": "971766db",
   "metadata": {},
   "outputs": [
    {
     "name": "stdout",
     "output_type": "stream",
     "text": [
      "10\n"
     ]
    }
   ],
   "source": [
    "n_bins=round(np.sqrt(census_dataframe['Age'].nunique()))\n",
    "print(n_bins)"
   ]
  },
  {
   "cell_type": "code",
   "execution_count": 58,
   "id": "bba24dd4",
   "metadata": {},
   "outputs": [
    {
     "name": "stderr",
     "output_type": "stream",
     "text": [
      "C:\\Users\\Administrator\\AppData\\Local\\Programs\\Python\\Python311\\Lib\\site-packages\\seaborn\\distributions.py:499: FutureWarning: In a future version, the Index constructor will not infer numeric dtypes when passed object-dtype sequences (matching Series behavior)\n",
      "  pd.Index(edges, name=\"edges\"),\n",
      "C:\\Users\\Administrator\\AppData\\Local\\Programs\\Python\\Python311\\Lib\\site-packages\\seaborn\\distributions.py:500: FutureWarning: In a future version, the Index constructor will not infer numeric dtypes when passed object-dtype sequences (matching Series behavior)\n",
      "  pd.Index(widths, name=\"widths\"),\n"
     ]
    },
    {
     "data": {
      "text/plain": [
       "Text(0.5, 1.0, 'Age Distribution')"
      ]
     },
     "execution_count": 58,
     "metadata": {},
     "output_type": "execute_result"
    },
    {
     "data": {
      "image/png": "[encoded data removed]",
      "text/plain": [
       "<Figure size 1000x600 with 1 Axes>"
      ]
     },
     "metadata": {},
     "output_type": "display_data"
    }
   ],
   "source": [
    "max_age = census_dataframe['Age'].max()\n",
    "min_age = census_dataframe['Age'].min()\n",
    "bin_width = int((max_age - min_age) / n_bins)\n",
    "\n",
    "# Plot a histogram of the Age column with the calculated number of bins\n",
    "plt.figure(figsize=(10, 6))\n",
    "Age_univariate_plot=sns.histplot(data=census_dataframe, x='Age', bins=n_bins)\n",
    "Age_univariate_plot.set_title('Age Distribution')"
   ]
  },
  {
   "cell_type": "code",
   "execution_count": 59,
   "id": "8f3871ad",
   "metadata": {},
   "outputs": [],
   "source": [
    "#creating two different dataframes for both males and females in the population\n",
    "male_dataframe =  census_dataframe[ census_dataframe[\"Gender\"] == \"Male\"]\n",
    "female_dataframe =  census_dataframe[ census_dataframe[\"Gender\"] == \"Female\"]"
   ]
  },
  {
   "cell_type": "markdown",
   "id": "b70c30ae",
   "metadata": {},
   "source": [
    "Male"
   ]
  },
  {
   "cell_type": "code",
   "execution_count": 60,
   "id": "bc998184",
   "metadata": {},
   "outputs": [
    {
     "name": "stderr",
     "output_type": "stream",
     "text": [
      "C:\\Users\\Administrator\\AppData\\Local\\Programs\\Python\\Python311\\Lib\\site-packages\\seaborn\\distributions.py:499: FutureWarning: In a future version, the Index constructor will not infer numeric dtypes when passed object-dtype sequences (matching Series behavior)\n",
      "  pd.Index(edges, name=\"edges\"),\n",
      "C:\\Users\\Administrator\\AppData\\Local\\Programs\\Python\\Python311\\Lib\\site-packages\\seaborn\\distributions.py:500: FutureWarning: In a future version, the Index constructor will not infer numeric dtypes when passed object-dtype sequences (matching Series behavior)\n",
      "  pd.Index(widths, name=\"widths\"),\n"
     ]
    },
    {
     "data": {
      "text/plain": [
       "Text(0.5, 1.0, 'Male Distribution')"
      ]
     },
     "execution_count": 60,
     "metadata": {},
     "output_type": "execute_result"
    },
    {
     "data": {
      "image/png": "[encoded data removed]",
      "text/plain": [
       "<Figure size 1000x600 with 1 Axes>"
      ]
     },
     "metadata": {},
     "output_type": "display_data"
    }
   ],
   "source": [
    "#Determine the number of Bins\n",
    "male_n_bins=round(np.sqrt(male_dataframe['Age'].nunique()))\n",
    "max_age = male_dataframe['Age'].max()\n",
    "min_age = male_dataframe['Age'].min()\n",
    "bin_width = int((max_age - min_age) / male_n_bins)\n",
    "\n",
    "# Plot a histogram of the Age column with the calculated number of bins\n",
    "plt.figure(figsize=(10, 6))\n",
    "Male_univariate_plot=sns.histplot(data=male_dataframe, x='Age', bins=male_n_bins)\n",
    "Male_univariate_plot.set_title('Male Distribution')"
   ]
  },
  {
   "cell_type": "code",
   "execution_count": 61,
   "id": "0c6f768c",
   "metadata": {
    "scrolled": true
   },
   "outputs": [
    {
     "name": "stderr",
     "output_type": "stream",
     "text": [
      "C:\\Users\\Administrator\\AppData\\Local\\Programs\\Python\\Python311\\Lib\\site-packages\\seaborn\\distributions.py:499: FutureWarning: In a future version, the Index constructor will not infer numeric dtypes when passed object-dtype sequences (matching Series behavior)\n",
      "  pd.Index(edges, name=\"edges\"),\n",
      "C:\\Users\\Administrator\\AppData\\Local\\Programs\\Python\\Python311\\Lib\\site-packages\\seaborn\\distributions.py:500: FutureWarning: In a future version, the Index constructor will not infer numeric dtypes when passed object-dtype sequences (matching Series behavior)\n",
      "  pd.Index(widths, name=\"widths\"),\n"
     ]
    },
    {
     "data": {
      "text/plain": [
       "Text(0.5, 1.0, 'Female Distribution')"
      ]
     },
     "execution_count": 61,
     "metadata": {},
     "output_type": "execute_result"
    },
    {
     "data": {
      "image/png": "[encoded data removed]",
      "text/plain": [
       "<Figure size 1000x600 with 1 Axes>"
      ]
     },
     "metadata": {},
     "output_type": "display_data"
    }
   ],
   "source": [
    "#Determine the number of Bins\n",
    "female_n_bins=round(np.sqrt(male_dataframe['Age'].nunique()))\n",
    "max_age = female_dataframe['Age'].max()\n",
    "min_age = female_dataframe['Age'].min()\n",
    "bin_width = int((max_age - min_age) / female_n_bins)\n",
    "\n",
    "# Plot a histogram of the Age column with the calculated number of bins\n",
    "plt.figure(figsize=(10, 6))\n",
    "female_univariate_plot=sns.histplot(data=female_dataframe, x='Age', bins=male_n_bins)\n",
    "female_univariate_plot.set_title('Female Distribution')"
   ]
  },
  {
   "cell_type": "code",
   "execution_count": 62,
   "id": "99ebf5ca",
   "metadata": {
    "scrolled": true
   },
   "outputs": [
    {
     "data": {
      "text/html": [
       "<div>\n",
       "<style scoped>\n",
       "    .dataframe tbody tr th:only-of-type {\n",
       "        vertical-align: middle;\n",
       "    }\n",
       "\n",
       "    .dataframe tbody tr th {\n",
       "        vertical-align: top;\n",
       "    }\n",
       "\n",
       "    .dataframe thead th {\n",
       "        text-align: right;\n",
       "    }\n",
       "</style>\n",
       "<table border=\"1\" class=\"dataframe\">\n",
       "  <thead>\n",
       "    <tr style=\"text-align: right;\">\n",
       "      <th></th>\n",
       "      <th>House Number</th>\n",
       "      <th>Street</th>\n",
       "      <th>First Name</th>\n",
       "      <th>Surname</th>\n",
       "      <th>Age</th>\n",
       "      <th>Relationship to Head of House</th>\n",
       "      <th>Marital Status</th>\n",
       "      <th>Gender</th>\n",
       "      <th>Occupation</th>\n",
       "      <th>Infirmity</th>\n",
       "      <th>Religion</th>\n",
       "    </tr>\n",
       "  </thead>\n",
       "  <tbody>\n",
       "    <tr>\n",
       "      <th>0</th>\n",
       "      <td>1</td>\n",
       "      <td>Scott Dale</td>\n",
       "      <td>Maureen</td>\n",
       "      <td>Cox</td>\n",
       "      <td>50</td>\n",
       "      <td>Head</td>\n",
       "      <td>Single</td>\n",
       "      <td>Female</td>\n",
       "      <td>Engineer, building services</td>\n",
       "      <td>None</td>\n",
       "      <td>Catholic</td>\n",
       "    </tr>\n",
       "    <tr>\n",
       "      <th>2</th>\n",
       "      <td>2</td>\n",
       "      <td>Scott Dale</td>\n",
       "      <td>Lorraine</td>\n",
       "      <td>Allen</td>\n",
       "      <td>69</td>\n",
       "      <td>Head</td>\n",
       "      <td>Married</td>\n",
       "      <td>Female</td>\n",
       "      <td>Unemployed</td>\n",
       "      <td>None</td>\n",
       "      <td>Methodist</td>\n",
       "    </tr>\n",
       "    <tr>\n",
       "      <th>4</th>\n",
       "      <td>3</td>\n",
       "      <td>Scott Dale</td>\n",
       "      <td>Molly</td>\n",
       "      <td>Patel</td>\n",
       "      <td>36</td>\n",
       "      <td>Head</td>\n",
       "      <td>Married</td>\n",
       "      <td>Female</td>\n",
       "      <td>Engineer, land</td>\n",
       "      <td>None</td>\n",
       "      <td>None</td>\n",
       "    </tr>\n",
       "    <tr>\n",
       "      <th>6</th>\n",
       "      <td>4</td>\n",
       "      <td>Scott Dale</td>\n",
       "      <td>Sophie</td>\n",
       "      <td>Akhtar</td>\n",
       "      <td>38</td>\n",
       "      <td>Head</td>\n",
       "      <td>Divorced</td>\n",
       "      <td>Female</td>\n",
       "      <td>Hydrographic surveyor</td>\n",
       "      <td>Physical Disability</td>\n",
       "      <td>None</td>\n",
       "    </tr>\n",
       "    <tr>\n",
       "      <th>9</th>\n",
       "      <td>5</td>\n",
       "      <td>Scott Dale</td>\n",
       "      <td>Natasha</td>\n",
       "      <td>Walker</td>\n",
       "      <td>32</td>\n",
       "      <td>None</td>\n",
       "      <td>Single</td>\n",
       "      <td>Female</td>\n",
       "      <td>Surveyor, minerals</td>\n",
       "      <td>None</td>\n",
       "      <td>Catholic</td>\n",
       "    </tr>\n",
       "    <tr>\n",
       "      <th>...</th>\n",
       "      <td>...</td>\n",
       "      <td>...</td>\n",
       "      <td>...</td>\n",
       "      <td>...</td>\n",
       "      <td>...</td>\n",
       "      <td>...</td>\n",
       "      <td>...</td>\n",
       "      <td>...</td>\n",
       "      <td>...</td>\n",
       "      <td>...</td>\n",
       "      <td>...</td>\n",
       "    </tr>\n",
       "    <tr>\n",
       "      <th>8319</th>\n",
       "      <td>1</td>\n",
       "      <td>Jones Barracks</td>\n",
       "      <td>Eileen</td>\n",
       "      <td>Butler</td>\n",
       "      <td>27</td>\n",
       "      <td>Lodger</td>\n",
       "      <td>Single</td>\n",
       "      <td>Female</td>\n",
       "      <td>Armed forces technical officer</td>\n",
       "      <td>None</td>\n",
       "      <td>Catholic</td>\n",
       "    </tr>\n",
       "    <tr>\n",
       "      <th>8320</th>\n",
       "      <td>1</td>\n",
       "      <td>Walker Palace</td>\n",
       "      <td>Julie</td>\n",
       "      <td>Lane</td>\n",
       "      <td>28</td>\n",
       "      <td>Head</td>\n",
       "      <td>Married</td>\n",
       "      <td>Female</td>\n",
       "      <td>Public librarian</td>\n",
       "      <td>None</td>\n",
       "      <td>None</td>\n",
       "    </tr>\n",
       "    <tr>\n",
       "      <th>8325</th>\n",
       "      <td>1</td>\n",
       "      <td>Poole Stronghold</td>\n",
       "      <td>Beth</td>\n",
       "      <td>Evans</td>\n",
       "      <td>43</td>\n",
       "      <td>Head</td>\n",
       "      <td>Married</td>\n",
       "      <td>Female</td>\n",
       "      <td>Buyer, retail</td>\n",
       "      <td>None</td>\n",
       "      <td>Christian</td>\n",
       "    </tr>\n",
       "    <tr>\n",
       "      <th>8327</th>\n",
       "      <td>1</td>\n",
       "      <td>Poole Stronghold</td>\n",
       "      <td>Pamela</td>\n",
       "      <td>Evans</td>\n",
       "      <td>0</td>\n",
       "      <td>Daughter</td>\n",
       "      <td>Single Child</td>\n",
       "      <td>Female</td>\n",
       "      <td>Child</td>\n",
       "      <td>None</td>\n",
       "      <td>unidentified-under 16</td>\n",
       "    </tr>\n",
       "    <tr>\n",
       "      <th>8328</th>\n",
       "      <td>1</td>\n",
       "      <td>Poole Stronghold</td>\n",
       "      <td>Carol</td>\n",
       "      <td>Thomas</td>\n",
       "      <td>24</td>\n",
       "      <td>Sibling</td>\n",
       "      <td>Single</td>\n",
       "      <td>Female</td>\n",
       "      <td>Administrator, charities/voluntary organisations</td>\n",
       "      <td>None</td>\n",
       "      <td>Christian</td>\n",
       "    </tr>\n",
       "  </tbody>\n",
       "</table>\n",
       "<p>4302 rows × 11 columns</p>\n",
       "</div>"
      ],
      "text/plain": [
       "      House Number            Street First Name Surname  Age  \\\n",
       "0                1        Scott Dale    Maureen     Cox   50   \n",
       "2                2        Scott Dale   Lorraine   Allen   69   \n",
       "4                3        Scott Dale      Molly   Patel   36   \n",
       "6                4        Scott Dale     Sophie  Akhtar   38   \n",
       "9                5        Scott Dale    Natasha  Walker   32   \n",
       "...            ...               ...        ...     ...  ...   \n",
       "8319             1    Jones Barracks     Eileen  Butler   27   \n",
       "8320             1     Walker Palace      Julie    Lane   28   \n",
       "8325             1  Poole Stronghold       Beth   Evans   43   \n",
       "8327             1  Poole Stronghold     Pamela   Evans    0   \n",
       "8328             1  Poole Stronghold      Carol  Thomas   24   \n",
       "\n",
       "     Relationship to Head of House Marital Status  Gender  \\\n",
       "0                             Head         Single  Female   \n",
       "2                             Head        Married  Female   \n",
       "4                             Head        Married  Female   \n",
       "6                             Head       Divorced  Female   \n",
       "9                             None         Single  Female   \n",
       "...                            ...            ...     ...   \n",
       "8319                        Lodger         Single  Female   \n",
       "8320                          Head        Married  Female   \n",
       "8325                          Head        Married  Female   \n",
       "8327                      Daughter   Single Child  Female   \n",
       "8328                       Sibling         Single  Female   \n",
       "\n",
       "                                            Occupation            Infirmity  \\\n",
       "0                          Engineer, building services                 None   \n",
       "2                                           Unemployed                 None   \n",
       "4                                       Engineer, land                 None   \n",
       "6                                Hydrographic surveyor  Physical Disability   \n",
       "9                                   Surveyor, minerals                 None   \n",
       "...                                                ...                  ...   \n",
       "8319                    Armed forces technical officer                 None   \n",
       "8320                                  Public librarian                 None   \n",
       "8325                                     Buyer, retail                 None   \n",
       "8327                                             Child                 None   \n",
       "8328  Administrator, charities/voluntary organisations                 None   \n",
       "\n",
       "                   Religion  \n",
       "0                  Catholic  \n",
       "2                 Methodist  \n",
       "4                      None  \n",
       "6                      None  \n",
       "9                  Catholic  \n",
       "...                     ...  \n",
       "8319               Catholic  \n",
       "8320                   None  \n",
       "8325              Christian  \n",
       "8327  unidentified-under 16  \n",
       "8328              Christian  \n",
       "\n",
       "[4302 rows x 11 columns]"
      ]
     },
     "execution_count": 62,
     "metadata": {},
     "output_type": "execute_result"
    }
   ],
   "source": [
    "female_dataframe"
   ]
  },
  {
   "cell_type": "code",
   "execution_count": 63,
   "id": "08f5c735",
   "metadata": {},
   "outputs": [
    {
     "data": {
      "text/html": [
       "<div>\n",
       "<style scoped>\n",
       "    .dataframe tbody tr th:only-of-type {\n",
       "        vertical-align: middle;\n",
       "    }\n",
       "\n",
       "    .dataframe tbody tr th {\n",
       "        vertical-align: top;\n",
       "    }\n",
       "\n",
       "    .dataframe thead th {\n",
       "        text-align: right;\n",
       "    }\n",
       "</style>\n",
       "<table border=\"1\" class=\"dataframe\">\n",
       "  <thead>\n",
       "    <tr style=\"text-align: right;\">\n",
       "      <th></th>\n",
       "      <th>House Number</th>\n",
       "      <th>Street</th>\n",
       "      <th>First Name</th>\n",
       "      <th>Surname</th>\n",
       "      <th>Age</th>\n",
       "      <th>Relationship to Head of House</th>\n",
       "      <th>Marital Status</th>\n",
       "      <th>Gender</th>\n",
       "      <th>Occupation</th>\n",
       "      <th>Infirmity</th>\n",
       "      <th>Religion</th>\n",
       "    </tr>\n",
       "  </thead>\n",
       "  <tbody>\n",
       "    <tr>\n",
       "      <th>1</th>\n",
       "      <td>1</td>\n",
       "      <td>Scott Dale</td>\n",
       "      <td>Rhys</td>\n",
       "      <td>Brown</td>\n",
       "      <td>52</td>\n",
       "      <td>Partner</td>\n",
       "      <td>Single</td>\n",
       "      <td>Male</td>\n",
       "      <td>Engineer, mining</td>\n",
       "      <td>None</td>\n",
       "      <td>Catholic</td>\n",
       "    </tr>\n",
       "    <tr>\n",
       "      <th>3</th>\n",
       "      <td>2</td>\n",
       "      <td>Scott Dale</td>\n",
       "      <td>Lewis</td>\n",
       "      <td>Allen</td>\n",
       "      <td>72</td>\n",
       "      <td>Husband</td>\n",
       "      <td>Married</td>\n",
       "      <td>Male</td>\n",
       "      <td>Retired Associate Professor</td>\n",
       "      <td>None</td>\n",
       "      <td>Methodist</td>\n",
       "    </tr>\n",
       "    <tr>\n",
       "      <th>5</th>\n",
       "      <td>3</td>\n",
       "      <td>Scott Dale</td>\n",
       "      <td>Norman</td>\n",
       "      <td>Patel</td>\n",
       "      <td>42</td>\n",
       "      <td>Husband</td>\n",
       "      <td>Married</td>\n",
       "      <td>Male</td>\n",
       "      <td>Higher education lecturer</td>\n",
       "      <td>None</td>\n",
       "      <td>None</td>\n",
       "    </tr>\n",
       "    <tr>\n",
       "      <th>7</th>\n",
       "      <td>4</td>\n",
       "      <td>Scott Dale</td>\n",
       "      <td>Jamie</td>\n",
       "      <td>Akhtar</td>\n",
       "      <td>7</td>\n",
       "      <td>Son</td>\n",
       "      <td>Single Student</td>\n",
       "      <td>Male</td>\n",
       "      <td>Student</td>\n",
       "      <td>None</td>\n",
       "      <td>unidentified-under 16</td>\n",
       "    </tr>\n",
       "    <tr>\n",
       "      <th>8</th>\n",
       "      <td>5</td>\n",
       "      <td>Scott Dale</td>\n",
       "      <td>Duncan</td>\n",
       "      <td>Law</td>\n",
       "      <td>29</td>\n",
       "      <td>Head</td>\n",
       "      <td>Single</td>\n",
       "      <td>Male</td>\n",
       "      <td>Trading standards officer</td>\n",
       "      <td>None</td>\n",
       "      <td>None</td>\n",
       "    </tr>\n",
       "    <tr>\n",
       "      <th>...</th>\n",
       "      <td>...</td>\n",
       "      <td>...</td>\n",
       "      <td>...</td>\n",
       "      <td>...</td>\n",
       "      <td>...</td>\n",
       "      <td>...</td>\n",
       "      <td>...</td>\n",
       "      <td>...</td>\n",
       "      <td>...</td>\n",
       "      <td>...</td>\n",
       "      <td>...</td>\n",
       "    </tr>\n",
       "    <tr>\n",
       "      <th>8321</th>\n",
       "      <td>1</td>\n",
       "      <td>Walker Palace</td>\n",
       "      <td>Declan</td>\n",
       "      <td>Lane</td>\n",
       "      <td>31</td>\n",
       "      <td>Husband</td>\n",
       "      <td>Married</td>\n",
       "      <td>Male</td>\n",
       "      <td>Early years teacher</td>\n",
       "      <td>None</td>\n",
       "      <td>None</td>\n",
       "    </tr>\n",
       "    <tr>\n",
       "      <th>8322</th>\n",
       "      <td>1</td>\n",
       "      <td>Walker Palace</td>\n",
       "      <td>Kenneth</td>\n",
       "      <td>Lane</td>\n",
       "      <td>3</td>\n",
       "      <td>Son</td>\n",
       "      <td>Single Child</td>\n",
       "      <td>Male</td>\n",
       "      <td>Child</td>\n",
       "      <td>None</td>\n",
       "      <td>unidentified-under 16</td>\n",
       "    </tr>\n",
       "    <tr>\n",
       "      <th>8323</th>\n",
       "      <td>1</td>\n",
       "      <td>Walker Palace</td>\n",
       "      <td>Victor</td>\n",
       "      <td>Lane</td>\n",
       "      <td>0</td>\n",
       "      <td>Son</td>\n",
       "      <td>Single Child</td>\n",
       "      <td>Male</td>\n",
       "      <td>Child</td>\n",
       "      <td>None</td>\n",
       "      <td>unidentified-under 16</td>\n",
       "    </tr>\n",
       "    <tr>\n",
       "      <th>8324</th>\n",
       "      <td>1</td>\n",
       "      <td>Walker Palace</td>\n",
       "      <td>Adrian</td>\n",
       "      <td>Mason</td>\n",
       "      <td>56</td>\n",
       "      <td>Lodger</td>\n",
       "      <td>Single</td>\n",
       "      <td>Male</td>\n",
       "      <td>Unemployed</td>\n",
       "      <td>None</td>\n",
       "      <td>Muslim</td>\n",
       "    </tr>\n",
       "    <tr>\n",
       "      <th>8326</th>\n",
       "      <td>1</td>\n",
       "      <td>Poole Stronghold</td>\n",
       "      <td>Trevor</td>\n",
       "      <td>Evans</td>\n",
       "      <td>43</td>\n",
       "      <td>Husband</td>\n",
       "      <td>Married</td>\n",
       "      <td>Male</td>\n",
       "      <td>Patent examiner</td>\n",
       "      <td>None</td>\n",
       "      <td>Christian</td>\n",
       "    </tr>\n",
       "  </tbody>\n",
       "</table>\n",
       "<p>4027 rows × 11 columns</p>\n",
       "</div>"
      ],
      "text/plain": [
       "      House Number            Street First Name Surname  Age  \\\n",
       "1                1        Scott Dale       Rhys   Brown   52   \n",
       "3                2        Scott Dale      Lewis   Allen   72   \n",
       "5                3        Scott Dale     Norman   Patel   42   \n",
       "7                4        Scott Dale      Jamie  Akhtar    7   \n",
       "8                5        Scott Dale     Duncan     Law   29   \n",
       "...            ...               ...        ...     ...  ...   \n",
       "8321             1     Walker Palace     Declan    Lane   31   \n",
       "8322             1     Walker Palace    Kenneth    Lane    3   \n",
       "8323             1     Walker Palace     Victor    Lane    0   \n",
       "8324             1     Walker Palace     Adrian   Mason   56   \n",
       "8326             1  Poole Stronghold     Trevor   Evans   43   \n",
       "\n",
       "     Relationship to Head of House  Marital Status Gender  \\\n",
       "1                          Partner          Single   Male   \n",
       "3                          Husband         Married   Male   \n",
       "5                          Husband         Married   Male   \n",
       "7                              Son  Single Student   Male   \n",
       "8                             Head          Single   Male   \n",
       "...                            ...             ...    ...   \n",
       "8321                       Husband         Married   Male   \n",
       "8322                           Son    Single Child   Male   \n",
       "8323                           Son    Single Child   Male   \n",
       "8324                        Lodger          Single   Male   \n",
       "8326                       Husband         Married   Male   \n",
       "\n",
       "                       Occupation Infirmity               Religion  \n",
       "1                Engineer, mining      None               Catholic  \n",
       "3     Retired Associate Professor      None              Methodist  \n",
       "5       Higher education lecturer      None                   None  \n",
       "7                         Student      None  unidentified-under 16  \n",
       "8       Trading standards officer      None                   None  \n",
       "...                           ...       ...                    ...  \n",
       "8321          Early years teacher      None                   None  \n",
       "8322                        Child      None  unidentified-under 16  \n",
       "8323                        Child      None  unidentified-under 16  \n",
       "8324                   Unemployed      None                 Muslim  \n",
       "8326              Patent examiner      None              Christian  \n",
       "\n",
       "[4027 rows x 11 columns]"
      ]
     },
     "execution_count": 63,
     "metadata": {},
     "output_type": "execute_result"
    }
   ],
   "source": [
    "male_dataframe"
   ]
  },
  {
   "cell_type": "code",
   "execution_count": 114,
   "id": "c22f3b37",
   "metadata": {
    "scrolled": true
   },
   "outputs": [
    {
     "data": {
      "image/png": "[encoded data removed]",
      "text/plain": [
       "<Figure size 1000x600 with 1 Axes>"
      ]
     },
     "metadata": {},
     "output_type": "display_data"
    }
   ],
   "source": [
    "# Define age groups\n",
    "age_bins = [0, 9, 19, 29, 39, 49, 59, 69, 79, 89, 99, float('inf')]\n",
    "age_labels = ['0-9', '10-19', '20-29', '30-39', '40-49', '50-59', '60-69', '70-79', '80-89', '90-99', '100+']\n",
    "\n",
    "# Group data by age and gender and calculate the count of each group and put it the new Agegroup dataframe\n",
    "census_dataframe['AgeGroup'] = pd.cut(census_dataframe['Age'], bins=age_bins, labels=age_labels, right=False)\n",
    "grouped_data = census_dataframe.groupby(['AgeGroup', 'Gender']).size().reset_index(name='Count')\n",
    "\n",
    "# Pivot data to create age_p DataFrame with age groups and counts for males and females\n",
    "age_p = grouped_data.pivot(index='AgeGroup', columns='Gender', values='Count').reset_index()\n",
    "#converting the male values to negative\n",
    "age_p['Male'] = -age_p['Male']\n",
    "\n",
    "# Create age pyramid chart using Seaborn barplot\n",
    "plt.figure(figsize=(10, 6))\n",
    "age_pyramid = sns.barplot(x='Male', y='AgeGroup', data=age_p, order=age_labels[::-1], color=('mediumblue'), label='Male')\n",
    "age_pyramid = sns.barplot(x='Female', y='AgeGroup', data=age_p, order=age_labels[::-1], color=('darkorange'), label='Female')\n",
    "age_pyramid.legend()\n",
    "plt.xticks(ticks=[-700,-600,-500,-400,-300,-200, -100, 0, 100, 200, 300,400,500,600,700],\n",
    "labels=[\"700\",\"600\",\"500\",\"400\",\"300\",\"200\", \"100\", \"0\", \"100\", \"200\", \"300\",\"400\",\"500\",\"600\",\"700\"])\n",
    "plt.title('Age Pyramid')\n",
    "plt.savefig('Age_Pyramid.png')\n",
    "\n",
    "# Show chart\n",
    "plt.show()"
   ]
  },
  {
   "cell_type": "markdown",
   "id": "db87d20a",
   "metadata": {},
   "source": [
    "# Birth Rate"
   ]
  },
  {
   "cell_type": "code",
   "execution_count": 65,
   "id": "e7b00499",
   "metadata": {},
   "outputs": [],
   "source": [
    "#Check children aged zero in the dataframe\n",
    "age_zero = census_dataframe.loc[(census_dataframe['Age'] == 0)]"
   ]
  },
  {
   "cell_type": "code",
   "execution_count": 66,
   "id": "2c3173a0",
   "metadata": {},
   "outputs": [
    {
     "data": {
      "text/plain": [
       "88"
      ]
     },
     "execution_count": 66,
     "metadata": {},
     "output_type": "execute_result"
    }
   ],
   "source": [
    "len(age_zero)"
   ]
  },
  {
   "cell_type": "code",
   "execution_count": 67,
   "id": "29965242",
   "metadata": {},
   "outputs": [],
   "source": [
    "#Determine the number of women in the child bearing age from the census(25-29)\n",
    "Female_cba = census_dataframe.loc[(census_dataframe['Age'] >= 25) & (census_dataframe['Age'] <= 29)& (census_dataframe['Gender'] == 'Female')]"
   ]
  },
  {
   "cell_type": "code",
   "execution_count": 68,
   "id": "f4b0d6f0",
   "metadata": {},
   "outputs": [
    {
     "data": {
      "text/plain": [
       "266"
      ]
     },
     "execution_count": 68,
     "metadata": {},
     "output_type": "execute_result"
    }
   ],
   "source": [
    "len(Female_cba)"
   ]
  },
  {
   "cell_type": "code",
   "execution_count": 69,
   "id": "ddb37f62",
   "metadata": {},
   "outputs": [
    {
     "name": "stdout",
     "output_type": "stream",
     "text": [
      "33082.70676691729\n"
     ]
    }
   ],
   "source": [
    "Birthrates =(len(age_zero))/(len(Female_cba))*100000\n",
    "print(Birthrates)"
   ]
  },
  {
   "cell_type": "markdown",
   "id": "8ea938ad",
   "metadata": {},
   "source": [
    "# Evolving Birthrate"
   ]
  },
  {
   "cell_type": "code",
   "execution_count": 70,
   "id": "1bd6b8f5",
   "metadata": {},
   "outputs": [
    {
     "name": "stdout",
     "output_type": "stream",
     "text": [
      "100\n"
     ]
    }
   ],
   "source": [
    "#Number of children age four\n",
    "age_four = census_dataframe.loc[(census_dataframe['Age'] == 4)]\n",
    "print(len(age_four))"
   ]
  },
  {
   "cell_type": "code",
   "execution_count": 71,
   "id": "89768572",
   "metadata": {},
   "outputs": [
    {
     "name": "stdout",
     "output_type": "stream",
     "text": [
      "333\n"
     ]
    }
   ],
   "source": [
    "#Determine the number of women in the child bearing age from the census(30-34)\n",
    "Female_evo = census_dataframe.loc[(census_dataframe['Age'] >= 30) & (census_dataframe['Age'] <= 34) & (census_dataframe['Gender'] == 'Female')]\n",
    "print(len(Female_evo))"
   ]
  },
  {
   "cell_type": "code",
   "execution_count": 72,
   "id": "786dc7a0",
   "metadata": {},
   "outputs": [
    {
     "name": "stdout",
     "output_type": "stream",
     "text": [
      "30030.03003003003\n"
     ]
    }
   ],
   "source": [
    "#increase in Birthrate per 100,000 \n",
    "Evolving_Birthrate=((len(age_four))/(len(Female_evo)))*100000\n",
    "print(Evolving_Birthrate)                    "
   ]
  },
  {
   "cell_type": "markdown",
   "id": "e1df0dd6",
   "metadata": {},
   "source": [
    "Both the Birthrate and the evolving bithrate is a by taking assumptions that female at that age gave birth to children at age 0 and 4, based on their fertility assumption. This is just fertlity of the town, below is futher calculation of Birthrates based on the age groups and it shows a drop in birthrates even with an improved firtility rate."
   ]
  },
  {
   "cell_type": "markdown",
   "id": "75919273",
   "metadata": {},
   "source": [
    "# Birthrates by looking at the age groups"
   ]
  },
  {
   "cell_type": "code",
   "execution_count": 73,
   "id": "6b43754d",
   "metadata": {},
   "outputs": [
    {
     "data": {
      "text/plain": [
       "-0.8"
      ]
     },
     "execution_count": 73,
     "metadata": {},
     "output_type": "execute_result"
    }
   ],
   "source": [
    "#Determine the number of aging population between (0 and 5)\n",
    "Age_range11 = census_dataframe.loc[(census_dataframe['Age'] >= 0) & (census_dataframe['Age'] <= 5)]\n",
    "#Determine the number of aging population between (6 and 10)\n",
    "Age_range12 = census_dataframe.loc[(census_dataframe['Age'] >= 6) & (census_dataframe['Age'] <= 10)]\n",
    "Birthrate1=((len(Age_range11))-(len(Age_range12)))/5\n",
    "Birthrate1"
   ]
  },
  {
   "cell_type": "code",
   "execution_count": 74,
   "id": "d375887d",
   "metadata": {},
   "outputs": [
    {
     "data": {
      "text/plain": [
       "-15.2"
      ]
     },
     "execution_count": 74,
     "metadata": {},
     "output_type": "execute_result"
    }
   ],
   "source": [
    "#Determine the number of aging population between (11 and 15)\n",
    "Age_range13 = census_dataframe.loc[(census_dataframe['Age'] >= 11) & (census_dataframe['Age'] <= 15)]\n",
    "#Determine the number of aging population between (16 and 20)\n",
    "Age_range14 = census_dataframe.loc[(census_dataframe['Age'] >= 16) & (census_dataframe['Age'] <= 20)]\n",
    "Birthrate2=((len(Age_range13))-(len(Age_range14)))/5\n",
    "Birthrate2"
   ]
  },
  {
   "cell_type": "code",
   "execution_count": 75,
   "id": "295509be",
   "metadata": {},
   "outputs": [
    {
     "data": {
      "text/plain": [
       "2496"
      ]
     },
     "execution_count": 75,
     "metadata": {},
     "output_type": "execute_result"
    }
   ],
   "source": [
    "#Total population above 55 years\n",
    "Age_range20 = census_dataframe.loc[(census_dataframe['Age'] >= 0)& (census_dataframe['Age'] <= 20)]\n",
    "Age_20=(len(Age_range20)) \n",
    "Age_20"
   ]
  },
  {
   "cell_type": "code",
   "execution_count": 76,
   "id": "05763f8a",
   "metadata": {},
   "outputs": [
    {
     "data": {
      "text/plain": [
       "-641.025641025641"
      ]
     },
     "execution_count": 76,
     "metadata": {},
     "output_type": "execute_result"
    }
   ],
   "source": [
    "Birthrates=((Birthrate1+Birthrate2)/Age_20)*100000\n",
    "Birthrates"
   ]
  },
  {
   "cell_type": "markdown",
   "id": "3c4d3eb8",
   "metadata": {},
   "source": [
    "The negative birthrates means there is there is a decline of birthrate per 100,000 people as compared to the other years, this can be as result of improved medical care and access to family planning services, also the economic situation, most women are jobless and may fear raising children without a source of income."
   ]
  },
  {
   "cell_type": "markdown",
   "id": "9ad5097b",
   "metadata": {},
   "source": [
    "# Deathrate"
   ]
  },
  {
   "cell_type": "code",
   "execution_count": 77,
   "id": "a3191608",
   "metadata": {},
   "outputs": [
    {
     "data": {
      "text/plain": [
       "15.6"
      ]
     },
     "execution_count": 77,
     "metadata": {},
     "output_type": "execute_result"
    }
   ],
   "source": [
    "#Determine the number of aging population between (56 and 60)\n",
    "Age_range1 = census_dataframe.loc[(census_dataframe['Age'] >= 56) & (census_dataframe['Age'] <= 60)]\n",
    "#Determine the number of aging population between (61 and 65)\n",
    "Age_range2 = census_dataframe.loc[(census_dataframe['Age'] >= 61) & (census_dataframe['Age'] <= 65)]\n",
    "Deathrate1=((len(Age_range1))-(len(Age_range2)))/5\n",
    "Deathrate1"
   ]
  },
  {
   "cell_type": "code",
   "execution_count": 78,
   "id": "20b338d9",
   "metadata": {},
   "outputs": [
    {
     "data": {
      "text/plain": [
       "11.0"
      ]
     },
     "execution_count": 78,
     "metadata": {},
     "output_type": "execute_result"
    }
   ],
   "source": [
    "#Determine the number of aging population between (66 and 70)\n",
    "Age_range3 = census_dataframe.loc[(census_dataframe['Age'] >= 66) & (census_dataframe['Age'] <= 70)]\n",
    "#Determine the number of aging population between (71 and 75)\n",
    "Age_range4 = census_dataframe.loc[(census_dataframe['Age'] >= 71) & (census_dataframe['Age'] <= 75)]\n",
    "Deathrate2=((len(Age_range3))-(len(Age_range4)))/5\n",
    "Deathrate2"
   ]
  },
  {
   "cell_type": "code",
   "execution_count": 79,
   "id": "d7ff7589",
   "metadata": {},
   "outputs": [
    {
     "data": {
      "text/plain": [
       "6.4"
      ]
     },
     "execution_count": 79,
     "metadata": {},
     "output_type": "execute_result"
    }
   ],
   "source": [
    "#Determine the number of aging population between (76 and 80)\n",
    "Age_range5 = census_dataframe.loc[(census_dataframe['Age'] >= 76) & (census_dataframe['Age'] <= 80)]\n",
    "#Determine the number of aging population between (81 and 85)\n",
    "Age_range6 = census_dataframe.loc[(census_dataframe['Age'] >= 81) & (census_dataframe['Age'] <= 85)]\n",
    "Deathrate3=((len(Age_range5))-(len(Age_range6)))/5\n",
    "Deathrate3"
   ]
  },
  {
   "cell_type": "code",
   "execution_count": 80,
   "id": "2e23c7fd",
   "metadata": {},
   "outputs": [
    {
     "data": {
      "text/plain": [
       "5.2"
      ]
     },
     "execution_count": 80,
     "metadata": {},
     "output_type": "execute_result"
    }
   ],
   "source": [
    "#Determine the number of aging population between (86 and 90)\n",
    "Age_range7 = census_dataframe.loc[(census_dataframe['Age'] >= 86) & (census_dataframe['Age'] <= 90)]\n",
    "#Determine the number of aging population between (91 and 95)\n",
    "Age_range8 = census_dataframe.loc[(census_dataframe['Age'] >= 91) & (census_dataframe['Age'] <= 95)]\n",
    "Deathrate4=((len(Age_range7))-(len(Age_range8)))/5\n",
    "Deathrate4"
   ]
  },
  {
   "cell_type": "code",
   "execution_count": 81,
   "id": "8e957e94",
   "metadata": {},
   "outputs": [
    {
     "data": {
      "text/plain": [
       "-0.4"
      ]
     },
     "execution_count": 81,
     "metadata": {},
     "output_type": "execute_result"
    }
   ],
   "source": [
    "#Determine the number of aging population between (96 and 90)\n",
    "Age_range9 = census_dataframe.loc[(census_dataframe['Age'] >= 96) & (census_dataframe['Age'] <= 100)]\n",
    "#Determine the number of aging population between (101 and 105)\n",
    "Age_range10 = census_dataframe.loc[(census_dataframe['Age'] >= 101) & (census_dataframe['Age'] <= 105)]\n",
    "Deathrate5=((len(Age_range9))-(len(Age_range10)))/5\n",
    "Deathrate5"
   ]
  },
  {
   "cell_type": "code",
   "execution_count": 82,
   "id": "568c18a8",
   "metadata": {},
   "outputs": [
    {
     "data": {
      "text/plain": [
       "1649"
      ]
     },
     "execution_count": 82,
     "metadata": {},
     "output_type": "execute_result"
    }
   ],
   "source": [
    "#Total population above 55 years\n",
    "Age_range55 = census_dataframe.loc[(census_dataframe['Age'] >= 55)]\n",
    "Age_55=(len(Age_range55)) \n",
    "Age_55"
   ]
  },
  {
   "cell_type": "code",
   "execution_count": 83,
   "id": "879265cf",
   "metadata": {},
   "outputs": [
    {
     "data": {
      "text/plain": [
       "37.8"
      ]
     },
     "execution_count": 83,
     "metadata": {},
     "output_type": "execute_result"
    }
   ],
   "source": [
    "#overall deathrates above 55 years\n",
    "overalldeathrate=Deathrate4+Deathrate5+Deathrate3+Deathrate2+Deathrate1\n",
    "overalldeathrate"
   ]
  },
  {
   "cell_type": "code",
   "execution_count": 84,
   "id": "3a8993fd",
   "metadata": {},
   "outputs": [
    {
     "data": {
      "text/plain": [
       "2292.2983626440264"
      ]
     },
     "execution_count": 84,
     "metadata": {},
     "output_type": "execute_result"
    }
   ],
   "source": [
    "#Deathrate per 100,000   \n",
    "Deathrate=(overalldeathrate/Age_55)*100000\n",
    "Deathrate"
   ]
  },
  {
   "cell_type": "markdown",
   "id": "1f7fa0cf",
   "metadata": {},
   "source": [
    "Above is the current deathrate per 100000 people in the community, this was taken from the deaths of those above 55 years and assumption that there was no migration over this age group as most of them are retired"
   ]
  },
  {
   "cell_type": "markdown",
   "id": "6c82b968",
   "metadata": {},
   "source": [
    "# Commuters"
   ]
  },
  {
   "cell_type": "code",
   "execution_count": 85,
   "id": "dd87e8af",
   "metadata": {},
   "outputs": [
    {
     "data": {
      "text/plain": [
       "array(['Engineer, building services', 'Engineer, mining', 'Unemployed',\n",
       "       ..., 'Retired Multimedia programmer',\n",
       "       'Retired Commercial/residential surveyor',\n",
       "       'Retired Control and instrumentation engineer'], dtype=object)"
      ]
     },
     "execution_count": 85,
     "metadata": {},
     "output_type": "execute_result"
    }
   ],
   "source": [
    "census_dataframe['Occupation'].unique()"
   ]
  },
  {
   "cell_type": "code",
   "execution_count": 86,
   "id": "ad0b2455",
   "metadata": {
    "scrolled": true
   },
   "outputs": [
    {
     "data": {
      "text/html": [
       "<div>\n",
       "<style scoped>\n",
       "    .dataframe tbody tr th:only-of-type {\n",
       "        vertical-align: middle;\n",
       "    }\n",
       "\n",
       "    .dataframe tbody tr th {\n",
       "        vertical-align: top;\n",
       "    }\n",
       "\n",
       "    .dataframe thead th {\n",
       "        text-align: right;\n",
       "    }\n",
       "</style>\n",
       "<table border=\"1\" class=\"dataframe\">\n",
       "  <thead>\n",
       "    <tr style=\"text-align: right;\">\n",
       "      <th></th>\n",
       "      <th>House Number</th>\n",
       "      <th>Street</th>\n",
       "      <th>First Name</th>\n",
       "      <th>Surname</th>\n",
       "      <th>Age</th>\n",
       "      <th>Relationship to Head of House</th>\n",
       "      <th>Marital Status</th>\n",
       "      <th>Gender</th>\n",
       "      <th>Occupation</th>\n",
       "      <th>Infirmity</th>\n",
       "      <th>Religion</th>\n",
       "      <th>AgeGroup</th>\n",
       "    </tr>\n",
       "  </thead>\n",
       "  <tbody>\n",
       "    <tr>\n",
       "      <th>5</th>\n",
       "      <td>3</td>\n",
       "      <td>Scott Dale</td>\n",
       "      <td>Norman</td>\n",
       "      <td>Patel</td>\n",
       "      <td>42</td>\n",
       "      <td>Husband</td>\n",
       "      <td>Married</td>\n",
       "      <td>Male</td>\n",
       "      <td>Higher education lecturer</td>\n",
       "      <td>None</td>\n",
       "      <td>None</td>\n",
       "      <td>40-49</td>\n",
       "    </tr>\n",
       "    <tr>\n",
       "      <th>19</th>\n",
       "      <td>8</td>\n",
       "      <td>Scott Dale</td>\n",
       "      <td>Teresa</td>\n",
       "      <td>Ball</td>\n",
       "      <td>22</td>\n",
       "      <td>Daughter</td>\n",
       "      <td>Single</td>\n",
       "      <td>Female</td>\n",
       "      <td>University Student</td>\n",
       "      <td>None</td>\n",
       "      <td>Christian</td>\n",
       "      <td>20-29</td>\n",
       "    </tr>\n",
       "    <tr>\n",
       "      <th>34</th>\n",
       "      <td>13</td>\n",
       "      <td>Scott Dale</td>\n",
       "      <td>Amy</td>\n",
       "      <td>Dennis</td>\n",
       "      <td>19</td>\n",
       "      <td>Wife</td>\n",
       "      <td>Married</td>\n",
       "      <td>Female</td>\n",
       "      <td>University Student</td>\n",
       "      <td>None</td>\n",
       "      <td>None</td>\n",
       "      <td>20-29</td>\n",
       "    </tr>\n",
       "    <tr>\n",
       "      <th>45</th>\n",
       "      <td>19</td>\n",
       "      <td>Scott Dale</td>\n",
       "      <td>Derek</td>\n",
       "      <td>Todd</td>\n",
       "      <td>21</td>\n",
       "      <td>Head</td>\n",
       "      <td>Married</td>\n",
       "      <td>Male</td>\n",
       "      <td>University Student</td>\n",
       "      <td>None</td>\n",
       "      <td>Christian</td>\n",
       "      <td>20-29</td>\n",
       "    </tr>\n",
       "    <tr>\n",
       "      <th>46</th>\n",
       "      <td>19</td>\n",
       "      <td>Scott Dale</td>\n",
       "      <td>Maureen</td>\n",
       "      <td>Todd</td>\n",
       "      <td>19</td>\n",
       "      <td>Wife</td>\n",
       "      <td>Married</td>\n",
       "      <td>Female</td>\n",
       "      <td>University Student</td>\n",
       "      <td>None</td>\n",
       "      <td>Christian</td>\n",
       "      <td>20-29</td>\n",
       "    </tr>\n",
       "    <tr>\n",
       "      <th>...</th>\n",
       "      <td>...</td>\n",
       "      <td>...</td>\n",
       "      <td>...</td>\n",
       "      <td>...</td>\n",
       "      <td>...</td>\n",
       "      <td>...</td>\n",
       "      <td>...</td>\n",
       "      <td>...</td>\n",
       "      <td>...</td>\n",
       "      <td>...</td>\n",
       "      <td>...</td>\n",
       "      <td>...</td>\n",
       "    </tr>\n",
       "    <tr>\n",
       "      <th>8305</th>\n",
       "      <td>1</td>\n",
       "      <td>Jones Barracks</td>\n",
       "      <td>Andrew</td>\n",
       "      <td>Stevenson</td>\n",
       "      <td>20</td>\n",
       "      <td>Son</td>\n",
       "      <td>Single</td>\n",
       "      <td>Male</td>\n",
       "      <td>University Student</td>\n",
       "      <td>None</td>\n",
       "      <td>None</td>\n",
       "      <td>20-29</td>\n",
       "    </tr>\n",
       "    <tr>\n",
       "      <th>8306</th>\n",
       "      <td>1</td>\n",
       "      <td>Jones Barracks</td>\n",
       "      <td>Ruth</td>\n",
       "      <td>Stevenson</td>\n",
       "      <td>20</td>\n",
       "      <td>Daughter</td>\n",
       "      <td>Divorced</td>\n",
       "      <td>Female</td>\n",
       "      <td>University Student</td>\n",
       "      <td>None</td>\n",
       "      <td>None</td>\n",
       "      <td>20-29</td>\n",
       "    </tr>\n",
       "    <tr>\n",
       "      <th>8313</th>\n",
       "      <td>1</td>\n",
       "      <td>Jones Barracks</td>\n",
       "      <td>Emma</td>\n",
       "      <td>Price</td>\n",
       "      <td>20</td>\n",
       "      <td>Lodger</td>\n",
       "      <td>Single</td>\n",
       "      <td>Female</td>\n",
       "      <td>University Student</td>\n",
       "      <td>None</td>\n",
       "      <td>Christian</td>\n",
       "      <td>20-29</td>\n",
       "    </tr>\n",
       "    <tr>\n",
       "      <th>8315</th>\n",
       "      <td>1</td>\n",
       "      <td>Jones Barracks</td>\n",
       "      <td>Joe</td>\n",
       "      <td>Ellis</td>\n",
       "      <td>21</td>\n",
       "      <td>Lodger</td>\n",
       "      <td>Single</td>\n",
       "      <td>Male</td>\n",
       "      <td>University Student</td>\n",
       "      <td>None</td>\n",
       "      <td>Methodist</td>\n",
       "      <td>20-29</td>\n",
       "    </tr>\n",
       "    <tr>\n",
       "      <th>8317</th>\n",
       "      <td>1</td>\n",
       "      <td>Jones Barracks</td>\n",
       "      <td>Amber</td>\n",
       "      <td>Nicholson</td>\n",
       "      <td>47</td>\n",
       "      <td>Lodger</td>\n",
       "      <td>Single</td>\n",
       "      <td>Female</td>\n",
       "      <td>Higher education careers adviser</td>\n",
       "      <td>None</td>\n",
       "      <td>Christian</td>\n",
       "      <td>40-49</td>\n",
       "    </tr>\n",
       "  </tbody>\n",
       "</table>\n",
       "<p>660 rows × 12 columns</p>\n",
       "</div>"
      ],
      "text/plain": [
       "      House Number          Street First Name    Surname  Age  \\\n",
       "5                3      Scott Dale     Norman      Patel   42   \n",
       "19               8      Scott Dale     Teresa       Ball   22   \n",
       "34              13      Scott Dale        Amy     Dennis   19   \n",
       "45              19      Scott Dale      Derek       Todd   21   \n",
       "46              19      Scott Dale    Maureen       Todd   19   \n",
       "...            ...             ...        ...        ...  ...   \n",
       "8305             1  Jones Barracks     Andrew  Stevenson   20   \n",
       "8306             1  Jones Barracks       Ruth  Stevenson   20   \n",
       "8313             1  Jones Barracks       Emma      Price   20   \n",
       "8315             1  Jones Barracks        Joe      Ellis   21   \n",
       "8317             1  Jones Barracks      Amber  Nicholson   47   \n",
       "\n",
       "     Relationship to Head of House Marital Status  Gender  \\\n",
       "5                          Husband        Married    Male   \n",
       "19                        Daughter         Single  Female   \n",
       "34                            Wife        Married  Female   \n",
       "45                            Head        Married    Male   \n",
       "46                            Wife        Married  Female   \n",
       "...                            ...            ...     ...   \n",
       "8305                           Son         Single    Male   \n",
       "8306                      Daughter       Divorced  Female   \n",
       "8313                        Lodger         Single  Female   \n",
       "8315                        Lodger         Single    Male   \n",
       "8317                        Lodger         Single  Female   \n",
       "\n",
       "                            Occupation Infirmity   Religion AgeGroup  \n",
       "5            Higher education lecturer      None       None    40-49  \n",
       "19                  University Student      None  Christian    20-29  \n",
       "34                  University Student      None       None    20-29  \n",
       "45                  University Student      None  Christian    20-29  \n",
       "46                  University Student      None  Christian    20-29  \n",
       "...                                ...       ...        ...      ...  \n",
       "8305                University Student      None       None    20-29  \n",
       "8306                University Student      None       None    20-29  \n",
       "8313                University Student      None  Christian    20-29  \n",
       "8315                University Student      None  Methodist    20-29  \n",
       "8317  Higher education careers adviser      None  Christian    40-49  \n",
       "\n",
       "[660 rows x 12 columns]"
      ]
     },
     "execution_count": 86,
     "metadata": {},
     "output_type": "execute_result"
    }
   ],
   "source": [
    "#Assumption that the people to attend or work at the university, since it is the only facility not present in the area.\n",
    "# Define a list of occupations to keep\n",
    "commute_data = ['Higher education lecturer', 'University Student', 'Research scientist (physical sciences)', 'Scientific laboratory technician', 'Lecturer, higher education', 'Lecturer, further education', 'Research scientist (medical)','Research scientist (maths)', 'PhD Student', 'Higher education careers adviser', 'Research scientist (life sciences)', 'Academic librarian']\n",
    "\n",
    "# Filter data to only keep rows where the Occupation column contains one of the specified occupation values\n",
    "commuter_data = census_dataframe[census_dataframe['Occupation'].isin(commute_data)]\n",
    "\n",
    "# Print the filtered data\n",
    "commuter_data"
   ]
  },
  {
   "cell_type": "code",
   "execution_count": 87,
   "id": "67c50600",
   "metadata": {},
   "outputs": [
    {
     "name": "stdout",
     "output_type": "stream",
     "text": [
      "7.924120542682195\n"
     ]
    }
   ],
   "source": [
    "#percentage  of commute population in relation to the entire population\n",
    "cummuters_Percentage = (len(commuter_data)/len(census_dataframe))*100\n",
    "print(cummuters_Percentage)"
   ]
  },
  {
   "cell_type": "markdown",
   "id": "f17fb71b",
   "metadata": {},
   "source": [
    "Above is the ratio of commutters to the current total population in the area."
   ]
  },
  {
   "cell_type": "markdown",
   "id": "bdd9b897",
   "metadata": {},
   "source": [
    "# Religion"
   ]
  },
  {
   "cell_type": "code",
   "execution_count": 88,
   "id": "b65a43db",
   "metadata": {},
   "outputs": [
    {
     "data": {
      "text/html": [
       "<div>\n",
       "<style scoped>\n",
       "    .dataframe tbody tr th:only-of-type {\n",
       "        vertical-align: middle;\n",
       "    }\n",
       "\n",
       "    .dataframe tbody tr th {\n",
       "        vertical-align: top;\n",
       "    }\n",
       "\n",
       "    .dataframe thead th {\n",
       "        text-align: right;\n",
       "    }\n",
       "</style>\n",
       "<table border=\"1\" class=\"dataframe\">\n",
       "  <thead>\n",
       "    <tr style=\"text-align: right;\">\n",
       "      <th></th>\n",
       "      <th>Total People</th>\n",
       "      <th>Mean Age</th>\n",
       "      <th>Median Age</th>\n",
       "      <th>Mode Age</th>\n",
       "      <th>Age Range</th>\n",
       "      <th>Inter-Quartile Range</th>\n",
       "    </tr>\n",
       "    <tr>\n",
       "      <th>Religion</th>\n",
       "      <th></th>\n",
       "      <th></th>\n",
       "      <th></th>\n",
       "      <th></th>\n",
       "      <th></th>\n",
       "      <th></th>\n",
       "    </tr>\n",
       "  </thead>\n",
       "  <tbody>\n",
       "    <tr>\n",
       "      <th>Buddist</th>\n",
       "      <td>1</td>\n",
       "      <td>32.0</td>\n",
       "      <td>32.0</td>\n",
       "      <td>32</td>\n",
       "      <td>0</td>\n",
       "      <td>0.00</td>\n",
       "    </tr>\n",
       "    <tr>\n",
       "      <th>Catholic</th>\n",
       "      <td>929</td>\n",
       "      <td>41.454252</td>\n",
       "      <td>41.0</td>\n",
       "      <td>44</td>\n",
       "      <td>90</td>\n",
       "      <td>19.00</td>\n",
       "    </tr>\n",
       "    <tr>\n",
       "      <th>Christian</th>\n",
       "      <td>1873</td>\n",
       "      <td>48.128671</td>\n",
       "      <td>49.0</td>\n",
       "      <td>53</td>\n",
       "      <td>94</td>\n",
       "      <td>28.00</td>\n",
       "    </tr>\n",
       "    <tr>\n",
       "      <th>Jewish</th>\n",
       "      <td>38</td>\n",
       "      <td>46.842105</td>\n",
       "      <td>44.0</td>\n",
       "      <td>44</td>\n",
       "      <td>52</td>\n",
       "      <td>24.50</td>\n",
       "    </tr>\n",
       "    <tr>\n",
       "      <th>Methodist</th>\n",
       "      <td>580</td>\n",
       "      <td>42.648276</td>\n",
       "      <td>40.5</td>\n",
       "      <td>40</td>\n",
       "      <td>82</td>\n",
       "      <td>28.00</td>\n",
       "    </tr>\n",
       "    <tr>\n",
       "      <th>Muslim</th>\n",
       "      <td>118</td>\n",
       "      <td>35.728814</td>\n",
       "      <td>31.0</td>\n",
       "      <td>29</td>\n",
       "      <td>85</td>\n",
       "      <td>11.75</td>\n",
       "    </tr>\n",
       "    <tr>\n",
       "      <th>None</th>\n",
       "      <td>2800</td>\n",
       "      <td>41.538214</td>\n",
       "      <td>40.0</td>\n",
       "      <td>41</td>\n",
       "      <td>86</td>\n",
       "      <td>22.25</td>\n",
       "    </tr>\n",
       "    <tr>\n",
       "      <th>Quaker</th>\n",
       "      <td>2</td>\n",
       "      <td>21.5</td>\n",
       "      <td>21.5</td>\n",
       "      <td>20</td>\n",
       "      <td>3</td>\n",
       "      <td>1.50</td>\n",
       "    </tr>\n",
       "    <tr>\n",
       "      <th>Sikh</th>\n",
       "      <td>55</td>\n",
       "      <td>34.290909</td>\n",
       "      <td>31.0</td>\n",
       "      <td>24</td>\n",
       "      <td>65</td>\n",
       "      <td>14.00</td>\n",
       "    </tr>\n",
       "    <tr>\n",
       "      <th>Unknown&gt;16</th>\n",
       "      <td>113</td>\n",
       "      <td>17.584071</td>\n",
       "      <td>17.0</td>\n",
       "      <td>16</td>\n",
       "      <td>69</td>\n",
       "      <td>1.00</td>\n",
       "    </tr>\n",
       "    <tr>\n",
       "      <th>unidentified-under 16</th>\n",
       "      <td>1820</td>\n",
       "      <td>7.854396</td>\n",
       "      <td>8.0</td>\n",
       "      <td>14</td>\n",
       "      <td>15</td>\n",
       "      <td>8.00</td>\n",
       "    </tr>\n",
       "  </tbody>\n",
       "</table>\n",
       "</div>"
      ],
      "text/plain": [
       "                       Total People   Mean Age  Median Age  Mode Age  \\\n",
       "Religion                                                               \n",
       "Buddist                           1       32.0        32.0        32   \n",
       "Catholic                        929  41.454252        41.0        44   \n",
       "Christian                      1873  48.128671        49.0        53   \n",
       "Jewish                           38  46.842105        44.0        44   \n",
       "Methodist                       580  42.648276        40.5        40   \n",
       "Muslim                          118  35.728814        31.0        29   \n",
       "None                           2800  41.538214        40.0        41   \n",
       "Quaker                            2       21.5        21.5        20   \n",
       "Sikh                             55  34.290909        31.0        24   \n",
       "Unknown>16                      113  17.584071        17.0        16   \n",
       "unidentified-under 16          1820   7.854396         8.0        14   \n",
       "\n",
       "                       Age Range  Inter-Quartile Range  \n",
       "Religion                                                \n",
       "Buddist                        0                  0.00  \n",
       "Catholic                      90                 19.00  \n",
       "Christian                     94                 28.00  \n",
       "Jewish                        52                 24.50  \n",
       "Methodist                     82                 28.00  \n",
       "Muslim                        85                 11.75  \n",
       "None                          86                 22.25  \n",
       "Quaker                         3                  1.50  \n",
       "Sikh                          65                 14.00  \n",
       "Unknown>16                    69                  1.00  \n",
       "unidentified-under 16         15                  8.00  "
      ]
     },
     "execution_count": 88,
     "metadata": {},
     "output_type": "execute_result"
    }
   ],
   "source": [
    "# group the DataFrame by Religion\n",
    "grouped = census_dataframe.groupby('Religion')\n",
    "\n",
    "# compute the mean age for each religion\n",
    "mean_age = grouped['Age'].mean()\n",
    "\n",
    "# compute the median age for each religion\n",
    "median_age = grouped['Age'].median()\n",
    "\n",
    "# compute the mode age for each religion\n",
    "mode_age = grouped['Age'].agg(lambda x: x.mode().iat[0])\n",
    "\n",
    "# compute the range of ages for each religion\n",
    "age_range = grouped['Age'].agg(lambda x: x.max() - x.min())\n",
    "\n",
    "# compute the inter-quartile range of ages for each religion\n",
    "iqr = grouped['Age'].quantile(0.75) - grouped['Age'].quantile(0.25)\n",
    "\n",
    "# compute the total number of people for each religion\n",
    "total_people = grouped.size()\n",
    "\n",
    "# create a summary DataFrame\n",
    "summary = pd.DataFrame({\n",
    "    'Total People': total_people,\n",
    "    'Mean Age': mean_age,\n",
    "    'Median Age': median_age,\n",
    "    'Mode Age': mode_age,\n",
    "    'Age Range': age_range,\n",
    "    'Inter-Quartile Range': iqr\n",
    "})\n",
    "summary"
   ]
  },
  {
   "cell_type": "markdown",
   "id": "808c6143",
   "metadata": {},
   "source": [
    "The age range for Catholics is 90 years, for Christians it is 94 years, and for Methodists it is 82 years. This suggests that these religions are associated with both older and younger people.\n",
    "\n",
    "However, some religions have a smaller age range among their adherents. For example, the age range for Quakers is only 3 years and for Buddhists it is 0 years (since there is only one Buddhist in the data). This suggests that these religions may be associated with a narrower age group"
   ]
  },
  {
   "cell_type": "code",
   "execution_count": 89,
   "id": "63cfef0f",
   "metadata": {},
   "outputs": [
    {
     "data": {
      "text/plain": [
       "Text(0.5, 1.0, 'Age by Religion')"
      ]
     },
     "execution_count": 89,
     "metadata": {},
     "output_type": "execute_result"
    },
    {
     "data": {
      "image/png": "[encoded data removed]",
      "text/plain": [
       "<Figure size 1000x600 with 1 Axes>"
      ]
     },
     "metadata": {},
     "output_type": "display_data"
    }
   ],
   "source": [
    "# Define the colors for the box plot elements\n",
    "colors = {\n",
    "    'boxes': 'red',\n",
    "    'whiskers': 'blue',\n",
    "    'caps': 'green',\n",
    "    'medians': 'orange'\n",
    "}\n",
    "\n",
    "# Create a box plot of the age column for each religion category with custom colors\n",
    "census_dataframe.boxplot(column='Age', by='Religion', figsize=(10, 6), color=colors)\n",
    "# Rotate the x-axis labels by 45 degrees\n",
    "plt.xticks(rotation=45)\n",
    "\n",
    "# Add labels and title\n",
    "plt.xlabel('Religion')\n",
    "plt.ylabel('Age')\n",
    "plt.title('Age by Religion')"
   ]
  },
  {
   "cell_type": "code",
   "execution_count": 90,
   "id": "f8ccabda",
   "metadata": {
    "scrolled": false
   },
   "outputs": [
    {
     "data": {
      "image/png": "[encoded data removed]",
      "text/plain": [
       "<Figure size 640x480 with 1 Axes>"
      ]
     },
     "metadata": {},
     "output_type": "display_data"
    }
   ],
   "source": [
    "# Count the number of people of each religion\n",
    "religion_counts = census_dataframe['Religion'].value_counts()\n",
    "\n",
    "# Calculate the percentage of each religion\n",
    "religion_percentages = religion_counts / len(census_dataframe) * 100\n",
    "\n",
    "# Create a bar chart\n",
    "religion_percentages.plot(kind='bar')\n",
    "\n",
    "# Add labels and title\n",
    "plt.xlabel('Religion')\n",
    "plt.ylabel('Percentage of Population')\n",
    "plt.title('Percentage of Population by Religion')\n",
    "\n",
    "# Show the plot\n",
    "plt.show()"
   ]
  },
  {
   "cell_type": "code",
   "execution_count": 91,
   "id": "448b7392",
   "metadata": {
    "scrolled": true
   },
   "outputs": [
    {
     "name": "stdout",
     "output_type": "stream",
     "text": [
      "None: 10.46%\n",
      "Christian: 11.79%\n",
      "Catholic: 3.82%\n",
      "Methodist: 3.79%\n",
      "Jewish: 0.14%\n",
      "Muslim: 0.43%\n"
     ]
    }
   ],
   "source": [
    "def prob_same_religion(df):\n",
    "    # Make a copy of the dataframe\n",
    "    df = df.copy()\n",
    "    \n",
    "    # Filter dataframe to only include rows where Relationship to Head of House is 'Son', 'Daughter', or 'Head'\n",
    "    df = df[df['Relationship to Head of House'].isin(['Son', 'Daughter', 'Head'])]\n",
    "    \n",
    "    # Group by house number and street\n",
    "    grouped = df.groupby(['House Number', 'Street'])\n",
    "    \n",
    "    # Initialize counts\n",
    "    total_count = 0\n",
    "    same_religion_counts = {}\n",
    "    \n",
    "    # Iterate over groups\n",
    "    for name, group in grouped:\n",
    "        # Get head of house religion\n",
    "        head_religion = group[group['Relationship to Head of House'] == 'Head']['Religion'].iloc[0]\n",
    "        \n",
    "        # Get son and daughter religions\n",
    "        son_daughter_religions = group[group['Relationship to Head of House'].isin(['Son', 'Daughter'])]['Religion']\n",
    "        \n",
    "        # Increment counts\n",
    "        for religion in son_daughter_religions:\n",
    "            if religion == head_religion:\n",
    "                if religion in same_religion_counts:\n",
    "                    same_religion_counts[religion] += 1\n",
    "                else:\n",
    "                    same_religion_counts[religion] = 1\n",
    "            \n",
    "            total_count += 1\n",
    "    \n",
    "    # Calculate probabilities\n",
    "    probs = {religion: count / total_count * 100 for religion, count in same_religion_counts.items()}\n",
    "    \n",
    "    return probs\n",
    "\n",
    "# Example usage:\n",
    "probs = prob_same_religion(census_dataframe)\n",
    "for religion, prob in probs.items():\n",
    "    print(f'{religion}: {prob:.2f}%')"
   ]
  },
  {
   "cell_type": "markdown",
   "id": "e3d7edaa",
   "metadata": {},
   "source": [
    "Above is percentage probabilities that either the child born(son/ daugher) will take the religion of the head of the house, for instance in a christian household 11.7% of the children will take the religion of the head of the house"
   ]
  },
  {
   "cell_type": "markdown",
   "id": "250a3fa8",
   "metadata": {},
   "source": [
    "# Migration"
   ]
  },
  {
   "cell_type": "code",
   "execution_count": 92,
   "id": "9480d0c5",
   "metadata": {},
   "outputs": [],
   "source": [
    "#Immigrants into the town are most likely those who are visitors, lodgers, \n",
    "#Those with no relation with the head of the house\n",
    "#University students who are head of the house\n"
   ]
  },
  {
   "cell_type": "code",
   "execution_count": 93,
   "id": "05fed519",
   "metadata": {},
   "outputs": [],
   "source": [
    "Immigration_df = census_dataframe[((census_dataframe['Relationship to Head of House'] == 'Lodger') |\n",
    "                         (census_dataframe['Relationship to Head of House'] == 'Visitor') |\n",
    "                         (census_dataframe['Relationship to Head of House'] == 'None')) |\n",
    "                        ((census_dataframe['Relationship to Head of House'] == 'Head') & (census_dataframe['Occupation'].str.contains('university student', case=False)))]"
   ]
  },
  {
   "cell_type": "code",
   "execution_count": 94,
   "id": "946ab1f7",
   "metadata": {},
   "outputs": [
    {
     "data": {
      "text/html": [
       "<div>\n",
       "<style scoped>\n",
       "    .dataframe tbody tr th:only-of-type {\n",
       "        vertical-align: middle;\n",
       "    }\n",
       "\n",
       "    .dataframe tbody tr th {\n",
       "        vertical-align: top;\n",
       "    }\n",
       "\n",
       "    .dataframe thead th {\n",
       "        text-align: right;\n",
       "    }\n",
       "</style>\n",
       "<table border=\"1\" class=\"dataframe\">\n",
       "  <thead>\n",
       "    <tr style=\"text-align: right;\">\n",
       "      <th></th>\n",
       "      <th>House Number</th>\n",
       "      <th>Street</th>\n",
       "      <th>First Name</th>\n",
       "      <th>Surname</th>\n",
       "      <th>Age</th>\n",
       "      <th>Relationship to Head of House</th>\n",
       "      <th>Marital Status</th>\n",
       "      <th>Gender</th>\n",
       "      <th>Occupation</th>\n",
       "      <th>Infirmity</th>\n",
       "      <th>Religion</th>\n",
       "      <th>AgeGroup</th>\n",
       "    </tr>\n",
       "  </thead>\n",
       "  <tbody>\n",
       "    <tr>\n",
       "      <th>9</th>\n",
       "      <td>5</td>\n",
       "      <td>Scott Dale</td>\n",
       "      <td>Natasha</td>\n",
       "      <td>Walker</td>\n",
       "      <td>32</td>\n",
       "      <td>None</td>\n",
       "      <td>Single</td>\n",
       "      <td>Female</td>\n",
       "      <td>Surveyor, minerals</td>\n",
       "      <td>None</td>\n",
       "      <td>Catholic</td>\n",
       "      <td>30-39</td>\n",
       "    </tr>\n",
       "    <tr>\n",
       "      <th>10</th>\n",
       "      <td>5</td>\n",
       "      <td>Scott Dale</td>\n",
       "      <td>Mohamed</td>\n",
       "      <td>Slater</td>\n",
       "      <td>62</td>\n",
       "      <td>None</td>\n",
       "      <td>Single</td>\n",
       "      <td>Male</td>\n",
       "      <td>Clinical psychologist</td>\n",
       "      <td>None</td>\n",
       "      <td>Christian</td>\n",
       "      <td>60-69</td>\n",
       "    </tr>\n",
       "    <tr>\n",
       "      <th>45</th>\n",
       "      <td>19</td>\n",
       "      <td>Scott Dale</td>\n",
       "      <td>Derek</td>\n",
       "      <td>Todd</td>\n",
       "      <td>21</td>\n",
       "      <td>Head</td>\n",
       "      <td>Married</td>\n",
       "      <td>Male</td>\n",
       "      <td>University Student</td>\n",
       "      <td>None</td>\n",
       "      <td>Christian</td>\n",
       "      <td>20-29</td>\n",
       "    </tr>\n",
       "    <tr>\n",
       "      <th>54</th>\n",
       "      <td>22</td>\n",
       "      <td>Scott Dale</td>\n",
       "      <td>Ronald</td>\n",
       "      <td>Ingram</td>\n",
       "      <td>34</td>\n",
       "      <td>Lodger</td>\n",
       "      <td>Single</td>\n",
       "      <td>Male</td>\n",
       "      <td>Broadcast engineer</td>\n",
       "      <td>None</td>\n",
       "      <td>None</td>\n",
       "      <td>30-39</td>\n",
       "    </tr>\n",
       "    <tr>\n",
       "      <th>55</th>\n",
       "      <td>22</td>\n",
       "      <td>Scott Dale</td>\n",
       "      <td>Diana</td>\n",
       "      <td>Gill</td>\n",
       "      <td>20</td>\n",
       "      <td>Lodger</td>\n",
       "      <td>Divorced</td>\n",
       "      <td>Female</td>\n",
       "      <td>University Student</td>\n",
       "      <td>None</td>\n",
       "      <td>None</td>\n",
       "      <td>20-29</td>\n",
       "    </tr>\n",
       "    <tr>\n",
       "      <th>...</th>\n",
       "      <td>...</td>\n",
       "      <td>...</td>\n",
       "      <td>...</td>\n",
       "      <td>...</td>\n",
       "      <td>...</td>\n",
       "      <td>...</td>\n",
       "      <td>...</td>\n",
       "      <td>...</td>\n",
       "      <td>...</td>\n",
       "      <td>...</td>\n",
       "      <td>...</td>\n",
       "      <td>...</td>\n",
       "    </tr>\n",
       "    <tr>\n",
       "      <th>8316</th>\n",
       "      <td>1</td>\n",
       "      <td>Jones Barracks</td>\n",
       "      <td>Brett</td>\n",
       "      <td>Lowe</td>\n",
       "      <td>25</td>\n",
       "      <td>Lodger</td>\n",
       "      <td>Divorced</td>\n",
       "      <td>Male</td>\n",
       "      <td>Secretary/administrator</td>\n",
       "      <td>None</td>\n",
       "      <td>None</td>\n",
       "      <td>20-29</td>\n",
       "    </tr>\n",
       "    <tr>\n",
       "      <th>8317</th>\n",
       "      <td>1</td>\n",
       "      <td>Jones Barracks</td>\n",
       "      <td>Amber</td>\n",
       "      <td>Nicholson</td>\n",
       "      <td>47</td>\n",
       "      <td>Lodger</td>\n",
       "      <td>Single</td>\n",
       "      <td>Female</td>\n",
       "      <td>Higher education careers adviser</td>\n",
       "      <td>None</td>\n",
       "      <td>Christian</td>\n",
       "      <td>40-49</td>\n",
       "    </tr>\n",
       "    <tr>\n",
       "      <th>8318</th>\n",
       "      <td>1</td>\n",
       "      <td>Jones Barracks</td>\n",
       "      <td>Hollie</td>\n",
       "      <td>Moore</td>\n",
       "      <td>58</td>\n",
       "      <td>Lodger</td>\n",
       "      <td>Divorced</td>\n",
       "      <td>Female</td>\n",
       "      <td>Investment banker, corporate</td>\n",
       "      <td>None</td>\n",
       "      <td>None</td>\n",
       "      <td>50-59</td>\n",
       "    </tr>\n",
       "    <tr>\n",
       "      <th>8319</th>\n",
       "      <td>1</td>\n",
       "      <td>Jones Barracks</td>\n",
       "      <td>Eileen</td>\n",
       "      <td>Butler</td>\n",
       "      <td>27</td>\n",
       "      <td>Lodger</td>\n",
       "      <td>Single</td>\n",
       "      <td>Female</td>\n",
       "      <td>Armed forces technical officer</td>\n",
       "      <td>None</td>\n",
       "      <td>Catholic</td>\n",
       "      <td>20-29</td>\n",
       "    </tr>\n",
       "    <tr>\n",
       "      <th>8324</th>\n",
       "      <td>1</td>\n",
       "      <td>Walker Palace</td>\n",
       "      <td>Adrian</td>\n",
       "      <td>Mason</td>\n",
       "      <td>56</td>\n",
       "      <td>Lodger</td>\n",
       "      <td>Single</td>\n",
       "      <td>Male</td>\n",
       "      <td>Unemployed</td>\n",
       "      <td>None</td>\n",
       "      <td>Muslim</td>\n",
       "      <td>50-59</td>\n",
       "    </tr>\n",
       "  </tbody>\n",
       "</table>\n",
       "<p>1098 rows × 12 columns</p>\n",
       "</div>"
      ],
      "text/plain": [
       "      House Number          Street First Name    Surname  Age  \\\n",
       "9                5      Scott Dale    Natasha     Walker   32   \n",
       "10               5      Scott Dale    Mohamed     Slater   62   \n",
       "45              19      Scott Dale      Derek       Todd   21   \n",
       "54              22      Scott Dale     Ronald     Ingram   34   \n",
       "55              22      Scott Dale      Diana       Gill   20   \n",
       "...            ...             ...        ...        ...  ...   \n",
       "8316             1  Jones Barracks      Brett       Lowe   25   \n",
       "8317             1  Jones Barracks      Amber  Nicholson   47   \n",
       "8318             1  Jones Barracks     Hollie      Moore   58   \n",
       "8319             1  Jones Barracks     Eileen     Butler   27   \n",
       "8324             1   Walker Palace     Adrian      Mason   56   \n",
       "\n",
       "     Relationship to Head of House Marital Status  Gender  \\\n",
       "9                             None         Single  Female   \n",
       "10                            None         Single    Male   \n",
       "45                            Head        Married    Male   \n",
       "54                          Lodger         Single    Male   \n",
       "55                          Lodger       Divorced  Female   \n",
       "...                            ...            ...     ...   \n",
       "8316                        Lodger       Divorced    Male   \n",
       "8317                        Lodger         Single  Female   \n",
       "8318                        Lodger       Divorced  Female   \n",
       "8319                        Lodger         Single  Female   \n",
       "8324                        Lodger         Single    Male   \n",
       "\n",
       "                            Occupation Infirmity   Religion AgeGroup  \n",
       "9                   Surveyor, minerals      None   Catholic    30-39  \n",
       "10               Clinical psychologist      None  Christian    60-69  \n",
       "45                  University Student      None  Christian    20-29  \n",
       "54                  Broadcast engineer      None       None    30-39  \n",
       "55                  University Student      None       None    20-29  \n",
       "...                                ...       ...        ...      ...  \n",
       "8316           Secretary/administrator      None       None    20-29  \n",
       "8317  Higher education careers adviser      None  Christian    40-49  \n",
       "8318      Investment banker, corporate      None       None    50-59  \n",
       "8319    Armed forces technical officer      None   Catholic    20-29  \n",
       "8324                        Unemployed      None     Muslim    50-59  \n",
       "\n",
       "[1098 rows x 12 columns]"
      ]
     },
     "execution_count": 94,
     "metadata": {},
     "output_type": "execute_result"
    }
   ],
   "source": [
    "Immigration_df"
   ]
  },
  {
   "cell_type": "code",
   "execution_count": 95,
   "id": "78c181fa",
   "metadata": {},
   "outputs": [
    {
     "data": {
      "image/png": "[encoded data removed]",
      "text/plain": [
       "<Figure size 1000x600 with 1 Axes>"
      ]
     },
     "metadata": {},
     "output_type": "display_data"
    }
   ],
   "source": [
    "# Create a countplot of the age groups\n",
    "plt.figure(figsize=(10, 6))\n",
    "sns.countplot(x='AgeGroup', data=Immigration_df)\n",
    "plt.title(\"Immigrants\")\n",
    "plt.show()"
   ]
  },
  {
   "cell_type": "code",
   "execution_count": 96,
   "id": "0358e7bc",
   "metadata": {},
   "outputs": [
    {
     "data": {
      "image/png": "[encoded data removed]",
      "text/plain": [
       "<Figure size 1000x600 with 1 Axes>"
      ]
     },
     "metadata": {},
     "output_type": "display_data"
    }
   ],
   "source": [
    "#creating copies of the dataframes\n",
    "census_dataframe_copy = census_dataframe.copy()\n",
    "immigration_copy = Immigration_df.copy()\n",
    "\n",
    "# Add a new column to indicate the source\n",
    "census_dataframe_copy['Source'] = 'Census'\n",
    "immigration_copy['Source'] = 'Immigration'\n",
    "\n",
    "# Combine the two data frames into a single data frame\n",
    "combined_df = pd.concat([census_dataframe_copy, immigration_copy])\n",
    "\n",
    "# Create a countplot of the age groups with hue as the source\n",
    "plt.figure(figsize=(10, 6))\n",
    "sns.countplot(x='AgeGroup', hue='Source', data=combined_df)\n",
    "plt.title(\"Age Groups\")\n",
    "plt.show()"
   ]
  },
  {
   "cell_type": "markdown",
   "id": "8268ac2f",
   "metadata": {},
   "source": [
    "Emmigrants"
   ]
  },
  {
   "cell_type": "code",
   "execution_count": 97,
   "id": "924a800a",
   "metadata": {},
   "outputs": [],
   "source": [
    "# Create a boolean mask for each condition\n",
    "#Visitors will eventually leave at a given point\n",
    "cond1 = (census_dataframe['Relationship to Head of House'] == 'Visitor')\n",
    "cond2 = ((census_dataframe['Relationship to Head of House'] == 'Head') & (census_dataframe['Occupation'].str.contains('university student', case=False)))\n",
    "cond3 = ((census_dataframe['Relationship to Head of House'] == 'None') & (census_dataframe['Occupation'].isin(['University Student', 'Armed forces technical officer', 'PhD Student'])))\n",
    "cond4 = ((census_dataframe['Relationship to Head of House'] == 'Lodger') & (census_dataframe['Marital Status'] == 'Divorced'))\n",
    "cond5 = ((census_dataframe['Relationship to Head of House'] == 'Lodger') & (census_dataframe['Occupation'].str.contains('student', case=False)))\n",
    "cond6 = ((census_dataframe['Relationship to Head of House'] == 'Lodger') & (census_dataframe['Occupation'].str.contains('university student', case=False)))\n",
    "# Combine the boolean masks using the OR operator\n",
    "mask = cond1 | cond2 | cond3 | cond4 | cond5 | cond6\n",
    "\n",
    "# Filter the rows of the data frame using the boolean mask\n",
    "emigrantion_df = census_dataframe[mask]"
   ]
  },
  {
   "cell_type": "code",
   "execution_count": 98,
   "id": "07b2eda9",
   "metadata": {},
   "outputs": [
    {
     "data": {
      "text/html": [
       "<div>\n",
       "<style scoped>\n",
       "    .dataframe tbody tr th:only-of-type {\n",
       "        vertical-align: middle;\n",
       "    }\n",
       "\n",
       "    .dataframe tbody tr th {\n",
       "        vertical-align: top;\n",
       "    }\n",
       "\n",
       "    .dataframe thead th {\n",
       "        text-align: right;\n",
       "    }\n",
       "</style>\n",
       "<table border=\"1\" class=\"dataframe\">\n",
       "  <thead>\n",
       "    <tr style=\"text-align: right;\">\n",
       "      <th></th>\n",
       "      <th>House Number</th>\n",
       "      <th>Street</th>\n",
       "      <th>First Name</th>\n",
       "      <th>Surname</th>\n",
       "      <th>Age</th>\n",
       "      <th>Relationship to Head of House</th>\n",
       "      <th>Marital Status</th>\n",
       "      <th>Gender</th>\n",
       "      <th>Occupation</th>\n",
       "      <th>Infirmity</th>\n",
       "      <th>Religion</th>\n",
       "      <th>AgeGroup</th>\n",
       "    </tr>\n",
       "  </thead>\n",
       "  <tbody>\n",
       "    <tr>\n",
       "      <th>45</th>\n",
       "      <td>19</td>\n",
       "      <td>Scott Dale</td>\n",
       "      <td>Derek</td>\n",
       "      <td>Todd</td>\n",
       "      <td>21</td>\n",
       "      <td>Head</td>\n",
       "      <td>Married</td>\n",
       "      <td>Male</td>\n",
       "      <td>University Student</td>\n",
       "      <td>None</td>\n",
       "      <td>Christian</td>\n",
       "      <td>20-29</td>\n",
       "    </tr>\n",
       "    <tr>\n",
       "      <th>55</th>\n",
       "      <td>22</td>\n",
       "      <td>Scott Dale</td>\n",
       "      <td>Diana</td>\n",
       "      <td>Gill</td>\n",
       "      <td>20</td>\n",
       "      <td>Lodger</td>\n",
       "      <td>Divorced</td>\n",
       "      <td>Female</td>\n",
       "      <td>University Student</td>\n",
       "      <td>None</td>\n",
       "      <td>None</td>\n",
       "      <td>20-29</td>\n",
       "    </tr>\n",
       "    <tr>\n",
       "      <th>56</th>\n",
       "      <td>22</td>\n",
       "      <td>Scott Dale</td>\n",
       "      <td>Ronald</td>\n",
       "      <td>Johnson</td>\n",
       "      <td>46</td>\n",
       "      <td>Visitor</td>\n",
       "      <td>Single</td>\n",
       "      <td>Male</td>\n",
       "      <td>Programmer, systems</td>\n",
       "      <td>None</td>\n",
       "      <td>Christian</td>\n",
       "      <td>40-49</td>\n",
       "    </tr>\n",
       "    <tr>\n",
       "      <th>96</th>\n",
       "      <td>11</td>\n",
       "      <td>Lee Shoal</td>\n",
       "      <td>Natasha</td>\n",
       "      <td>Whitehouse</td>\n",
       "      <td>22</td>\n",
       "      <td>None</td>\n",
       "      <td>Single</td>\n",
       "      <td>Female</td>\n",
       "      <td>University Student</td>\n",
       "      <td>None</td>\n",
       "      <td>Methodist</td>\n",
       "      <td>20-29</td>\n",
       "    </tr>\n",
       "    <tr>\n",
       "      <th>118</th>\n",
       "      <td>20</td>\n",
       "      <td>Lee Shoal</td>\n",
       "      <td>Sam</td>\n",
       "      <td>White</td>\n",
       "      <td>19</td>\n",
       "      <td>None</td>\n",
       "      <td>Single</td>\n",
       "      <td>Male</td>\n",
       "      <td>University Student</td>\n",
       "      <td>None</td>\n",
       "      <td>Muslim</td>\n",
       "      <td>20-29</td>\n",
       "    </tr>\n",
       "    <tr>\n",
       "      <th>...</th>\n",
       "      <td>...</td>\n",
       "      <td>...</td>\n",
       "      <td>...</td>\n",
       "      <td>...</td>\n",
       "      <td>...</td>\n",
       "      <td>...</td>\n",
       "      <td>...</td>\n",
       "      <td>...</td>\n",
       "      <td>...</td>\n",
       "      <td>...</td>\n",
       "      <td>...</td>\n",
       "      <td>...</td>\n",
       "    </tr>\n",
       "    <tr>\n",
       "      <th>8197</th>\n",
       "      <td>22</td>\n",
       "      <td>Lloyd Drive</td>\n",
       "      <td>Diane</td>\n",
       "      <td>Thompson</td>\n",
       "      <td>41</td>\n",
       "      <td>Visitor</td>\n",
       "      <td>Single</td>\n",
       "      <td>Female</td>\n",
       "      <td>Unemployed</td>\n",
       "      <td>None</td>\n",
       "      <td>None</td>\n",
       "      <td>40-49</td>\n",
       "    </tr>\n",
       "    <tr>\n",
       "      <th>8313</th>\n",
       "      <td>1</td>\n",
       "      <td>Jones Barracks</td>\n",
       "      <td>Emma</td>\n",
       "      <td>Price</td>\n",
       "      <td>20</td>\n",
       "      <td>Lodger</td>\n",
       "      <td>Single</td>\n",
       "      <td>Female</td>\n",
       "      <td>University Student</td>\n",
       "      <td>None</td>\n",
       "      <td>Christian</td>\n",
       "      <td>20-29</td>\n",
       "    </tr>\n",
       "    <tr>\n",
       "      <th>8315</th>\n",
       "      <td>1</td>\n",
       "      <td>Jones Barracks</td>\n",
       "      <td>Joe</td>\n",
       "      <td>Ellis</td>\n",
       "      <td>21</td>\n",
       "      <td>Lodger</td>\n",
       "      <td>Single</td>\n",
       "      <td>Male</td>\n",
       "      <td>University Student</td>\n",
       "      <td>None</td>\n",
       "      <td>Methodist</td>\n",
       "      <td>20-29</td>\n",
       "    </tr>\n",
       "    <tr>\n",
       "      <th>8316</th>\n",
       "      <td>1</td>\n",
       "      <td>Jones Barracks</td>\n",
       "      <td>Brett</td>\n",
       "      <td>Lowe</td>\n",
       "      <td>25</td>\n",
       "      <td>Lodger</td>\n",
       "      <td>Divorced</td>\n",
       "      <td>Male</td>\n",
       "      <td>Secretary/administrator</td>\n",
       "      <td>None</td>\n",
       "      <td>None</td>\n",
       "      <td>20-29</td>\n",
       "    </tr>\n",
       "    <tr>\n",
       "      <th>8318</th>\n",
       "      <td>1</td>\n",
       "      <td>Jones Barracks</td>\n",
       "      <td>Hollie</td>\n",
       "      <td>Moore</td>\n",
       "      <td>58</td>\n",
       "      <td>Lodger</td>\n",
       "      <td>Divorced</td>\n",
       "      <td>Female</td>\n",
       "      <td>Investment banker, corporate</td>\n",
       "      <td>None</td>\n",
       "      <td>None</td>\n",
       "      <td>50-59</td>\n",
       "    </tr>\n",
       "  </tbody>\n",
       "</table>\n",
       "<p>411 rows × 12 columns</p>\n",
       "</div>"
      ],
      "text/plain": [
       "      House Number          Street First Name     Surname  Age  \\\n",
       "45              19      Scott Dale      Derek        Todd   21   \n",
       "55              22      Scott Dale      Diana        Gill   20   \n",
       "56              22      Scott Dale     Ronald     Johnson   46   \n",
       "96              11       Lee Shoal    Natasha  Whitehouse   22   \n",
       "118             20       Lee Shoal        Sam       White   19   \n",
       "...            ...             ...        ...         ...  ...   \n",
       "8197            22     Lloyd Drive      Diane    Thompson   41   \n",
       "8313             1  Jones Barracks       Emma       Price   20   \n",
       "8315             1  Jones Barracks        Joe       Ellis   21   \n",
       "8316             1  Jones Barracks      Brett        Lowe   25   \n",
       "8318             1  Jones Barracks     Hollie       Moore   58   \n",
       "\n",
       "     Relationship to Head of House Marital Status  Gender  \\\n",
       "45                            Head        Married    Male   \n",
       "55                          Lodger       Divorced  Female   \n",
       "56                         Visitor         Single    Male   \n",
       "96                            None         Single  Female   \n",
       "118                           None         Single    Male   \n",
       "...                            ...            ...     ...   \n",
       "8197                       Visitor         Single  Female   \n",
       "8313                        Lodger         Single  Female   \n",
       "8315                        Lodger         Single    Male   \n",
       "8316                        Lodger       Divorced    Male   \n",
       "8318                        Lodger       Divorced  Female   \n",
       "\n",
       "                        Occupation Infirmity   Religion AgeGroup  \n",
       "45              University Student      None  Christian    20-29  \n",
       "55              University Student      None       None    20-29  \n",
       "56             Programmer, systems      None  Christian    40-49  \n",
       "96              University Student      None  Methodist    20-29  \n",
       "118             University Student      None     Muslim    20-29  \n",
       "...                            ...       ...        ...      ...  \n",
       "8197                    Unemployed      None       None    40-49  \n",
       "8313            University Student      None  Christian    20-29  \n",
       "8315            University Student      None  Methodist    20-29  \n",
       "8316       Secretary/administrator      None       None    20-29  \n",
       "8318  Investment banker, corporate      None       None    50-59  \n",
       "\n",
       "[411 rows x 12 columns]"
      ]
     },
     "execution_count": 98,
     "metadata": {},
     "output_type": "execute_result"
    }
   ],
   "source": [
    "emigrantion_df"
   ]
  },
  {
   "cell_type": "code",
   "execution_count": 99,
   "id": "ec729e73",
   "metadata": {},
   "outputs": [
    {
     "data": {
      "image/png": "[encoded data removed]",
      "text/plain": [
       "<Figure size 1000x600 with 1 Axes>"
      ]
     },
     "metadata": {},
     "output_type": "display_data"
    }
   ],
   "source": [
    "#creating copies of the dataframes\n",
    "census_dataframe_copy = census_dataframe.copy()\n",
    "immigration_copy = Immigration_df.copy()\n",
    "emigrantion_copy=emigrantion_df.copy()\n",
    "\n",
    "# Add a new column to indicate the source\n",
    "census_dataframe_copy['Source'] = 'Census'\n",
    "immigration_copy['Source'] = 'Immigration'\n",
    "emigrantion_copy['Source'] = 'Emigrant'\n",
    "\n",
    "# Combine the two data frames into a single data frame\n",
    "combined_df = pd.concat([immigration_copy, census_dataframe_copy, emigrantion_copy ])\n",
    "\n",
    "# Create a countplot of the age groups with hue as the source\n",
    "plt.figure(figsize=(10, 6))\n",
    "sns.countplot(x='AgeGroup', hue='Source', data=combined_df)\n",
    "plt.title(\"Age Groups\")\n",
    "plt.show()"
   ]
  },
  {
   "cell_type": "markdown",
   "id": "1580c582",
   "metadata": {},
   "source": [
    "From the above it is clear that migration adds to the total population of the area. Between the age of 20 -29 years, we have more migration into and also out of town, these are most likey univeristy students. Between the ages of 30-69 years we have more immigration as compared to emigration. These are most likely adults looking for work and some who are working."
   ]
  },
  {
   "cell_type": "markdown",
   "id": "cd12f8d8",
   "metadata": {},
   "source": [
    "# Occupation and Unemployment"
   ]
  },
  {
   "cell_type": "code",
   "execution_count": 100,
   "id": "86f43928",
   "metadata": {},
   "outputs": [
    {
     "data": {
      "image/png": "[encoded data removed]",
      "text/plain": [
       "<Figure size 1000x600 with 1 Axes>"
      ]
     },
     "metadata": {},
     "output_type": "display_data"
    }
   ],
   "source": [
    "# Define a custom function to map the occupation values to categories\n",
    "def categorize_occupation(occupation):\n",
    "    if occupation == 'Unemployed':\n",
    "        return 'Unemployed'\n",
    "    elif occupation == 'Child':\n",
    "        return 'Child'\n",
    "    elif occupation == 'University Student':\n",
    "        return 'University Studentt'\n",
    "    elif occupation == 'Student':\n",
    "        return 'Student'\n",
    "    elif 'Retired' in occupation:\n",
    "        return 'Retired'\n",
    "    else:\n",
    "        return 'Other Occupations'\n",
    "\n",
    "# Create a new column for occupation category\n",
    "census_dataframe['Occupation Category'] = census_dataframe['Occupation'].apply(categorize_occupation)\n",
    "\n",
    "# Create a countplot of the occupation categories\n",
    "\n",
    "plt.figure(figsize=(10, 6))\n",
    "sns.countplot(x='Occupation Category', data=census_dataframe)\n",
    "Age_range55\n",
    "plt.title(\"Occupation\")\n",
    "plt.savefig('Occupation.png')\n",
    "plt.show()"
   ]
  },
  {
   "cell_type": "markdown",
   "id": "aa7697a3",
   "metadata": {},
   "source": [
    "The Figure above clearly shows that we currently have a higher student population as compared to the unemployed and the retired population. However, with the high immigration into town, in a few years, those in the other occupations category will soon retire and we shall have a higher retired population that will require more retirement homes"
   ]
  },
  {
   "cell_type": "code",
   "execution_count": 101,
   "id": "97d94fe8",
   "metadata": {},
   "outputs": [
    {
     "data": {
      "image/png": "[encoded data removed]",
      "text/plain": [
       "<Figure size 1000x600 with 1 Axes>"
      ]
     },
     "metadata": {},
     "output_type": "display_data"
    }
   ],
   "source": [
    "# Filter the rows where the occupation is unemployed\n",
    "unemployed_df = census_dataframe[census_dataframe['Occupation'] == 'Unemployed']\n",
    "\n",
    "# Create a countplot of the age groups with hue as the gender\n",
    "plt.figure(figsize=(10, 6))\n",
    "sns.countplot(x='AgeGroup', hue='Gender', data=unemployed_df)\n",
    "plt.title(\"Unemployed by Age Group and Gender\")\n",
    "plt.savefig('Unemployed by Age Group and Gender.png')\n",
    "plt.show()"
   ]
  },
  {
   "cell_type": "code",
   "execution_count": 102,
   "id": "8baf41fc",
   "metadata": {
    "scrolled": true
   },
   "outputs": [
    {
     "data": {
      "text/plain": [
       "count        513.0\n",
       "mean     44.169591\n",
       "std      13.542774\n",
       "min           22.0\n",
       "25%           34.0\n",
       "50%           42.0\n",
       "75%           52.0\n",
       "max           95.0\n",
       "Name: Age, dtype: Float64"
      ]
     },
     "execution_count": 102,
     "metadata": {},
     "output_type": "execute_result"
    }
   ],
   "source": [
    "unemployed_df['Age'].describe().T"
   ]
  },
  {
   "cell_type": "markdown",
   "id": "24a546fa",
   "metadata": {},
   "source": [
    "# Household Occupancy"
   ]
  },
  {
   "cell_type": "code",
   "execution_count": 103,
   "id": "7b90aac9",
   "metadata": {},
   "outputs": [],
   "source": [
    "#Creat a new column of household occupancy\n",
    "census_dataframe['household_occupancy'] = census_dataframe.groupby(['House Number', 'Street'])['House Number'].transform('count')"
   ]
  },
  {
   "cell_type": "code",
   "execution_count": 104,
   "id": "ea2fc150",
   "metadata": {
    "scrolled": false
   },
   "outputs": [
    {
     "data": {
      "text/html": [
       "<div>\n",
       "<style scoped>\n",
       "    .dataframe tbody tr th:only-of-type {\n",
       "        vertical-align: middle;\n",
       "    }\n",
       "\n",
       "    .dataframe tbody tr th {\n",
       "        vertical-align: top;\n",
       "    }\n",
       "\n",
       "    .dataframe thead th {\n",
       "        text-align: right;\n",
       "    }\n",
       "</style>\n",
       "<table border=\"1\" class=\"dataframe\">\n",
       "  <thead>\n",
       "    <tr style=\"text-align: right;\">\n",
       "      <th></th>\n",
       "      <th>House Number</th>\n",
       "      <th>Street</th>\n",
       "      <th>First Name</th>\n",
       "      <th>Surname</th>\n",
       "      <th>Age</th>\n",
       "      <th>Relationship to Head of House</th>\n",
       "      <th>Marital Status</th>\n",
       "      <th>Gender</th>\n",
       "      <th>Occupation</th>\n",
       "      <th>Infirmity</th>\n",
       "      <th>Religion</th>\n",
       "      <th>AgeGroup</th>\n",
       "      <th>Occupation Category</th>\n",
       "      <th>household_occupancy</th>\n",
       "    </tr>\n",
       "  </thead>\n",
       "  <tbody>\n",
       "    <tr>\n",
       "      <th>0</th>\n",
       "      <td>1</td>\n",
       "      <td>Scott Dale</td>\n",
       "      <td>Maureen</td>\n",
       "      <td>Cox</td>\n",
       "      <td>50</td>\n",
       "      <td>Head</td>\n",
       "      <td>Single</td>\n",
       "      <td>Female</td>\n",
       "      <td>Engineer, building services</td>\n",
       "      <td>None</td>\n",
       "      <td>Catholic</td>\n",
       "      <td>50-59</td>\n",
       "      <td>Other Occupations</td>\n",
       "      <td>2</td>\n",
       "    </tr>\n",
       "    <tr>\n",
       "      <th>1</th>\n",
       "      <td>1</td>\n",
       "      <td>Scott Dale</td>\n",
       "      <td>Rhys</td>\n",
       "      <td>Brown</td>\n",
       "      <td>52</td>\n",
       "      <td>Partner</td>\n",
       "      <td>Single</td>\n",
       "      <td>Male</td>\n",
       "      <td>Engineer, mining</td>\n",
       "      <td>None</td>\n",
       "      <td>Catholic</td>\n",
       "      <td>50-59</td>\n",
       "      <td>Other Occupations</td>\n",
       "      <td>2</td>\n",
       "    </tr>\n",
       "    <tr>\n",
       "      <th>2</th>\n",
       "      <td>2</td>\n",
       "      <td>Scott Dale</td>\n",
       "      <td>Lorraine</td>\n",
       "      <td>Allen</td>\n",
       "      <td>69</td>\n",
       "      <td>Head</td>\n",
       "      <td>Married</td>\n",
       "      <td>Female</td>\n",
       "      <td>Unemployed</td>\n",
       "      <td>None</td>\n",
       "      <td>Methodist</td>\n",
       "      <td>70-79</td>\n",
       "      <td>Unemployed</td>\n",
       "      <td>2</td>\n",
       "    </tr>\n",
       "    <tr>\n",
       "      <th>3</th>\n",
       "      <td>2</td>\n",
       "      <td>Scott Dale</td>\n",
       "      <td>Lewis</td>\n",
       "      <td>Allen</td>\n",
       "      <td>72</td>\n",
       "      <td>Husband</td>\n",
       "      <td>Married</td>\n",
       "      <td>Male</td>\n",
       "      <td>Retired Associate Professor</td>\n",
       "      <td>None</td>\n",
       "      <td>Methodist</td>\n",
       "      <td>70-79</td>\n",
       "      <td>Retired</td>\n",
       "      <td>2</td>\n",
       "    </tr>\n",
       "    <tr>\n",
       "      <th>4</th>\n",
       "      <td>3</td>\n",
       "      <td>Scott Dale</td>\n",
       "      <td>Molly</td>\n",
       "      <td>Patel</td>\n",
       "      <td>36</td>\n",
       "      <td>Head</td>\n",
       "      <td>Married</td>\n",
       "      <td>Female</td>\n",
       "      <td>Engineer, land</td>\n",
       "      <td>None</td>\n",
       "      <td>None</td>\n",
       "      <td>30-39</td>\n",
       "      <td>Other Occupations</td>\n",
       "      <td>2</td>\n",
       "    </tr>\n",
       "    <tr>\n",
       "      <th>...</th>\n",
       "      <td>...</td>\n",
       "      <td>...</td>\n",
       "      <td>...</td>\n",
       "      <td>...</td>\n",
       "      <td>...</td>\n",
       "      <td>...</td>\n",
       "      <td>...</td>\n",
       "      <td>...</td>\n",
       "      <td>...</td>\n",
       "      <td>...</td>\n",
       "      <td>...</td>\n",
       "      <td>...</td>\n",
       "      <td>...</td>\n",
       "      <td>...</td>\n",
       "    </tr>\n",
       "    <tr>\n",
       "      <th>8324</th>\n",
       "      <td>1</td>\n",
       "      <td>Walker Palace</td>\n",
       "      <td>Adrian</td>\n",
       "      <td>Mason</td>\n",
       "      <td>56</td>\n",
       "      <td>Lodger</td>\n",
       "      <td>Single</td>\n",
       "      <td>Male</td>\n",
       "      <td>Unemployed</td>\n",
       "      <td>None</td>\n",
       "      <td>Muslim</td>\n",
       "      <td>50-59</td>\n",
       "      <td>Unemployed</td>\n",
       "      <td>5</td>\n",
       "    </tr>\n",
       "    <tr>\n",
       "      <th>8325</th>\n",
       "      <td>1</td>\n",
       "      <td>Poole Stronghold</td>\n",
       "      <td>Beth</td>\n",
       "      <td>Evans</td>\n",
       "      <td>43</td>\n",
       "      <td>Head</td>\n",
       "      <td>Married</td>\n",
       "      <td>Female</td>\n",
       "      <td>Buyer, retail</td>\n",
       "      <td>None</td>\n",
       "      <td>Christian</td>\n",
       "      <td>40-49</td>\n",
       "      <td>Other Occupations</td>\n",
       "      <td>4</td>\n",
       "    </tr>\n",
       "    <tr>\n",
       "      <th>8326</th>\n",
       "      <td>1</td>\n",
       "      <td>Poole Stronghold</td>\n",
       "      <td>Trevor</td>\n",
       "      <td>Evans</td>\n",
       "      <td>43</td>\n",
       "      <td>Husband</td>\n",
       "      <td>Married</td>\n",
       "      <td>Male</td>\n",
       "      <td>Patent examiner</td>\n",
       "      <td>None</td>\n",
       "      <td>Christian</td>\n",
       "      <td>40-49</td>\n",
       "      <td>Other Occupations</td>\n",
       "      <td>4</td>\n",
       "    </tr>\n",
       "    <tr>\n",
       "      <th>8327</th>\n",
       "      <td>1</td>\n",
       "      <td>Poole Stronghold</td>\n",
       "      <td>Pamela</td>\n",
       "      <td>Evans</td>\n",
       "      <td>0</td>\n",
       "      <td>Daughter</td>\n",
       "      <td>Single Child</td>\n",
       "      <td>Female</td>\n",
       "      <td>Child</td>\n",
       "      <td>None</td>\n",
       "      <td>unidentified-under 16</td>\n",
       "      <td>0-9</td>\n",
       "      <td>Child</td>\n",
       "      <td>4</td>\n",
       "    </tr>\n",
       "    <tr>\n",
       "      <th>8328</th>\n",
       "      <td>1</td>\n",
       "      <td>Poole Stronghold</td>\n",
       "      <td>Carol</td>\n",
       "      <td>Thomas</td>\n",
       "      <td>24</td>\n",
       "      <td>Sibling</td>\n",
       "      <td>Single</td>\n",
       "      <td>Female</td>\n",
       "      <td>Administrator, charities/voluntary organisations</td>\n",
       "      <td>None</td>\n",
       "      <td>Christian</td>\n",
       "      <td>20-29</td>\n",
       "      <td>Other Occupations</td>\n",
       "      <td>4</td>\n",
       "    </tr>\n",
       "  </tbody>\n",
       "</table>\n",
       "<p>8329 rows × 14 columns</p>\n",
       "</div>"
      ],
      "text/plain": [
       "      House Number            Street First Name Surname  Age  \\\n",
       "0                1        Scott Dale    Maureen     Cox   50   \n",
       "1                1        Scott Dale       Rhys   Brown   52   \n",
       "2                2        Scott Dale   Lorraine   Allen   69   \n",
       "3                2        Scott Dale      Lewis   Allen   72   \n",
       "4                3        Scott Dale      Molly   Patel   36   \n",
       "...            ...               ...        ...     ...  ...   \n",
       "8324             1     Walker Palace     Adrian   Mason   56   \n",
       "8325             1  Poole Stronghold       Beth   Evans   43   \n",
       "8326             1  Poole Stronghold     Trevor   Evans   43   \n",
       "8327             1  Poole Stronghold     Pamela   Evans    0   \n",
       "8328             1  Poole Stronghold      Carol  Thomas   24   \n",
       "\n",
       "     Relationship to Head of House Marital Status  Gender  \\\n",
       "0                             Head         Single  Female   \n",
       "1                          Partner         Single    Male   \n",
       "2                             Head        Married  Female   \n",
       "3                          Husband        Married    Male   \n",
       "4                             Head        Married  Female   \n",
       "...                            ...            ...     ...   \n",
       "8324                        Lodger         Single    Male   \n",
       "8325                          Head        Married  Female   \n",
       "8326                       Husband        Married    Male   \n",
       "8327                      Daughter   Single Child  Female   \n",
       "8328                       Sibling         Single  Female   \n",
       "\n",
       "                                            Occupation Infirmity  \\\n",
       "0                          Engineer, building services      None   \n",
       "1                                     Engineer, mining      None   \n",
       "2                                           Unemployed      None   \n",
       "3                          Retired Associate Professor      None   \n",
       "4                                       Engineer, land      None   \n",
       "...                                                ...       ...   \n",
       "8324                                        Unemployed      None   \n",
       "8325                                     Buyer, retail      None   \n",
       "8326                                   Patent examiner      None   \n",
       "8327                                             Child      None   \n",
       "8328  Administrator, charities/voluntary organisations      None   \n",
       "\n",
       "                   Religion AgeGroup Occupation Category  household_occupancy  \n",
       "0                  Catholic    50-59   Other Occupations                    2  \n",
       "1                  Catholic    50-59   Other Occupations                    2  \n",
       "2                 Methodist    70-79          Unemployed                    2  \n",
       "3                 Methodist    70-79             Retired                    2  \n",
       "4                      None    30-39   Other Occupations                    2  \n",
       "...                     ...      ...                 ...                  ...  \n",
       "8324                 Muslim    50-59          Unemployed                    5  \n",
       "8325              Christian    40-49   Other Occupations                    4  \n",
       "8326              Christian    40-49   Other Occupations                    4  \n",
       "8327  unidentified-under 16      0-9               Child                    4  \n",
       "8328              Christian    20-29   Other Occupations                    4  \n",
       "\n",
       "[8329 rows x 14 columns]"
      ]
     },
     "execution_count": 104,
     "metadata": {},
     "output_type": "execute_result"
    }
   ],
   "source": [
    "census_dataframe"
   ]
  },
  {
   "cell_type": "code",
   "execution_count": 105,
   "id": "4dc47f68",
   "metadata": {},
   "outputs": [
    {
     "name": "stdout",
     "output_type": "stream",
     "text": [
      "<class 'pandas.core.frame.DataFrame'>\n",
      "RangeIndex: 8329 entries, 0 to 8328\n",
      "Data columns (total 14 columns):\n",
      " #   Column                         Non-Null Count  Dtype   \n",
      "---  ------                         --------------  -----   \n",
      " 0   House Number                   8329 non-null   int64   \n",
      " 1   Street                         8329 non-null   object  \n",
      " 2   First Name                     8328 non-null   object  \n",
      " 3   Surname                        8329 non-null   object  \n",
      " 4   Age                            8329 non-null   Int64   \n",
      " 5   Relationship to Head of House  8329 non-null   object  \n",
      " 6   Marital Status                 8329 non-null   object  \n",
      " 7   Gender                         8329 non-null   object  \n",
      " 8   Occupation                     8329 non-null   object  \n",
      " 9   Infirmity                      8329 non-null   object  \n",
      " 10  Religion                       8329 non-null   object  \n",
      " 11  AgeGroup                       8329 non-null   category\n",
      " 12  Occupation Category            8329 non-null   object  \n",
      " 13  household_occupancy            8329 non-null   int64   \n",
      "dtypes: Int64(1), category(1), int64(2), object(10)\n",
      "memory usage: 862.7+ KB\n"
     ]
    }
   ],
   "source": [
    "census_dataframe.info()"
   ]
  },
  {
   "cell_type": "code",
   "execution_count": 106,
   "id": "848517ea",
   "metadata": {},
   "outputs": [
    {
     "data": {
      "text/plain": [
       "array([ 2,  3,  1,  4,  5,  6,  7,  9, 10, 11, 12, 15, 16,  8, 18, 22, 20,\n",
       "       14], dtype=int64)"
      ]
     },
     "execution_count": 106,
     "metadata": {},
     "output_type": "execute_result"
    }
   ],
   "source": [
    "census_dataframe[\"household_occupancy\"].unique()"
   ]
  },
  {
   "cell_type": "code",
   "execution_count": 107,
   "id": "8717371c",
   "metadata": {},
   "outputs": [
    {
     "data": {
      "text/plain": [
       "1      697\n",
       "2     1450\n",
       "3     1338\n",
       "4     1916\n",
       "5     1565\n",
       "6      480\n",
       "7      147\n",
       "8       72\n",
       "9       81\n",
       "10     100\n",
       "11     110\n",
       "12     144\n",
       "14      14\n",
       "15      45\n",
       "16      32\n",
       "18      54\n",
       "20      40\n",
       "22      44\n",
       "Name: household_occupancy, dtype: int64"
      ]
     },
     "execution_count": 107,
     "metadata": {},
     "output_type": "execute_result"
    }
   ],
   "source": [
    "census_dataframe['household_occupancy'].value_counts().sort_index()"
   ]
  },
  {
   "cell_type": "code",
   "execution_count": 108,
   "id": "515224d9",
   "metadata": {},
   "outputs": [
    {
     "data": {
      "image/png": "[encoded data removed]",
      "text/plain": [
       "<Figure size 640x480 with 1 Axes>"
      ]
     },
     "metadata": {},
     "output_type": "display_data"
    }
   ],
   "source": [
    "import pandas as pd\n",
    "import matplotlib.pyplot as plt\n",
    "\n",
    "# create a histogram of the household_occupancy column\n",
    "census_dataframe['household_occupancy'].hist(bins=range(1, census_dataframe['household_occupancy'].max()+2))\n",
    "\n",
    "# add labels and title\n",
    "plt.xlabel('Household Occupancy')\n",
    "plt.ylabel('Frequency')\n",
    "plt.title('Histogram of Household Occupancy')\n",
    "\n",
    "# display the plot\n",
    "plt.show()"
   ]
  },
  {
   "cell_type": "markdown",
   "id": "f02a9f3d",
   "metadata": {},
   "source": [
    "From the above Histogram, it is clear that the there is more people live in groups of between 1 and 5 people in a house,we also have 44 houses that can hold upto 22 people, this means this are the kind structures that can handl increasing poplution as more people can share a building "
   ]
  },
  {
   "cell_type": "markdown",
   "id": "f3555771",
   "metadata": {},
   "source": [
    "# Marital Status and Divorce Rates"
   ]
  },
  {
   "cell_type": "code",
   "execution_count": 109,
   "id": "de04da78",
   "metadata": {},
   "outputs": [
    {
     "data": {
      "text/html": [
       "<div>\n",
       "<style scoped>\n",
       "    .dataframe tbody tr th:only-of-type {\n",
       "        vertical-align: middle;\n",
       "    }\n",
       "\n",
       "    .dataframe tbody tr th {\n",
       "        vertical-align: top;\n",
       "    }\n",
       "\n",
       "    .dataframe thead th {\n",
       "        text-align: right;\n",
       "    }\n",
       "</style>\n",
       "<table border=\"1\" class=\"dataframe\">\n",
       "  <thead>\n",
       "    <tr style=\"text-align: right;\">\n",
       "      <th></th>\n",
       "      <th></th>\n",
       "      <th>count</th>\n",
       "      <th>mean</th>\n",
       "      <th>std</th>\n",
       "      <th>min</th>\n",
       "      <th>25%</th>\n",
       "      <th>50%</th>\n",
       "      <th>75%</th>\n",
       "      <th>max</th>\n",
       "    </tr>\n",
       "    <tr>\n",
       "      <th>Marital Status</th>\n",
       "      <th>Gender</th>\n",
       "      <th></th>\n",
       "      <th></th>\n",
       "      <th></th>\n",
       "      <th></th>\n",
       "      <th></th>\n",
       "      <th></th>\n",
       "      <th></th>\n",
       "      <th></th>\n",
       "    </tr>\n",
       "  </thead>\n",
       "  <tbody>\n",
       "    <tr>\n",
       "      <th rowspan=\"2\" valign=\"top\">Divorced</th>\n",
       "      <th>Female</th>\n",
       "      <td>445.0</td>\n",
       "      <td>41.833708</td>\n",
       "      <td>15.973493</td>\n",
       "      <td>18.0</td>\n",
       "      <td>30.0</td>\n",
       "      <td>40.0</td>\n",
       "      <td>51.0</td>\n",
       "      <td>88.0</td>\n",
       "    </tr>\n",
       "    <tr>\n",
       "      <th>Male</th>\n",
       "      <td>299.0</td>\n",
       "      <td>39.719064</td>\n",
       "      <td>17.743928</td>\n",
       "      <td>18.0</td>\n",
       "      <td>25.0</td>\n",
       "      <td>37.0</td>\n",
       "      <td>49.5</td>\n",
       "      <td>102.0</td>\n",
       "    </tr>\n",
       "    <tr>\n",
       "      <th rowspan=\"2\" valign=\"top\">Married</th>\n",
       "      <th>Female</th>\n",
       "      <td>1117.0</td>\n",
       "      <td>49.273053</td>\n",
       "      <td>15.822371</td>\n",
       "      <td>16.0</td>\n",
       "      <td>37.0</td>\n",
       "      <td>48.0</td>\n",
       "      <td>60.0</td>\n",
       "      <td>105.0</td>\n",
       "    </tr>\n",
       "    <tr>\n",
       "      <th>Male</th>\n",
       "      <td>1109.0</td>\n",
       "      <td>51.356177</td>\n",
       "      <td>16.048334</td>\n",
       "      <td>18.0</td>\n",
       "      <td>39.0</td>\n",
       "      <td>50.0</td>\n",
       "      <td>63.0</td>\n",
       "      <td>106.0</td>\n",
       "    </tr>\n",
       "    <tr>\n",
       "      <th rowspan=\"2\" valign=\"top\">Single</th>\n",
       "      <th>Female</th>\n",
       "      <td>1532.0</td>\n",
       "      <td>37.875979</td>\n",
       "      <td>14.266898</td>\n",
       "      <td>18.0</td>\n",
       "      <td>25.0</td>\n",
       "      <td>37.0</td>\n",
       "      <td>48.0</td>\n",
       "      <td>97.0</td>\n",
       "    </tr>\n",
       "    <tr>\n",
       "      <th>Male</th>\n",
       "      <td>1411.0</td>\n",
       "      <td>37.489724</td>\n",
       "      <td>14.046695</td>\n",
       "      <td>11.0</td>\n",
       "      <td>25.0</td>\n",
       "      <td>36.0</td>\n",
       "      <td>48.0</td>\n",
       "      <td>88.0</td>\n",
       "    </tr>\n",
       "    <tr>\n",
       "      <th rowspan=\"2\" valign=\"top\">Single Child</th>\n",
       "      <th>Female</th>\n",
       "      <td>247.0</td>\n",
       "      <td>2.153846</td>\n",
       "      <td>1.402892</td>\n",
       "      <td>0.0</td>\n",
       "      <td>1.0</td>\n",
       "      <td>2.0</td>\n",
       "      <td>3.0</td>\n",
       "      <td>4.0</td>\n",
       "    </tr>\n",
       "    <tr>\n",
       "      <th>Male</th>\n",
       "      <td>253.0</td>\n",
       "      <td>2.043478</td>\n",
       "      <td>1.351838</td>\n",
       "      <td>0.0</td>\n",
       "      <td>1.0</td>\n",
       "      <td>2.0</td>\n",
       "      <td>3.0</td>\n",
       "      <td>4.0</td>\n",
       "    </tr>\n",
       "    <tr>\n",
       "      <th rowspan=\"2\" valign=\"top\">Single Student</th>\n",
       "      <th>Female</th>\n",
       "      <td>755.0</td>\n",
       "      <td>10.931126</td>\n",
       "      <td>3.716123</td>\n",
       "      <td>5.0</td>\n",
       "      <td>8.0</td>\n",
       "      <td>11.0</td>\n",
       "      <td>14.0</td>\n",
       "      <td>17.0</td>\n",
       "    </tr>\n",
       "    <tr>\n",
       "      <th>Male</th>\n",
       "      <td>801.0</td>\n",
       "      <td>11.092385</td>\n",
       "      <td>3.714694</td>\n",
       "      <td>5.0</td>\n",
       "      <td>8.0</td>\n",
       "      <td>11.0</td>\n",
       "      <td>14.0</td>\n",
       "      <td>17.0</td>\n",
       "    </tr>\n",
       "    <tr>\n",
       "      <th rowspan=\"2\" valign=\"top\">Widowed</th>\n",
       "      <th>Female</th>\n",
       "      <td>206.0</td>\n",
       "      <td>62.825243</td>\n",
       "      <td>20.236132</td>\n",
       "      <td>18.0</td>\n",
       "      <td>45.0</td>\n",
       "      <td>69.0</td>\n",
       "      <td>76.0</td>\n",
       "      <td>105.0</td>\n",
       "    </tr>\n",
       "    <tr>\n",
       "      <th>Male</th>\n",
       "      <td>154.0</td>\n",
       "      <td>61.045455</td>\n",
       "      <td>20.587877</td>\n",
       "      <td>18.0</td>\n",
       "      <td>45.0</td>\n",
       "      <td>67.5</td>\n",
       "      <td>76.0</td>\n",
       "      <td>95.0</td>\n",
       "    </tr>\n",
       "  </tbody>\n",
       "</table>\n",
       "</div>"
      ],
      "text/plain": [
       "                        count       mean        std   min   25%   50%   75%  \\\n",
       "Marital Status Gender                                                         \n",
       "Divorced       Female   445.0  41.833708  15.973493  18.0  30.0  40.0  51.0   \n",
       "               Male     299.0  39.719064  17.743928  18.0  25.0  37.0  49.5   \n",
       "Married        Female  1117.0  49.273053  15.822371  16.0  37.0  48.0  60.0   \n",
       "               Male    1109.0  51.356177  16.048334  18.0  39.0  50.0  63.0   \n",
       "Single         Female  1532.0  37.875979  14.266898  18.0  25.0  37.0  48.0   \n",
       "               Male    1411.0  37.489724  14.046695  11.0  25.0  36.0  48.0   \n",
       "Single Child   Female   247.0   2.153846   1.402892   0.0   1.0   2.0   3.0   \n",
       "               Male     253.0   2.043478   1.351838   0.0   1.0   2.0   3.0   \n",
       "Single Student Female   755.0  10.931126   3.716123   5.0   8.0  11.0  14.0   \n",
       "               Male     801.0  11.092385   3.714694   5.0   8.0  11.0  14.0   \n",
       "Widowed        Female   206.0  62.825243  20.236132  18.0  45.0  69.0  76.0   \n",
       "               Male     154.0  61.045455  20.587877  18.0  45.0  67.5  76.0   \n",
       "\n",
       "                         max  \n",
       "Marital Status Gender         \n",
       "Divorced       Female   88.0  \n",
       "               Male    102.0  \n",
       "Married        Female  105.0  \n",
       "               Male    106.0  \n",
       "Single         Female   97.0  \n",
       "               Male     88.0  \n",
       "Single Child   Female    4.0  \n",
       "               Male      4.0  \n",
       "Single Student Female   17.0  \n",
       "               Male     17.0  \n",
       "Widowed        Female  105.0  \n",
       "               Male     95.0  "
      ]
     },
     "execution_count": 109,
     "metadata": {},
     "output_type": "execute_result"
    }
   ],
   "source": [
    "#group the data by marital status and gender and calculate descriptive statistics for the age column\n",
    "age_statistics = census_dataframe.groupby(['Marital Status', 'Gender'])['Age'].describe()\n",
    "age_statistics"
   ]
  },
  {
   "cell_type": "markdown",
   "id": "0e3609c9",
   "metadata": {},
   "source": [
    "The information on the Divorced rate shows that there are more divorced females as compared to males, the possibility of this that some divorced females moved into the town or divorced males left the town, We also have more widowed females ads compared to males, a case that maybe more married men died as compared to females, or some widowed females moved into the town."
   ]
  },
  {
   "cell_type": "code",
   "execution_count": 110,
   "id": "dbc83aed",
   "metadata": {},
   "outputs": [
    {
     "data": {
      "text/plain": [
       "Text(0.5, 1.0, 'Age by Marital Status')"
      ]
     },
     "execution_count": 110,
     "metadata": {},
     "output_type": "execute_result"
    },
    {
     "data": {
      "image/png": "[encoded data removed]",
      "text/plain": [
       "<Figure size 1000x600 with 1 Axes>"
      ]
     },
     "metadata": {},
     "output_type": "display_data"
    }
   ],
   "source": [
    "import matplotlib.pyplot as plt\n",
    "# Define the colors for the box plot elements\n",
    "colors = {\n",
    "    'boxes': 'red',\n",
    "    'whiskers': 'blue',\n",
    "    'caps': 'green',\n",
    "    'medians': 'orange'\n",
    "}\n",
    "\n",
    "# Create a box plot of the age column for each religion category with custom colors\n",
    "census_dataframe.boxplot(column='Age', by='Marital Status', figsize=(10, 6), color=colors)\n",
    "\n",
    "# Add labels and title\n",
    "plt.xlabel('Marital Status')\n",
    "plt.ylabel('Age')\n",
    "plt.title('Age by Marital Status')"
   ]
  },
  {
   "cell_type": "markdown",
   "id": "cf1ce96d",
   "metadata": {},
   "source": [
    "The mean Divorce age is lower than the married age, so it means at the age of 39, most couples have a higer chances of divorce than later in life, the sigle and divorced have a closer mean age. People are likey to get widowed later in life at around age 62 years. in terms of housing and based on the data, we need a hosehold that can host more memmber as at around the age 45 according to the age pyramid is when people are actually married and have a family hence require high density housing"
   ]
  },
  {
   "cell_type": "code",
   "execution_count": 111,
   "id": "bc6541e8",
   "metadata": {},
   "outputs": [
    {
     "data": {
      "image/png": "[encoded data removed]",
      "text/plain": [
       "<Figure size 640x480 with 1 Axes>"
      ]
     },
     "metadata": {},
     "output_type": "display_data"
    }
   ],
   "source": [
    "import pandas as pd\n",
    "import matplotlib.pyplot as plt\n",
    "\n",
    "# calculate the divorce rate by age group and gender\n",
    "divorce_rate = census_dataframe[census_dataframe['Marital Status'] == 'Divorced'].groupby(['AgeGroup', 'Gender']).size() / census_dataframe.groupby(['AgeGroup', 'Gender']).size()\n",
    "\n",
    "# unstack the data to create a bar chart\n",
    "divorce_rate.unstack().plot(kind='bar')\n",
    "\n",
    "# add labels and title\n",
    "plt.xlabel('Age Group')\n",
    "plt.ylabel('Divorce Rate')\n",
    "plt.title('Divorce Rate by Age Group and Gender')\n",
    "\n",
    "# display the plot\n",
    "plt.show()"
   ]
  },
  {
   "cell_type": "markdown",
   "id": "e86bc84d",
   "metadata": {},
   "source": [
    "The graph shows clearly females have a  higher divorce rate than the males between the age of 30 to 79 years, however it clear that females remain within the town after a divorce as compared to males."
   ]
  },
  {
   "cell_type": "code",
   "execution_count": 112,
   "id": "f41ef5d3",
   "metadata": {},
   "outputs": [
    {
     "name": "stdout",
     "output_type": "stream",
     "text": [
      "<class 'pandas.core.frame.DataFrame'>\n",
      "RangeIndex: 8329 entries, 0 to 8328\n",
      "Data columns (total 14 columns):\n",
      " #   Column                         Non-Null Count  Dtype   \n",
      "---  ------                         --------------  -----   \n",
      " 0   House Number                   8329 non-null   int64   \n",
      " 1   Street                         8329 non-null   object  \n",
      " 2   First Name                     8328 non-null   object  \n",
      " 3   Surname                        8329 non-null   object  \n",
      " 4   Age                            8329 non-null   Int64   \n",
      " 5   Relationship to Head of House  8329 non-null   object  \n",
      " 6   Marital Status                 8329 non-null   object  \n",
      " 7   Gender                         8329 non-null   object  \n",
      " 8   Occupation                     8329 non-null   object  \n",
      " 9   Infirmity                      8329 non-null   object  \n",
      " 10  Religion                       8329 non-null   object  \n",
      " 11  AgeGroup                       8329 non-null   category\n",
      " 12  Occupation Category            8329 non-null   object  \n",
      " 13  household_occupancy            8329 non-null   int64   \n",
      "dtypes: Int64(1), category(1), int64(2), object(10)\n",
      "memory usage: 862.7+ KB\n"
     ]
    }
   ],
   "source": [
    "census_dataframe.info()"
   ]
  },
  {
   "cell_type": "code",
   "execution_count": 113,
   "id": "94b7e62d",
   "metadata": {},
   "outputs": [
    {
     "data": {
      "text/html": [
       "<div>\n",
       "<style scoped>\n",
       "    .dataframe tbody tr th:only-of-type {\n",
       "        vertical-align: middle;\n",
       "    }\n",
       "\n",
       "    .dataframe tbody tr th {\n",
       "        vertical-align: top;\n",
       "    }\n",
       "\n",
       "    .dataframe thead th {\n",
       "        text-align: right;\n",
       "    }\n",
       "</style>\n",
       "<table border=\"1\" class=\"dataframe\">\n",
       "  <thead>\n",
       "    <tr style=\"text-align: right;\">\n",
       "      <th></th>\n",
       "      <th>House Number</th>\n",
       "      <th>Street</th>\n",
       "      <th>First Name</th>\n",
       "      <th>Surname</th>\n",
       "      <th>Age</th>\n",
       "      <th>Relationship to Head of House</th>\n",
       "      <th>Marital Status</th>\n",
       "      <th>Gender</th>\n",
       "      <th>Occupation</th>\n",
       "      <th>Infirmity</th>\n",
       "      <th>Religion</th>\n",
       "      <th>AgeGroup</th>\n",
       "      <th>Occupation Category</th>\n",
       "      <th>household_occupancy</th>\n",
       "    </tr>\n",
       "  </thead>\n",
       "  <tbody>\n",
       "    <tr>\n",
       "      <th>0</th>\n",
       "      <td>1</td>\n",
       "      <td>Scott Dale</td>\n",
       "      <td>Maureen</td>\n",
       "      <td>Cox</td>\n",
       "      <td>50</td>\n",
       "      <td>Head</td>\n",
       "      <td>Single</td>\n",
       "      <td>Female</td>\n",
       "      <td>Engineer, building services</td>\n",
       "      <td>None</td>\n",
       "      <td>Catholic</td>\n",
       "      <td>50-59</td>\n",
       "      <td>Other Occupations</td>\n",
       "      <td>2</td>\n",
       "    </tr>\n",
       "    <tr>\n",
       "      <th>1</th>\n",
       "      <td>1</td>\n",
       "      <td>Scott Dale</td>\n",
       "      <td>Rhys</td>\n",
       "      <td>Brown</td>\n",
       "      <td>52</td>\n",
       "      <td>Partner</td>\n",
       "      <td>Single</td>\n",
       "      <td>Male</td>\n",
       "      <td>Engineer, mining</td>\n",
       "      <td>None</td>\n",
       "      <td>Catholic</td>\n",
       "      <td>50-59</td>\n",
       "      <td>Other Occupations</td>\n",
       "      <td>2</td>\n",
       "    </tr>\n",
       "    <tr>\n",
       "      <th>2</th>\n",
       "      <td>2</td>\n",
       "      <td>Scott Dale</td>\n",
       "      <td>Lorraine</td>\n",
       "      <td>Allen</td>\n",
       "      <td>69</td>\n",
       "      <td>Head</td>\n",
       "      <td>Married</td>\n",
       "      <td>Female</td>\n",
       "      <td>Unemployed</td>\n",
       "      <td>None</td>\n",
       "      <td>Methodist</td>\n",
       "      <td>70-79</td>\n",
       "      <td>Unemployed</td>\n",
       "      <td>2</td>\n",
       "    </tr>\n",
       "    <tr>\n",
       "      <th>3</th>\n",
       "      <td>2</td>\n",
       "      <td>Scott Dale</td>\n",
       "      <td>Lewis</td>\n",
       "      <td>Allen</td>\n",
       "      <td>72</td>\n",
       "      <td>Husband</td>\n",
       "      <td>Married</td>\n",
       "      <td>Male</td>\n",
       "      <td>Retired Associate Professor</td>\n",
       "      <td>None</td>\n",
       "      <td>Methodist</td>\n",
       "      <td>70-79</td>\n",
       "      <td>Retired</td>\n",
       "      <td>2</td>\n",
       "    </tr>\n",
       "    <tr>\n",
       "      <th>4</th>\n",
       "      <td>3</td>\n",
       "      <td>Scott Dale</td>\n",
       "      <td>Molly</td>\n",
       "      <td>Patel</td>\n",
       "      <td>36</td>\n",
       "      <td>Head</td>\n",
       "      <td>Married</td>\n",
       "      <td>Female</td>\n",
       "      <td>Engineer, land</td>\n",
       "      <td>None</td>\n",
       "      <td>None</td>\n",
       "      <td>30-39</td>\n",
       "      <td>Other Occupations</td>\n",
       "      <td>2</td>\n",
       "    </tr>\n",
       "    <tr>\n",
       "      <th>...</th>\n",
       "      <td>...</td>\n",
       "      <td>...</td>\n",
       "      <td>...</td>\n",
       "      <td>...</td>\n",
       "      <td>...</td>\n",
       "      <td>...</td>\n",
       "      <td>...</td>\n",
       "      <td>...</td>\n",
       "      <td>...</td>\n",
       "      <td>...</td>\n",
       "      <td>...</td>\n",
       "      <td>...</td>\n",
       "      <td>...</td>\n",
       "      <td>...</td>\n",
       "    </tr>\n",
       "    <tr>\n",
       "      <th>8324</th>\n",
       "      <td>1</td>\n",
       "      <td>Walker Palace</td>\n",
       "      <td>Adrian</td>\n",
       "      <td>Mason</td>\n",
       "      <td>56</td>\n",
       "      <td>Lodger</td>\n",
       "      <td>Single</td>\n",
       "      <td>Male</td>\n",
       "      <td>Unemployed</td>\n",
       "      <td>None</td>\n",
       "      <td>Muslim</td>\n",
       "      <td>50-59</td>\n",
       "      <td>Unemployed</td>\n",
       "      <td>5</td>\n",
       "    </tr>\n",
       "    <tr>\n",
       "      <th>8325</th>\n",
       "      <td>1</td>\n",
       "      <td>Poole Stronghold</td>\n",
       "      <td>Beth</td>\n",
       "      <td>Evans</td>\n",
       "      <td>43</td>\n",
       "      <td>Head</td>\n",
       "      <td>Married</td>\n",
       "      <td>Female</td>\n",
       "      <td>Buyer, retail</td>\n",
       "      <td>None</td>\n",
       "      <td>Christian</td>\n",
       "      <td>40-49</td>\n",
       "      <td>Other Occupations</td>\n",
       "      <td>4</td>\n",
       "    </tr>\n",
       "    <tr>\n",
       "      <th>8326</th>\n",
       "      <td>1</td>\n",
       "      <td>Poole Stronghold</td>\n",
       "      <td>Trevor</td>\n",
       "      <td>Evans</td>\n",
       "      <td>43</td>\n",
       "      <td>Husband</td>\n",
       "      <td>Married</td>\n",
       "      <td>Male</td>\n",
       "      <td>Patent examiner</td>\n",
       "      <td>None</td>\n",
       "      <td>Christian</td>\n",
       "      <td>40-49</td>\n",
       "      <td>Other Occupations</td>\n",
       "      <td>4</td>\n",
       "    </tr>\n",
       "    <tr>\n",
       "      <th>8327</th>\n",
       "      <td>1</td>\n",
       "      <td>Poole Stronghold</td>\n",
       "      <td>Pamela</td>\n",
       "      <td>Evans</td>\n",
       "      <td>0</td>\n",
       "      <td>Daughter</td>\n",
       "      <td>Single Child</td>\n",
       "      <td>Female</td>\n",
       "      <td>Child</td>\n",
       "      <td>None</td>\n",
       "      <td>unidentified-under 16</td>\n",
       "      <td>0-9</td>\n",
       "      <td>Child</td>\n",
       "      <td>4</td>\n",
       "    </tr>\n",
       "    <tr>\n",
       "      <th>8328</th>\n",
       "      <td>1</td>\n",
       "      <td>Poole Stronghold</td>\n",
       "      <td>Carol</td>\n",
       "      <td>Thomas</td>\n",
       "      <td>24</td>\n",
       "      <td>Sibling</td>\n",
       "      <td>Single</td>\n",
       "      <td>Female</td>\n",
       "      <td>Administrator, charities/voluntary organisations</td>\n",
       "      <td>None</td>\n",
       "      <td>Christian</td>\n",
       "      <td>20-29</td>\n",
       "      <td>Other Occupations</td>\n",
       "      <td>4</td>\n",
       "    </tr>\n",
       "  </tbody>\n",
       "</table>\n",
       "<p>8329 rows × 14 columns</p>\n",
       "</div>"
      ],
      "text/plain": [
       "      House Number            Street First Name Surname  Age  \\\n",
       "0                1        Scott Dale    Maureen     Cox   50   \n",
       "1                1        Scott Dale       Rhys   Brown   52   \n",
       "2                2        Scott Dale   Lorraine   Allen   69   \n",
       "3                2        Scott Dale      Lewis   Allen   72   \n",
       "4                3        Scott Dale      Molly   Patel   36   \n",
       "...            ...               ...        ...     ...  ...   \n",
       "8324             1     Walker Palace     Adrian   Mason   56   \n",
       "8325             1  Poole Stronghold       Beth   Evans   43   \n",
       "8326             1  Poole Stronghold     Trevor   Evans   43   \n",
       "8327             1  Poole Stronghold     Pamela   Evans    0   \n",
       "8328             1  Poole Stronghold      Carol  Thomas   24   \n",
       "\n",
       "     Relationship to Head of House Marital Status  Gender  \\\n",
       "0                             Head         Single  Female   \n",
       "1                          Partner         Single    Male   \n",
       "2                             Head        Married  Female   \n",
       "3                          Husband        Married    Male   \n",
       "4                             Head        Married  Female   \n",
       "...                            ...            ...     ...   \n",
       "8324                        Lodger         Single    Male   \n",
       "8325                          Head        Married  Female   \n",
       "8326                       Husband        Married    Male   \n",
       "8327                      Daughter   Single Child  Female   \n",
       "8328                       Sibling         Single  Female   \n",
       "\n",
       "                                            Occupation Infirmity  \\\n",
       "0                          Engineer, building services      None   \n",
       "1                                     Engineer, mining      None   \n",
       "2                                           Unemployed      None   \n",
       "3                          Retired Associate Professor      None   \n",
       "4                                       Engineer, land      None   \n",
       "...                                                ...       ...   \n",
       "8324                                        Unemployed      None   \n",
       "8325                                     Buyer, retail      None   \n",
       "8326                                   Patent examiner      None   \n",
       "8327                                             Child      None   \n",
       "8328  Administrator, charities/voluntary organisations      None   \n",
       "\n",
       "                   Religion AgeGroup Occupation Category  household_occupancy  \n",
       "0                  Catholic    50-59   Other Occupations                    2  \n",
       "1                  Catholic    50-59   Other Occupations                    2  \n",
       "2                 Methodist    70-79          Unemployed                    2  \n",
       "3                 Methodist    70-79             Retired                    2  \n",
       "4                      None    30-39   Other Occupations                    2  \n",
       "...                     ...      ...                 ...                  ...  \n",
       "8324                 Muslim    50-59          Unemployed                    5  \n",
       "8325              Christian    40-49   Other Occupations                    4  \n",
       "8326              Christian    40-49   Other Occupations                    4  \n",
       "8327  unidentified-under 16      0-9               Child                    4  \n",
       "8328              Christian    20-29   Other Occupations                    4  \n",
       "\n",
       "[8329 rows x 14 columns]"
      ]
     },
     "execution_count": 113,
     "metadata": {},
     "output_type": "execute_result"
    }
   ],
   "source": [
    "census_dataframe"
   ]
  },
  {
   "cell_type": "code",
   "execution_count": null,
   "id": "f6fba148",
   "metadata": {},
   "outputs": [],
   "source": []
  }
 ],
 "metadata": {
  "kernelspec": {
   "display_name": "Python 3 (ipykernel)",
   "language": "python",
   "name": "python3"
  },
  "language_info": {
   "codemirror_mode": {
    "name": "ipython",
    "version": 3
   },
   "file_extension": ".py",
   "mimetype": "text/x-python",
   "name": "python",
   "nbconvert_exporter": "python",
   "pygments_lexer": "ipython3",
   "version": "3.10.6"
  }
 },
 "nbformat": 4,
 "nbformat_minor": 5
}
